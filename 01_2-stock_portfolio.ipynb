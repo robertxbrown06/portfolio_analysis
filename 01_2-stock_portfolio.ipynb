{
 "cells": [
  {
   "cell_type": "markdown",
   "metadata": {
    "toc": true
   },
   "source": [
    "<h1>Table of Contents<span class=\"tocSkip\"></span></h1>\n",
    "<div class=\"toc\"><ul class=\"toc-item\"></ul></div>"
   ]
  },
  {
   "cell_type": "markdown",
   "metadata": {},
   "source": [
    "# Forming a two-stock portfolio"
   ]
  },
  {
   "cell_type": "code",
   "execution_count": 1,
   "metadata": {},
   "outputs": [],
   "source": [
    "import pandas_datareader.data as web\n",
    "import numpy as np, pandas as pd\n",
    "from datetime import datetime\n",
    "import matplotlib.pyplot as plt\n",
    "import seaborn as sns\n",
    "sns.set_style(\"darkgrid\")\n",
    "%matplotlib inline\n",
    "p = print"
   ]
  },
  {
   "cell_type": "code",
   "execution_count": 2,
   "metadata": {},
   "outputs": [
    {
     "data": {
      "text/html": [
       "<div>\n",
       "<style scoped>\n",
       "    .dataframe tbody tr th:only-of-type {\n",
       "        vertical-align: middle;\n",
       "    }\n",
       "\n",
       "    .dataframe tbody tr th {\n",
       "        vertical-align: top;\n",
       "    }\n",
       "\n",
       "    .dataframe thead th {\n",
       "        text-align: right;\n",
       "    }\n",
       "</style>\n",
       "<table border=\"1\" class=\"dataframe\">\n",
       "  <thead>\n",
       "    <tr style=\"text-align: right;\">\n",
       "      <th></th>\n",
       "      <th>High</th>\n",
       "      <th>Low</th>\n",
       "      <th>Open</th>\n",
       "      <th>Close</th>\n",
       "      <th>Volume</th>\n",
       "      <th>Adj Close</th>\n",
       "    </tr>\n",
       "    <tr>\n",
       "      <th>Date</th>\n",
       "      <th></th>\n",
       "      <th></th>\n",
       "      <th></th>\n",
       "      <th></th>\n",
       "      <th></th>\n",
       "      <th></th>\n",
       "    </tr>\n",
       "  </thead>\n",
       "  <tbody>\n",
       "    <tr>\n",
       "      <th>2010-01-04</th>\n",
       "      <td>30.642857</td>\n",
       "      <td>30.340000</td>\n",
       "      <td>30.490000</td>\n",
       "      <td>30.572857</td>\n",
       "      <td>123432400.0</td>\n",
       "      <td>26.601469</td>\n",
       "    </tr>\n",
       "    <tr>\n",
       "      <th>2010-01-05</th>\n",
       "      <td>30.798571</td>\n",
       "      <td>30.464285</td>\n",
       "      <td>30.657143</td>\n",
       "      <td>30.625713</td>\n",
       "      <td>150476200.0</td>\n",
       "      <td>26.647457</td>\n",
       "    </tr>\n",
       "    <tr>\n",
       "      <th>2010-01-06</th>\n",
       "      <td>30.747143</td>\n",
       "      <td>30.107143</td>\n",
       "      <td>30.625713</td>\n",
       "      <td>30.138571</td>\n",
       "      <td>138040000.0</td>\n",
       "      <td>26.223597</td>\n",
       "    </tr>\n",
       "    <tr>\n",
       "      <th>2010-01-07</th>\n",
       "      <td>30.285715</td>\n",
       "      <td>29.864286</td>\n",
       "      <td>30.250000</td>\n",
       "      <td>30.082857</td>\n",
       "      <td>119282800.0</td>\n",
       "      <td>26.175119</td>\n",
       "    </tr>\n",
       "    <tr>\n",
       "      <th>2010-01-08</th>\n",
       "      <td>30.285715</td>\n",
       "      <td>29.865715</td>\n",
       "      <td>30.042856</td>\n",
       "      <td>30.282858</td>\n",
       "      <td>111902700.0</td>\n",
       "      <td>26.349140</td>\n",
       "    </tr>\n",
       "  </tbody>\n",
       "</table>\n",
       "</div>"
      ],
      "text/plain": [
       "                 High        Low       Open      Close       Volume  Adj Close\n",
       "Date                                                                          \n",
       "2010-01-04  30.642857  30.340000  30.490000  30.572857  123432400.0  26.601469\n",
       "2010-01-05  30.798571  30.464285  30.657143  30.625713  150476200.0  26.647457\n",
       "2010-01-06  30.747143  30.107143  30.625713  30.138571  138040000.0  26.223597\n",
       "2010-01-07  30.285715  29.864286  30.250000  30.082857  119282800.0  26.175119\n",
       "2010-01-08  30.285715  29.865715  30.042856  30.282858  111902700.0  26.349140"
      ]
     },
     "execution_count": 2,
     "metadata": {},
     "output_type": "execute_result"
    }
   ],
   "source": [
    "ticker = 'AAPL'\n",
    "df = web.DataReader(ticker,'yahoo','01/01/2010','10/18/2019')\n",
    "df.head(n=5)"
   ]
  },
  {
   "cell_type": "code",
   "execution_count": 3,
   "metadata": {},
   "outputs": [
    {
     "data": {
      "text/html": [
       "<div>\n",
       "<style scoped>\n",
       "    .dataframe tbody tr th:only-of-type {\n",
       "        vertical-align: middle;\n",
       "    }\n",
       "\n",
       "    .dataframe tbody tr th {\n",
       "        vertical-align: top;\n",
       "    }\n",
       "\n",
       "    .dataframe thead th {\n",
       "        text-align: right;\n",
       "    }\n",
       "</style>\n",
       "<table border=\"1\" class=\"dataframe\">\n",
       "  <thead>\n",
       "    <tr style=\"text-align: right;\">\n",
       "      <th></th>\n",
       "      <th>High</th>\n",
       "      <th>Low</th>\n",
       "      <th>Open</th>\n",
       "      <th>Close</th>\n",
       "      <th>Volume</th>\n",
       "      <th>Adj Close</th>\n",
       "    </tr>\n",
       "    <tr>\n",
       "      <th>Date</th>\n",
       "      <th></th>\n",
       "      <th></th>\n",
       "      <th></th>\n",
       "      <th></th>\n",
       "      <th></th>\n",
       "      <th></th>\n",
       "    </tr>\n",
       "  </thead>\n",
       "  <tbody>\n",
       "    <tr>\n",
       "      <th>2019-10-14</th>\n",
       "      <td>238.130005</td>\n",
       "      <td>234.669998</td>\n",
       "      <td>234.899994</td>\n",
       "      <td>235.869995</td>\n",
       "      <td>24106900.0</td>\n",
       "      <td>235.163971</td>\n",
       "    </tr>\n",
       "    <tr>\n",
       "      <th>2019-10-15</th>\n",
       "      <td>237.649994</td>\n",
       "      <td>234.880005</td>\n",
       "      <td>236.389999</td>\n",
       "      <td>235.320007</td>\n",
       "      <td>21840000.0</td>\n",
       "      <td>234.615631</td>\n",
       "    </tr>\n",
       "    <tr>\n",
       "      <th>2019-10-16</th>\n",
       "      <td>235.240005</td>\n",
       "      <td>233.199997</td>\n",
       "      <td>233.369995</td>\n",
       "      <td>234.369995</td>\n",
       "      <td>18475800.0</td>\n",
       "      <td>233.668457</td>\n",
       "    </tr>\n",
       "    <tr>\n",
       "      <th>2019-10-17</th>\n",
       "      <td>236.149994</td>\n",
       "      <td>233.520004</td>\n",
       "      <td>235.089996</td>\n",
       "      <td>235.279999</td>\n",
       "      <td>16896300.0</td>\n",
       "      <td>234.575745</td>\n",
       "    </tr>\n",
       "    <tr>\n",
       "      <th>2019-10-18</th>\n",
       "      <td>237.580002</td>\n",
       "      <td>234.289993</td>\n",
       "      <td>234.589996</td>\n",
       "      <td>236.410004</td>\n",
       "      <td>24358400.0</td>\n",
       "      <td>235.702362</td>\n",
       "    </tr>\n",
       "  </tbody>\n",
       "</table>\n",
       "</div>"
      ],
      "text/plain": [
       "                  High         Low        Open       Close      Volume  \\\n",
       "Date                                                                     \n",
       "2019-10-14  238.130005  234.669998  234.899994  235.869995  24106900.0   \n",
       "2019-10-15  237.649994  234.880005  236.389999  235.320007  21840000.0   \n",
       "2019-10-16  235.240005  233.199997  233.369995  234.369995  18475800.0   \n",
       "2019-10-17  236.149994  233.520004  235.089996  235.279999  16896300.0   \n",
       "2019-10-18  237.580002  234.289993  234.589996  236.410004  24358400.0   \n",
       "\n",
       "             Adj Close  \n",
       "Date                    \n",
       "2019-10-14  235.163971  \n",
       "2019-10-15  234.615631  \n",
       "2019-10-16  233.668457  \n",
       "2019-10-17  234.575745  \n",
       "2019-10-18  235.702362  "
      ]
     },
     "execution_count": 3,
     "metadata": {},
     "output_type": "execute_result"
    }
   ],
   "source": [
    "df.tail(n=5)"
   ]
  },
  {
   "cell_type": "code",
   "execution_count": 4,
   "metadata": {},
   "outputs": [
    {
     "data": {
      "text/plain": [
       "Date\n",
       "2010-01-05    0.001729\n",
       "2010-01-06   -0.015906\n",
       "2010-01-07   -0.001849\n",
       "2010-01-08    0.006648\n",
       "2010-01-11   -0.008821\n",
       "Name: Adj Close, dtype: float64"
      ]
     },
     "execution_count": 4,
     "metadata": {},
     "output_type": "execute_result"
    }
   ],
   "source": [
    "# daily returns series\n",
    "returns = df['Adj Close'].pct_change().dropna()\n",
    "returns.head()"
   ]
  },
  {
   "cell_type": "code",
   "execution_count": 5,
   "metadata": {},
   "outputs": [
    {
     "data": {
      "text/plain": [
       "Date\n",
       "2019-10-14   -0.001439\n",
       "2019-10-15   -0.002332\n",
       "2019-10-16   -0.004037\n",
       "2019-10-17    0.003883\n",
       "2019-10-18    0.004803\n",
       "Name: Adj Close, dtype: float64"
      ]
     },
     "execution_count": 5,
     "metadata": {},
     "output_type": "execute_result"
    }
   ],
   "source": [
    "returns.tail()"
   ]
  },
  {
   "cell_type": "code",
   "execution_count": 6,
   "metadata": {},
   "outputs": [
    {
     "name": "stdout",
     "output_type": "stream",
     "text": [
      "The mean daily return is 0.001019.\n",
      "The standatd deviation of daily returns (volatitliy) is 1.63%.\n"
     ]
    }
   ],
   "source": [
    "mean = returns.mean()\n",
    "stdev = returns.std()\n",
    "p(f'The mean daily return is {round(mean,6)}.')\n",
    "p(f'The standatd deviation of daily returns (volatitliy) is {round(stdev,4)*100}%.')"
   ]
  },
  {
   "cell_type": "code",
   "execution_count": 7,
   "metadata": {},
   "outputs": [
    {
     "name": "stdout",
     "output_type": "stream",
     "text": [
      "The 10-day mean return is 1.01858%, and 10-day volatiltiy is 5.16%.\n"
     ]
    }
   ],
   "source": [
    "nDays = 10\n",
    "ret_10d = mean * nDays\n",
    "vol_10d = stdev * np.sqrt(nDays)\n",
    "p(f'The {nDays}-day mean return is {round(ret_10d*100,6)}%, and {nDays}-day volatiltiy is {round(vol_10d,4)*100}%.')"
   ]
  },
  {
   "cell_type": "code",
   "execution_count": null,
   "metadata": {},
   "outputs": [
    {
     "name": "stdout",
     "output_type": "stream",
     "text": [
      "The 252-day return is 25.669999999999998%, and 252-day volatiltiy is 25.89%.\n"
     ]
    }
   ],
   "source": [
    "# one year is approximately 252 trading days\n",
    "nDays = 252\n",
    "ret_252d = mean * nDays\n",
    "vol_252d = stdev * np.sqrt(nDays)\n",
    "p(f'The {nDays}-day return is {round(ret_252d,4)*100}%, and {nDays}-day volatiltiy is {round(vol_252d,4)*100}%.')"
   ]
  },
  {
   "cell_type": "code",
   "execution_count": null,
   "metadata": {},
   "outputs": [],
   "source": [
    "tickers = ['IBM', 'MSFT']\n",
    "df = web.DataReader(tickers,'yahoo','01/01/2010','10/18/2019')['Adj Close']\n",
    "df.head()"
   ]
  },
  {
   "cell_type": "code",
   "execution_count": null,
   "metadata": {},
   "outputs": [],
   "source": [
    "df.tail()"
   ]
  },
  {
   "cell_type": "code",
   "execution_count": null,
   "metadata": {},
   "outputs": [],
   "source": [
    "returns = df.pct_change().dropna()\n",
    "mean = returns.mean()\n",
    "mean"
   ]
  },
  {
   "cell_type": "code",
   "execution_count": null,
   "metadata": {},
   "outputs": [],
   "source": [
    "stdev = returns.std()\n",
    "stdev"
   ]
  },
  {
   "cell_type": "code",
   "execution_count": null,
   "metadata": {},
   "outputs": [],
   "source": [
    "for ticker, ret, vol in zip(tickers, mean, stdev):\n",
    "    p(f'The mean daily return for {ticker} is {round(ret,6)*100}%, and daily volatility is {round(vol,4)*100}%.')"
   ]
  },
  {
   "cell_type": "code",
   "execution_count": null,
   "metadata": {},
   "outputs": [],
   "source": [
    "nDays = 10\n",
    "for ticker, ret, vol in zip(tickers, mean, stdev):\n",
    "    p(f'The {nDays}-day mean return for {ticker} is {round(ret*nDays,5)*100}%, and {nDays}-day volatility is {round(vol*np.sqrt(nDays),4)*100}%.')"
   ]
  },
  {
   "cell_type": "code",
   "execution_count": null,
   "metadata": {},
   "outputs": [],
   "source": [
    "nDays = 252\n",
    "for ticker, ret, vol in zip(tickers, mean, stdev):\n",
    "    p(f'The {nDays}-day mean return for {ticker} is {round(ret*nDays,5)*100}%, and {nDays}-day volatility is {round(vol*np.sqrt(nDays),5)*100}%.')"
   ]
  },
  {
   "cell_type": "code",
   "execution_count": null,
   "metadata": {},
   "outputs": [],
   "source": [
    "for ticker, var in zip(tickers, returns.var()):\n",
    "    p(f'The variance of daily returns for {ticker} is {var}.')"
   ]
  },
  {
   "cell_type": "code",
   "execution_count": null,
   "metadata": {},
   "outputs": [],
   "source": [
    "# the covariance of a variable with itself is equal to the variance\n",
    "for ticker in tickers:\n",
    "    p(f'The covariance of daily returns for {ticker} is {np.cov(returns[ticker])}.')"
   ]
  },
  {
   "cell_type": "code",
   "execution_count": null,
   "metadata": {},
   "outputs": [],
   "source": [
    "# np.cov(df) function returns a covaraince matrix n-D array\n",
    "cov_matrix = np.cov(returns['IBM'],returns['MSFT'])\n",
    "p(cov_matrix)\n",
    "p(type(cov_matrix))"
   ]
  },
  {
   "cell_type": "code",
   "execution_count": null,
   "metadata": {},
   "outputs": [],
   "source": [
    "corr_matrix = returns.corr()\n",
    "corr_matrix"
   ]
  },
  {
   "cell_type": "code",
   "execution_count": null,
   "metadata": {},
   "outputs": [],
   "source": [
    "# the covaraince of the variables are located off the main diaganol\n",
    "cov = cov_matrix[0,1]\n",
    "p(f'The covariance of IBM and MSFT is {cov}.')"
   ]
  },
  {
   "cell_type": "code",
   "execution_count": null,
   "metadata": {},
   "outputs": [],
   "source": [
    "nDays = 252\n",
    "\n",
    "# portfolio weights are equal\n",
    "weights = np.asarray([0.5, 0.5])\n",
    "\n",
    "# calculate portfolio returns\n",
    "pf_ret1 = round(np.sum(mean * weights) * nDays,4)\n",
    "\n",
    "# calculate portfolio volatility\n",
    "# the pow(x,y) function returns x**y\n",
    "pf_vol1 = round(np.sqrt(pow(weights[0],2) * pow(stdev[0],2) + \\\n",
    "                       pow(weights[1],2) * pow(stdev[1],2) + \\\n",
    "                       2 * weights[0] * weights[1] * cov) * np.sqrt(nDays),4)\n",
    "    \n",
    "p(f'The portfolio expected return is {round(pf_ret1*100,4)}%, and volatility is {pf_vol1*100}%.')"
   ]
  },
  {
   "cell_type": "code",
   "execution_count": null,
   "metadata": {},
   "outputs": [],
   "source": [
    "# the df.cov() method returns a covariance matrix dataframe\n",
    "cov_matrix = returns.cov()\n",
    "p(cov_matrix)\n",
    "p(type(cov_matrix))"
   ]
  },
  {
   "cell_type": "code",
   "execution_count": null,
   "metadata": {},
   "outputs": [],
   "source": [
    "nDays = 252\n",
    "# portfolio weights are equal\n",
    "weights = np.asarray([0.5, 0.5])\n",
    "\n",
    "# calculate portfolio returns with vector-matrix multiplication\n",
    "pf_ret2 = round(np.dot(weights, mean) * nDays,4)\n",
    "\n",
    "# calculate portfolio volatility with the covariance matrix dataframe\n",
    "pf_vol2 = round(np.sqrt(np.dot(weights.T,np.dot(cov_matrix, weights))) * np.sqrt(nDays),4)\n",
    "p(f'The portfolio expected return is {round(pf_ret2*100,4)}%, and volatility is {pf_vol2*100}%.')"
   ]
  },
  {
   "cell_type": "code",
   "execution_count": null,
   "metadata": {},
   "outputs": [],
   "source": [
    "p(f'The portfolio expected return is {round(pf_ret1*100,4)}%, and volatility is {pf_vol1*100}%.')\n",
    "\n",
    "# the elements of the covariance matrix dataframe and covariance matrix n-D array are equal\n",
    "np.cov(returns['IBM'],returns['MSFT']) == returns.cov()"
   ]
  },
  {
   "cell_type": "markdown",
   "metadata": {},
   "source": [
    "We used two methods to calculte our portfolio metrics: arithmetic and matrix multiplication. And, both methods give us the same result. However, when we increase the number of assets in our portfolio, matrix multiplication more efficiently calculates portfolio metrics, and, therefore, is preferable."
   ]
  },
  {
   "cell_type": "code",
   "execution_count": null,
   "metadata": {},
   "outputs": [],
   "source": [
    "rf = 0.0003 # assuming, risk-free rate of return\n",
    "sharpe = (pf_ret1 - rf) / pf_vol1\n",
    "p(f'The portfolio Sharpe ratio is {round(sharpe,4)}.')"
   ]
  },
  {
   "cell_type": "code",
   "execution_count": null,
   "metadata": {},
   "outputs": [],
   "source": [
    "# portfolio weights\n",
    "weights_6040= np.asarray([0.6, 0.4])\n",
    "p(f'The portfolio weights are {weights_6040[0]*100}% {tickers[0]} and {weights_6040[1]*100}% {tickers[1]}.')\n",
    "\n",
    "# calculate portfolio returns with vector-matrix multiplication\n",
    "pf_ret_6040 = round(np.dot(weights_6040, mean) * 252,4)\n",
    "\n",
    "# calculate portfolio volatility with the covariance matrix dataframe\n",
    "pf_vol_6040 = round(np.sqrt(np.dot(weights_6040.T,np.dot(cov_matrix, weights_6040))) * np.sqrt(252),4)\n",
    "p(f'The portfolio expected return is {round(pf_ret_6040*100,4)}%, and volatility is {pf_vol_6040*100}%.')\n",
    "\n",
    "rf = 0.0003 # assuming, risk-free rate of return\n",
    "sharpe_6040 = (pf_ret_6040 - rf) / pf_vol_6040\n",
    "p(f'The portfolio Sharpe ratio is {round(sharpe_6040,4)}.')"
   ]
  },
  {
   "cell_type": "code",
   "execution_count": null,
   "metadata": {},
   "outputs": [],
   "source": [
    "# portfolio weights\n",
    "weights_5050 = np.asarray([0.5, 0.5])\n",
    "p(f'The portfolio weights are {weights_5050[0]*100}% {tickers[0]} and {weights_5050[1]*100}% {tickers[1]}.')\n",
    "\n",
    "# calculate portfolio returns with vector-matrix multiplication\n",
    "pf_ret_5050 = round(np.dot(weights_5050, mean) * 252,4)\n",
    "\n",
    "# calculate portfolio volatility with the covariance matrix dataframe\n",
    "pf_vol_5050 = round(np.sqrt(np.dot(weights_5050.T,np.dot(cov_matrix, weights_5050))) * np.sqrt(252),4)\n",
    "p(f'The portfolio expected return is {round(pf_ret_5050*100,4)}%, and volatility is {pf_vol_5050*100}%.')\n",
    "# calculate Sharpe ratio\n",
    "sharpe_5050 = (pf_ret_5050 - rf) / pf_vol_5050\n",
    "p(f'The portfolio Sharpe ratio is {round(sharpe_5050,4)}.')"
   ]
  },
  {
   "cell_type": "code",
   "execution_count": null,
   "metadata": {},
   "outputs": [],
   "source": [
    "# portfolio weights\n",
    "weights_7030 = np.asarray([0.7, 0.3])\n",
    "p(f'The portfolio weights are {weights_7030[0]*100}% {tickers[0]} and {weights_7030[1]*100}% {tickers[1]}.')\n",
    "\n",
    "# calculate portfolio returns with vector-matrix multiplication\n",
    "pf_ret_7030 = round(np.dot(weights_7030, mean) * 252,4)\n",
    "\n",
    "# calculate portfolio volatility with the covariance matrix dataframe\n",
    "pf_vol_7030 = round(np.sqrt(np.dot(weights_7030.T,np.dot(cov_matrix, weights_7030))) * np.sqrt(252),4)\n",
    "p(f'The portfolio expected return is {round(pf_ret_7030*100,4)}%, and volatility is {pf_vol_7030*100}%.')\n",
    "# calculate Sharpe ratio\n",
    "sharpe_7030 = (pf_ret_7030 - rf) / pf_vol_7030\n",
    "p(f'The portfolio Sharpe ratio is {round(sharpe_7030,4)}.')"
   ]
  },
  {
   "cell_type": "code",
   "execution_count": null,
   "metadata": {},
   "outputs": [],
   "source": [
    "nDays = 252\n",
    "# portfolio weights\n",
    "weights_3070 = np.asarray([0.3, 0.7])\n",
    "p(f'The portfolio weights are {weights_3070[0]*100}% {tickers[0]} and {weights_3070[1]*100}% {tickers[1]}.')\n",
    "\n",
    "# calculate portfolio returns with vector-matrix multiplication\n",
    "pf_ret_3070 = round(np.dot(weights_3070, mean) * 252,4)\n",
    "\n",
    "# calculate portfolio volatility with the covariance matrix dataframe\n",
    "pf_vol_3070 = round(np.sqrt(np.dot(weights_3070.T,np.dot(cov_matrix, weights_3070))) * np.sqrt(252),4)\n",
    "p(f'The portfolio expected return is {round(pf_ret_3070*100,4)}%, and volatility is {pf_vol_3070*100}%.')\n",
    "# calculate Sharpe ratio\n",
    "sharpe_3070 = (pf_ret_3070 - rf) / pf_vol_3070\n",
    "p(f'The portfolio Sharpe ratio is {round(sharpe_3070,4)}.')"
   ]
  },
  {
   "cell_type": "code",
   "execution_count": null,
   "metadata": {},
   "outputs": [],
   "source": [
    "# portfolio weights\n",
    "weights_4060 = np.asarray([0.4, 0.6])\n",
    "p(f'The portfolio weights are {weights_4060[0]*100}% {tickers[0]} and {weights_4060[1]*100}% {tickers[1]}.')\n",
    "\n",
    "# calculate portfolio returns with vector-matrix multiplication\n",
    "pf_ret_4060 = round(np.dot(weights_4060, mean) * 252,4)\n",
    "\n",
    "# calculate portfolio volatility with the covariance matrix dataframe\n",
    "pf_vol_4060 = round(np.sqrt(np.dot(weights_4060.T,np.dot(cov_matrix, weights_4060))) * np.sqrt(252),4)\n",
    "p(f'The portfolio expected return is {round(pf_ret_4060*100,4)}%, and volatility is {pf_vol_4060*100}%.')\n",
    "# calculate Sharpe ratio\n",
    "sharpe_4060 = (pf_ret_4060 - rf) / pf_vol_4060\n",
    "p(f'The portfolio Sharpe ratio is {round(sharpe_4060,4)}.')"
   ]
  },
  {
   "cell_type": "code",
   "execution_count": null,
   "metadata": {},
   "outputs": [],
   "source": [
    "{'IBM':weights[0],'MSFT':weights[1]}"
   ]
  },
  {
   "cell_type": "code",
   "execution_count": null,
   "metadata": {},
   "outputs": [],
   "source": [
    "pf_3070 = {'IBM':weights_3070[0],'MSFT':weights_3070[1]}\n",
    "pf_4060 = {'IBM':weights_4060[0],'MSFT':weights_4060[1]}\n",
    "pf_5050 = {'IBM':weights_5050[0],'MSFT':weights_5050[1]}\n",
    "pf_6040 = {'IBM':weights_6040[0],'MSFT':weights_6040[1]}\n",
    "pf_7030 = {'IBM':weights_7030[0],'MSFT':weights_7030[1]}"
   ]
  },
  {
   "cell_type": "code",
   "execution_count": null,
   "metadata": {},
   "outputs": [],
   "source": [
    "# pf_3070_df = pd.DataFrame(data=weights, columns=tickers)\n",
    "# pf_3070_df"
   ]
  },
  {
   "cell_type": "code",
   "execution_count": null,
   "metadata": {},
   "outputs": [],
   "source": [
    "# {'IBM':weights_4060[0],'MSFT':weights_4060[1]}"
   ]
  },
  {
   "cell_type": "code",
   "execution_count": null,
   "metadata": {},
   "outputs": [],
   "source": [
    "{'IBM':weights_5050[0],'MSFT':weights_5050[1]}"
   ]
  },
  {
   "cell_type": "code",
   "execution_count": null,
   "metadata": {},
   "outputs": [],
   "source": [
    "{'IBM':weights_6040[0],'MSFT':weights_6040[1]}"
   ]
  },
  {
   "cell_type": "code",
   "execution_count": null,
   "metadata": {},
   "outputs": [],
   "source": [
    "{'IBM':weights_7030[0],'MSFT':weights_7030[1]}"
   ]
  },
  {
   "cell_type": "code",
   "execution_count": null,
   "metadata": {},
   "outputs": [],
   "source": [
    "# Define a dictionary containing portfolio data\n",
    "portfolio_data = {'Portfolio':['30/70','40/60','50/50','60/40','70/30'],\n",
    "                  'Returns':[pf_ret_3070,pf_ret_4060,pf_ret_5050,pf_ret_6040,pf_ret_7030],\n",
    "                  'Volatility':[pf_vol_3070,pf_vol_4060,pf_vol_5050,pf_vol_6040,pf_vol_7030],\n",
    "                  'Sharpe Ratio':[sharpe_3070,sharpe_4060,sharpe_5050,sharpe_6040,sharpe_7030]}\n",
    "# Convert the dictionary into DataFrame \n",
    "df = pd.DataFrame(portfolio_data)\n",
    "df"
   ]
  },
  {
   "cell_type": "code",
   "execution_count": null,
   "metadata": {},
   "outputs": [],
   "source": [
    "# Maximum Sharpe Ratio portfolio\n",
    "max_sharpe_pf = df[df['Sharpe Ratio'] == df['Sharpe Ratio'].max()]\n",
    "max_sharpe_pf"
   ]
  },
  {
   "cell_type": "code",
   "execution_count": null,
   "metadata": {},
   "outputs": [],
   "source": [
    "# Maximum Returns portfolio\n",
    "max_ret_pf = df[df['Returns'] == df['Returns'].max()]\n",
    "max_ret_pf"
   ]
  },
  {
   "cell_type": "code",
   "execution_count": null,
   "metadata": {},
   "outputs": [],
   "source": [
    "# Minimum Volatility portfolio\n",
    "min_vol_pf = df[df['Volatility'] == df['Volatility'].min()]\n",
    "min_vol_pf"
   ]
  },
  {
   "cell_type": "markdown",
   "metadata": {},
   "source": [
    "We created a two stock portfolio. We made several versions of a two stock portfolio, which had different weights for each asset. We meausred the returns, volatility, and Sharpe ratio of each differently weighted portfolio. We found the maximum Sharpe ratio portfolio, maximum returns portfolio, and minimum volatility portfolio by manually adjusting the weights of the assets. Next, we will create a multiple stock portfolio,"
   ]
  },
  {
   "cell_type": "code",
   "execution_count": null,
   "metadata": {},
   "outputs": [],
   "source": []
  }
 ],
 "metadata": {
  "kernelspec": {
   "display_name": "Python 3",
   "language": "python",
   "name": "python3"
  },
  "language_info": {
   "codemirror_mode": {
    "name": "ipython",
    "version": 3
   },
   "file_extension": ".py",
   "mimetype": "text/x-python",
   "name": "python",
   "nbconvert_exporter": "python",
   "pygments_lexer": "ipython3",
   "version": "3.6.8"
  },
  "toc": {
   "base_numbering": 1,
   "nav_menu": {},
   "number_sections": true,
   "sideBar": true,
   "skip_h1_title": true,
   "title_cell": "Table of Contents",
   "title_sidebar": "Contents",
   "toc_cell": true,
   "toc_position": {},
   "toc_section_display": true,
   "toc_window_display": false
  }
 },
 "nbformat": 4,
 "nbformat_minor": 2
}
