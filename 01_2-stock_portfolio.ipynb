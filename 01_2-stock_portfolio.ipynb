{
 "cells": [
  {
   "cell_type": "markdown",
   "metadata": {
    "toc": true
   },
   "source": [
    "<h1>Table of Contents<span class=\"tocSkip\"></span></h1>\n",
    "<div class=\"toc\"><ul class=\"toc-item\"></ul></div>"
   ]
  },
  {
   "cell_type": "markdown",
   "metadata": {},
   "source": [
    "# Forming a two-stock portfolio"
   ]
  },
  {
   "cell_type": "code",
   "execution_count": 1,
   "metadata": {},
   "outputs": [],
   "source": [
    "import pandas_datareader.data as web\n",
    "import numpy as np, pandas as pd\n",
    "from datetime import datetime\n",
    "import matplotlib.pyplot as plt\n",
    "import seaborn as sns\n",
    "sns.set_style(\"darkgrid\")\n",
    "%matplotlib inline\n",
    "p = print"
   ]
  },
  {
   "cell_type": "code",
   "execution_count": 2,
   "metadata": {},
   "outputs": [
    {
     "name": "stdout",
     "output_type": "stream",
     "text": [
      "<class 'pandas.core.frame.DataFrame'>\n",
      "DatetimeIndex: 2264 entries, 2010-01-04 to 2018-12-31\n",
      "Data columns (total 6 columns):\n",
      "High         2264 non-null float64\n",
      "Low          2264 non-null float64\n",
      "Open         2264 non-null float64\n",
      "Close        2264 non-null float64\n",
      "Volume       2264 non-null float64\n",
      "Adj Close    2264 non-null float64\n",
      "dtypes: float64(6)\n",
      "memory usage: 123.8 KB\n"
     ]
    }
   ],
   "source": [
    "# Select stock symbol\n",
    "ticker = 'AAPL'\n",
    "\n",
    "# Create a dataframe of prices\n",
    "df = web.DataReader(ticker,'yahoo','01/01/2010','12/31/2018')\n",
    "\n",
    "# Print summary of dataframe\n",
    "df.info()"
   ]
  },
  {
   "cell_type": "code",
   "execution_count": 3,
   "metadata": {},
   "outputs": [
    {
     "data": {
      "text/html": [
       "<div>\n",
       "<style scoped>\n",
       "    .dataframe tbody tr th:only-of-type {\n",
       "        vertical-align: middle;\n",
       "    }\n",
       "\n",
       "    .dataframe tbody tr th {\n",
       "        vertical-align: top;\n",
       "    }\n",
       "\n",
       "    .dataframe thead th {\n",
       "        text-align: right;\n",
       "    }\n",
       "</style>\n",
       "<table border=\"1\" class=\"dataframe\">\n",
       "  <thead>\n",
       "    <tr style=\"text-align: right;\">\n",
       "      <th></th>\n",
       "      <th>High</th>\n",
       "      <th>Low</th>\n",
       "      <th>Open</th>\n",
       "      <th>Close</th>\n",
       "      <th>Volume</th>\n",
       "      <th>Adj Close</th>\n",
       "    </tr>\n",
       "  </thead>\n",
       "  <tbody>\n",
       "    <tr>\n",
       "      <th>count</th>\n",
       "      <td>2264.000000</td>\n",
       "      <td>2264.000000</td>\n",
       "      <td>2264.000000</td>\n",
       "      <td>2264.000000</td>\n",
       "      <td>2.264000e+03</td>\n",
       "      <td>2264.000000</td>\n",
       "    </tr>\n",
       "    <tr>\n",
       "      <th>mean</th>\n",
       "      <td>100.331231</td>\n",
       "      <td>98.528357</td>\n",
       "      <td>99.461275</td>\n",
       "      <td>99.447110</td>\n",
       "      <td>8.011499e+07</td>\n",
       "      <td>92.601709</td>\n",
       "    </tr>\n",
       "    <tr>\n",
       "      <th>std</th>\n",
       "      <td>47.162553</td>\n",
       "      <td>46.388636</td>\n",
       "      <td>46.772416</td>\n",
       "      <td>46.777330</td>\n",
       "      <td>5.966773e+07</td>\n",
       "      <td>47.333150</td>\n",
       "    </tr>\n",
       "    <tr>\n",
       "      <th>min</th>\n",
       "      <td>28.000000</td>\n",
       "      <td>27.178572</td>\n",
       "      <td>27.481428</td>\n",
       "      <td>27.435715</td>\n",
       "      <td>1.147590e+07</td>\n",
       "      <td>23.871843</td>\n",
       "    </tr>\n",
       "    <tr>\n",
       "      <th>25%</th>\n",
       "      <td>62.197856</td>\n",
       "      <td>61.043571</td>\n",
       "      <td>61.647142</td>\n",
       "      <td>61.490002</td>\n",
       "      <td>3.441850e+07</td>\n",
       "      <td>54.453938</td>\n",
       "    </tr>\n",
       "    <tr>\n",
       "      <th>50%</th>\n",
       "      <td>95.560715</td>\n",
       "      <td>93.639999</td>\n",
       "      <td>94.639999</td>\n",
       "      <td>94.520000</td>\n",
       "      <td>6.340025e+07</td>\n",
       "      <td>86.229843</td>\n",
       "    </tr>\n",
       "    <tr>\n",
       "      <th>75%</th>\n",
       "      <td>126.894999</td>\n",
       "      <td>124.887501</td>\n",
       "      <td>125.972498</td>\n",
       "      <td>125.877502</td>\n",
       "      <td>1.076744e+08</td>\n",
       "      <td>116.441866</td>\n",
       "    </tr>\n",
       "    <tr>\n",
       "      <th>max</th>\n",
       "      <td>233.470001</td>\n",
       "      <td>229.779999</td>\n",
       "      <td>230.779999</td>\n",
       "      <td>232.070007</td>\n",
       "      <td>4.702495e+08</td>\n",
       "      <td>227.839798</td>\n",
       "    </tr>\n",
       "  </tbody>\n",
       "</table>\n",
       "</div>"
      ],
      "text/plain": [
       "              High          Low         Open        Close        Volume  \\\n",
       "count  2264.000000  2264.000000  2264.000000  2264.000000  2.264000e+03   \n",
       "mean    100.331231    98.528357    99.461275    99.447110  8.011499e+07   \n",
       "std      47.162553    46.388636    46.772416    46.777330  5.966773e+07   \n",
       "min      28.000000    27.178572    27.481428    27.435715  1.147590e+07   \n",
       "25%      62.197856    61.043571    61.647142    61.490002  3.441850e+07   \n",
       "50%      95.560715    93.639999    94.639999    94.520000  6.340025e+07   \n",
       "75%     126.894999   124.887501   125.972498   125.877502  1.076744e+08   \n",
       "max     233.470001   229.779999   230.779999   232.070007  4.702495e+08   \n",
       "\n",
       "         Adj Close  \n",
       "count  2264.000000  \n",
       "mean     92.601709  \n",
       "std      47.333150  \n",
       "min      23.871843  \n",
       "25%      54.453938  \n",
       "50%      86.229843  \n",
       "75%     116.441866  \n",
       "max     227.839798  "
      ]
     },
     "execution_count": 3,
     "metadata": {},
     "output_type": "execute_result"
    }
   ],
   "source": [
    "# Summary statisitcs of data\n",
    "df.describe()"
   ]
  },
  {
   "cell_type": "code",
   "execution_count": 4,
   "metadata": {},
   "outputs": [],
   "source": [
    "# # Save dataframe into a csv file\n",
    "# df.to_csv('AAPL.csv')"
   ]
  },
  {
   "cell_type": "code",
   "execution_count": 5,
   "metadata": {},
   "outputs": [],
   "source": [
    "# Load saved file and read as dataframe indexed by 'Date' column\n",
    "df = pd.read_csv('AAPL.csv',index_col='Date',parse_dates=True)"
   ]
  },
  {
   "cell_type": "code",
   "execution_count": 6,
   "metadata": {},
   "outputs": [
    {
     "name": "stdout",
     "output_type": "stream",
     "text": [
      "<class 'pandas.core.frame.DataFrame'>\n",
      "DatetimeIndex: 2264 entries, 2010-01-04 to 2018-12-31\n",
      "Data columns (total 6 columns):\n",
      "High         2264 non-null float64\n",
      "Low          2264 non-null float64\n",
      "Open         2264 non-null float64\n",
      "Close        2264 non-null float64\n",
      "Volume       2264 non-null float64\n",
      "Adj Close    2264 non-null float64\n",
      "dtypes: float64(6)\n",
      "memory usage: 123.8 KB\n"
     ]
    }
   ],
   "source": [
    "# Print summary of dataframe\n",
    "df.info()"
   ]
  },
  {
   "cell_type": "code",
   "execution_count": 7,
   "metadata": {},
   "outputs": [
    {
     "data": {
      "image/png": "[encoded data removed]",
      "text/plain": [
       "<Figure size 432x288 with 1 Axes>"
      ]
     },
     "metadata": {
      "needs_background": "light"
     },
     "output_type": "display_data"
    }
   ],
   "source": [
    "# Stock symbol closing price series\n",
    "close = df['Close']\n",
    "\n",
    "# Plot graph of closing price series\n",
    "close.plot();"
   ]
  },
  {
   "cell_type": "code",
   "execution_count": 8,
   "metadata": {},
   "outputs": [
    {
     "data": {
      "image/png": "[encoded data removed]",
      "text/plain": [
       "<Figure size 432x288 with 1 Axes>"
      ]
     },
     "metadata": {
      "needs_background": "light"
     },
     "output_type": "display_data"
    }
   ],
   "source": [
    "# Daily returns series\n",
    "returns = close.pct_change().dropna()\n",
    "\n",
    "# Plot graph of daily returns series\n",
    "returns.plot();"
   ]
  },
  {
   "cell_type": "code",
   "execution_count": 9,
   "metadata": {},
   "outputs": [
    {
     "name": "stdout",
     "output_type": "stream",
     "text": [
      "Symbol: AAPL\n",
      "Mean of daily returns: 0.0008566085294941909 \n",
      "Volatiltiy of returns: 0.016194952579986276\n"
     ]
    }
   ],
   "source": [
    "# Calculate the avaerage returns\n",
    "mean = np.mean(returns)\n",
    "# Calculate tandard deviation of daily returns\n",
    "stdev = np.std(returns)\n",
    "\n",
    "# Print the mean and standard deviation of daily returns\n",
    "p(f'Symbol: {ticker}\\nMean of daily returns: {mean} \\nVolatiltiy of returns: {stdev}')"
   ]
  },
  {
   "cell_type": "code",
   "execution_count": 10,
   "metadata": {},
   "outputs": [
    {
     "name": "stdout",
     "output_type": "stream",
     "text": [
      "Symbol: AAPL\n",
      "10-day mean return: 0.008566085294941909 \n",
      "10-day volatiltiy:  0.051212936751176864\n"
     ]
    }
   ],
   "source": [
    "# Number of observations\n",
    "n_periods = 10\n",
    "\n",
    "# Calculate n-day average returns\n",
    "mean_10d = mean * n_periods\n",
    "\n",
    "# Calculate n-day volatility of returns\n",
    "stdev_10d = stdev * np.sqrt(n_periods)\n",
    "\n",
    "# Print the n-period mean and standard deviation of daily returns\n",
    "p(f'Symbol: {ticker}\\n{n_periods}-day mean return: {mean_10d} \\n{n_periods}-day volatiltiy:  {stdev_10d}')"
   ]
  },
  {
   "cell_type": "code",
   "execution_count": 11,
   "metadata": {},
   "outputs": [
    {
     "name": "stdout",
     "output_type": "stream",
     "text": [
      "<class 'pandas.core.frame.DataFrame'>\n",
      "DatetimeIndex: 2264 entries, 2010-01-04 to 2018-12-31\n",
      "Data columns (total 2 columns):\n",
      "IBM     2264 non-null float64\n",
      "MSFT    2264 non-null float64\n",
      "dtypes: float64(2)\n",
      "memory usage: 53.1 KB\n"
     ]
    }
   ],
   "source": [
    "# Create list of stock symbols\n",
    "tickers = ['IBM', 'MSFT']\n",
    "\n",
    "# Create a dataframe of only closing price for each stock \n",
    "df = web.DataReader(tickers,'yahoo','01/01/2010','12/31/2018')['Close']\n",
    "\n",
    "# View dataframe information\n",
    "df.info()"
   ]
  },
  {
   "cell_type": "code",
   "execution_count": 12,
   "metadata": {},
   "outputs": [
    {
     "data": {
      "text/html": [
       "<div>\n",
       "<style scoped>\n",
       "    .dataframe tbody tr th:only-of-type {\n",
       "        vertical-align: middle;\n",
       "    }\n",
       "\n",
       "    .dataframe tbody tr th {\n",
       "        vertical-align: top;\n",
       "    }\n",
       "\n",
       "    .dataframe thead th {\n",
       "        text-align: right;\n",
       "    }\n",
       "</style>\n",
       "<table border=\"1\" class=\"dataframe\">\n",
       "  <thead>\n",
       "    <tr style=\"text-align: right;\">\n",
       "      <th>Symbols</th>\n",
       "      <th>IBM</th>\n",
       "      <th>MSFT</th>\n",
       "    </tr>\n",
       "  </thead>\n",
       "  <tbody>\n",
       "    <tr>\n",
       "      <th>count</th>\n",
       "      <td>2264.000000</td>\n",
       "      <td>2264.000000</td>\n",
       "    </tr>\n",
       "    <tr>\n",
       "      <th>mean</th>\n",
       "      <td>164.785861</td>\n",
       "      <td>48.078754</td>\n",
       "    </tr>\n",
       "    <tr>\n",
       "      <th>std</th>\n",
       "      <td>23.939359</td>\n",
       "      <td>23.896496</td>\n",
       "    </tr>\n",
       "    <tr>\n",
       "      <th>min</th>\n",
       "      <td>107.570000</td>\n",
       "      <td>23.010000</td>\n",
       "    </tr>\n",
       "    <tr>\n",
       "      <th>25%</th>\n",
       "      <td>146.479996</td>\n",
       "      <td>28.860001</td>\n",
       "    </tr>\n",
       "    <tr>\n",
       "      <th>50%</th>\n",
       "      <td>162.184998</td>\n",
       "      <td>41.469999</td>\n",
       "    </tr>\n",
       "    <tr>\n",
       "      <th>75%</th>\n",
       "      <td>186.037495</td>\n",
       "      <td>57.889999</td>\n",
       "    </tr>\n",
       "    <tr>\n",
       "      <th>max</th>\n",
       "      <td>215.800003</td>\n",
       "      <td>115.610001</td>\n",
       "    </tr>\n",
       "  </tbody>\n",
       "</table>\n",
       "</div>"
      ],
      "text/plain": [
       "Symbols          IBM         MSFT\n",
       "count    2264.000000  2264.000000\n",
       "mean      164.785861    48.078754\n",
       "std        23.939359    23.896496\n",
       "min       107.570000    23.010000\n",
       "25%       146.479996    28.860001\n",
       "50%       162.184998    41.469999\n",
       "75%       186.037495    57.889999\n",
       "max       215.800003   115.610001"
      ]
     },
     "execution_count": 12,
     "metadata": {},
     "output_type": "execute_result"
    }
   ],
   "source": [
    "# Summary statisitcs of data\n",
    "df.describe()"
   ]
  },
  {
   "cell_type": "code",
   "execution_count": 13,
   "metadata": {},
   "outputs": [],
   "source": [
    "# # Save dataframe into a csv file\n",
    "# df.to_csv('IBM_MSFT.csv')"
   ]
  },
  {
   "cell_type": "code",
   "execution_count": 14,
   "metadata": {},
   "outputs": [],
   "source": [
    "# Load saved file and read as dataframe indexed by 'Date' column\n",
    "df = pd.read_csv('IBM_MSFT.csv',index_col='Date',parse_dates=True)"
   ]
  },
  {
   "cell_type": "code",
   "execution_count": 15,
   "metadata": {},
   "outputs": [
    {
     "name": "stdout",
     "output_type": "stream",
     "text": [
      "<class 'pandas.core.frame.DataFrame'>\n",
      "DatetimeIndex: 2264 entries, 2010-01-04 to 2018-12-31\n",
      "Data columns (total 2 columns):\n",
      "IBM     2264 non-null float64\n",
      "MSFT    2264 non-null float64\n",
      "dtypes: float64(2)\n",
      "memory usage: 53.1 KB\n"
     ]
    }
   ],
   "source": [
    "# Print summary of dataframe\n",
    "df.info()"
   ]
  },
  {
   "cell_type": "code",
   "execution_count": 16,
   "metadata": {},
   "outputs": [
    {
     "data": {
      "image/png": "[encoded data removed]",
      "text/plain": [
       "<Figure size 432x288 with 1 Axes>"
      ]
     },
     "metadata": {
      "needs_background": "light"
     },
     "output_type": "display_data"
    }
   ],
   "source": [
    "# Plot grapf of the stocks' closing price series\n",
    "df.plot();"
   ]
  },
  {
   "cell_type": "code",
   "execution_count": 17,
   "metadata": {},
   "outputs": [],
   "source": [
    "# Calculate daily returns\n",
    "returns = df.pct_change().dropna()"
   ]
  },
  {
   "cell_type": "code",
   "execution_count": 18,
   "metadata": {},
   "outputs": [
    {
     "data": {
      "text/plain": [
       "IBM     0.000009\n",
       "MSFT    0.000631\n",
       "dtype: float64"
      ]
     },
     "execution_count": 18,
     "metadata": {},
     "output_type": "execute_result"
    }
   ],
   "source": [
    "# Calculate average of daily returns\n",
    "mean = np.mean(returns)\n",
    "mean"
   ]
  },
  {
   "cell_type": "code",
   "execution_count": 19,
   "metadata": {},
   "outputs": [
    {
     "data": {
      "text/plain": [
       "IBM     0.012308\n",
       "MSFT    0.014516\n",
       "dtype: float64"
      ]
     },
     "execution_count": 19,
     "metadata": {},
     "output_type": "execute_result"
    }
   ],
   "source": [
    "# Calculate standard deviation of daily returns\n",
    "stdev = np.std(returns)\n",
    "stdev"
   ]
  },
  {
   "cell_type": "code",
   "execution_count": 20,
   "metadata": {},
   "outputs": [
    {
     "name": "stdout",
     "output_type": "stream",
     "text": [
      "Symbol: IBM\n",
      "Mean of daily returns: 8.558952927401782e-06\n",
      "Volatility of returns: 0.012307560473726796\n",
      "\n",
      "Symbol: MSFT\n",
      "Mean of daily returns: 0.0006305539326451306\n",
      "Volatility of returns: 0.014515509977032272\n",
      "\n"
     ]
    }
   ],
   "source": [
    "# Print mean and standard deviation of daily returns\n",
    "for ticker, ret, vol in zip(tickers, mean, stdev):\n",
    "    p(f'Symbol: {ticker}\\nMean of daily returns: {ret}\\nVolatility of returns: {vol}\\n')"
   ]
  },
  {
   "cell_type": "code",
   "execution_count": 21,
   "metadata": {},
   "outputs": [],
   "source": [
    "# Determine the number of periods\n",
    "n_periods = 10\n",
    "\n",
    "# Calculate n-period average returns\n",
    "mean_10d = mean * n_periods\n",
    "\n",
    "# Calculate n-period volatility of returns\n",
    "stdev_10d = stdev * np.sqrt(n_periods)"
   ]
  },
  {
   "cell_type": "code",
   "execution_count": 22,
   "metadata": {},
   "outputs": [
    {
     "name": "stdout",
     "output_type": "stream",
     "text": [
      "Symbol: IBM\n",
      "10-day of mean return: 8.558952927401783e-05 \n",
      "10-day volatility of returns: 0.038919923537237604\n",
      "\n",
      "Symbol: MSFT\n",
      "10-day of mean return: 0.006305539326451306 \n",
      "10-day volatility of returns: 0.045902072926320384\n",
      "\n"
     ]
    }
   ],
   "source": [
    "# Print n-period mean and statndard deviation of daily returns\n",
    "for ticker, ret, vol in zip(tickers, mean_10d, stdev_10d):\n",
    "    p(f'Symbol: {ticker}\\n{n_periods}-day of mean return: {ret} \\n{n_periods}-day volatility of returns: {vol}\\n')"
   ]
  },
  {
   "cell_type": "code",
   "execution_count": 23,
   "metadata": {},
   "outputs": [
    {
     "data": {
      "text/plain": [
       "8.696353389936726e-05"
      ]
     },
     "execution_count": 23,
     "metadata": {},
     "output_type": "execute_result"
    }
   ],
   "source": [
    "# Calcualte  the covariance of returns\n",
    "cov = np.cov(returns['IBM'],returns['MSFT'])[0,1]\n",
    "cov"
   ]
  },
  {
   "cell_type": "code",
   "execution_count": 24,
   "metadata": {},
   "outputs": [
    {
     "data": {
      "text/plain": [
       "0.4865650937024598"
      ]
     },
     "execution_count": 24,
     "metadata": {},
     "output_type": "execute_result"
    }
   ],
   "source": [
    "# Calculate the coefficient of correlation\n",
    "corr = np.corrcoef(returns['IBM'],returns['MSFT'])[0,1]\n",
    "corr"
   ]
  },
  {
   "cell_type": "code",
   "execution_count": 25,
   "metadata": {},
   "outputs": [
    {
     "data": {
      "text/plain": [
       "IBM     0.000151\n",
       "MSFT    0.000211\n",
       "dtype: float64"
      ]
     },
     "execution_count": 25,
     "metadata": {},
     "output_type": "execute_result"
    }
   ],
   "source": [
    "# Calculate variance of returns\n",
    "variance = np.var(returns)\n",
    "variance"
   ]
  },
  {
   "cell_type": "code",
   "execution_count": 26,
   "metadata": {},
   "outputs": [
    {
     "name": "stdout",
     "output_type": "stream",
     "text": [
      "Symbol: IBM\n",
      "Vairance of daily returns: 0.00015147604481444214\n",
      "\n",
      "Symbol: MSFT\n",
      "Vairance of daily returns: 0.0002107000298933234\n",
      "\n"
     ]
    }
   ],
   "source": [
    "# Print variance of returns\n",
    "for ticker, v in zip(tickers, variance):\n",
    "    p(f'Symbol: {ticker}\\nVairance of daily returns: {v}\\n')"
   ]
  },
  {
   "cell_type": "code",
   "execution_count": 27,
   "metadata": {},
   "outputs": [
    {
     "data": {
      "text/plain": [
       "IBM     0.002157\n",
       "MSFT    0.158900\n",
       "dtype: float64"
      ]
     },
     "execution_count": 27,
     "metadata": {},
     "output_type": "execute_result"
    }
   ],
   "source": [
    "# Calculate 252-day mean of daily returns\n",
    "mean_252d = mean * 252\n",
    "\n",
    "mean_252d"
   ]
  },
  {
   "cell_type": "code",
   "execution_count": 28,
   "metadata": {},
   "outputs": [
    {
     "data": {
      "text/plain": [
       "array([0.5, 0.5])"
      ]
     },
     "execution_count": 28,
     "metadata": {},
     "output_type": "execute_result"
    }
   ],
   "source": [
    "# Create a vector of weights for a two-asset portfolio\n",
    "weights = np.asarray([0.5, 0.5])\n",
    "\n",
    "weights"
   ]
  },
  {
   "cell_type": "code",
   "execution_count": 29,
   "metadata": {},
   "outputs": [
    {
     "data": {
      "text/plain": [
       "0.08052822358213907"
      ]
     },
     "execution_count": 29,
     "metadata": {},
     "output_type": "execute_result"
    }
   ],
   "source": [
    "# Calculate portfolio returns\n",
    "portfolio_returns = np.sum(mean_252d * weights)\n",
    "\n",
    "# Portfolio expected annualized return\n",
    "portfolio_returns"
   ]
  },
  {
   "cell_type": "code",
   "execution_count": 30,
   "metadata": {},
   "outputs": [],
   "source": [
    "# Calculate the volatiltiy of a 2-asset portfolio\n",
    "                               # The pow(x, y) function returns x ** y: weights ** 2\n",
    "portfolio_volatility = np.sqrt(pow(weights[0],2) * variance['IBM'] + \\\n",
    "                               # The product of the asset weight squarred and variance of the same asset\n",
    "                               pow(weights[1],2) * variance['MSFT'] + \\\n",
    "                               2 * weights[0] * weights[1] * cov) * np.sqrt(252)"
   ]
  },
  {
   "cell_type": "code",
   "execution_count": 31,
   "metadata": {},
   "outputs": [
    {
     "data": {
      "text/plain": [
       "0.18377839366451518"
      ]
     },
     "execution_count": 31,
     "metadata": {},
     "output_type": "execute_result"
    }
   ],
   "source": [
    "# Portfolio annualized volatility\n",
    "portfolio_volatility"
   ]
  },
  {
   "cell_type": "code",
   "execution_count": 32,
   "metadata": {},
   "outputs": [
    {
     "data": {
      "text/html": [
       "<div>\n",
       "<style scoped>\n",
       "    .dataframe tbody tr th:only-of-type {\n",
       "        vertical-align: middle;\n",
       "    }\n",
       "\n",
       "    .dataframe tbody tr th {\n",
       "        vertical-align: top;\n",
       "    }\n",
       "\n",
       "    .dataframe thead th {\n",
       "        text-align: right;\n",
       "    }\n",
       "</style>\n",
       "<table border=\"1\" class=\"dataframe\">\n",
       "  <thead>\n",
       "    <tr style=\"text-align: right;\">\n",
       "      <th></th>\n",
       "      <th>IBM</th>\n",
       "      <th>MSFT</th>\n",
       "    </tr>\n",
       "  </thead>\n",
       "  <tbody>\n",
       "    <tr>\n",
       "      <th>IBM</th>\n",
       "      <td>0.000152</td>\n",
       "      <td>0.000087</td>\n",
       "    </tr>\n",
       "    <tr>\n",
       "      <th>MSFT</th>\n",
       "      <td>0.000087</td>\n",
       "      <td>0.000211</td>\n",
       "    </tr>\n",
       "  </tbody>\n",
       "</table>\n",
       "</div>"
      ],
      "text/plain": [
       "           IBM      MSFT\n",
       "IBM   0.000152  0.000087\n",
       "MSFT  0.000087  0.000211"
      ]
     },
     "execution_count": 32,
     "metadata": {},
     "output_type": "execute_result"
    }
   ],
   "source": [
    "# Calculate the variance-covariance matrix of assets\n",
    "cov_matrix = returns.cov()\n",
    "\n",
    "# Print variance-covariance matrix\n",
    "cov_matrix"
   ]
  },
  {
   "cell_type": "code",
   "execution_count": 33,
   "metadata": {},
   "outputs": [
    {
     "data": {
      "text/plain": [
       "pandas.core.frame.DataFrame"
      ]
     },
     "execution_count": 33,
     "metadata": {},
     "output_type": "execute_result"
    }
   ],
   "source": [
    "# Print the class of the object\n",
    "type(cov_matrix)"
   ]
  },
  {
   "cell_type": "code",
   "execution_count": 34,
   "metadata": {},
   "outputs": [
    {
     "data": {
      "text/plain": [
       "array([0.5, 0.5])"
      ]
     },
     "execution_count": 34,
     "metadata": {},
     "output_type": "execute_result"
    }
   ],
   "source": [
    "# Create a vector of weights\n",
    "weights = np.asarray([0.5, 0.5])\n",
    "\n",
    "# Print the weights\n",
    "weights"
   ]
  },
  {
   "cell_type": "code",
   "execution_count": 35,
   "metadata": {},
   "outputs": [
    {
     "data": {
      "text/plain": [
       "0.08052822358213908"
      ]
     },
     "execution_count": 35,
     "metadata": {},
     "output_type": "execute_result"
    }
   ],
   "source": [
    "# Calculate portfolio returns with matrix multiplication\n",
    "portfolio_returns_2 = weights.dot(mean) * 252\n",
    "\n",
    "# Print portfolio returns\n",
    "portfolio_returns_2"
   ]
  },
  {
   "cell_type": "code",
   "execution_count": 36,
   "metadata": {},
   "outputs": [
    {
     "data": {
      "text/plain": [
       "array([0.5, 0.5])"
      ]
     },
     "execution_count": 36,
     "metadata": {},
     "output_type": "execute_result"
    }
   ],
   "source": [
    "weights"
   ]
  },
  {
   "cell_type": "code",
   "execution_count": 37,
   "metadata": {},
   "outputs": [
    {
     "data": {
      "text/plain": [
       "array([0.5, 0.5])"
      ]
     },
     "execution_count": 37,
     "metadata": {},
     "output_type": "execute_result"
    }
   ],
   "source": [
    "weights.T"
   ]
  },
  {
   "cell_type": "code",
   "execution_count": 38,
   "metadata": {},
   "outputs": [],
   "source": [
    "# Calculate portfolio volatility with the covariance matrix\n",
    "portfolio_volatility_2 = np.sqrt(weights.T.dot(cov_matrix).dot(weights)) * np.sqrt(252)"
   ]
  },
  {
   "cell_type": "code",
   "execution_count": 39,
   "metadata": {},
   "outputs": [
    {
     "data": {
      "text/plain": [
       "0.18380583535340692"
      ]
     },
     "execution_count": 39,
     "metadata": {},
     "output_type": "execute_result"
    }
   ],
   "source": [
    "# Print portfolio volatility\n",
    "portfolio_volatility_2"
   ]
  },
  {
   "cell_type": "code",
   "execution_count": 40,
   "metadata": {},
   "outputs": [
    {
     "name": "stdout",
     "output_type": "stream",
     "text": [
      "Portfolio Returns:\n",
      "Portfolio 1: 0.08052822358213907\n",
      "Portfolio 2: 0.08052822358213908\n"
     ]
    }
   ],
   "source": [
    "# Compare calculation methods of portfolio returns\n",
    "p('Portfolio Returns:')\n",
    "# Calculated portfolio returns without dot product\n",
    "p(f'Portfolio 1: {portfolio_returns}')\n",
    "# Calculated portfolio returns with the np.dot() dot product method\n",
    "p(f'Portfolio 2: {portfolio_returns_2}')"
   ]
  },
  {
   "cell_type": "code",
   "execution_count": 41,
   "metadata": {},
   "outputs": [
    {
     "name": "stdout",
     "output_type": "stream",
     "text": [
      "Portfolio Volatility:\n",
      "Portfolio 1: 0.18377839366451518\n",
      "Portfolio 2: 0.18380583535340692\n"
     ]
    }
   ],
   "source": [
    "# Compare calculation methods of portfolio volatility\n",
    "p('Portfolio Volatility:')\n",
    "# Calculated portfolio returns without dot product\n",
    "p(f'Portfolio 1: {portfolio_volatility}')\n",
    "# Calculated portfolio returns with the np.dot() dot product method\n",
    "p(f'Portfolio 2: {portfolio_volatility_2}')"
   ]
  },
  {
   "cell_type": "markdown",
   "metadata": {},
   "source": [
    "We used two methods to calculte our portfolio metrics: arithmetic and matrix multiplication. And, both methods give us a very similar result. However, when we increase the number of assets in our portfolio, matrix multiplication more efficiently calculates portfolio metrics, and, therefore, is preferable."
   ]
  },
  {
   "cell_type": "code",
   "execution_count": 42,
   "metadata": {},
   "outputs": [],
   "source": [
    "# Assumed risk-free rate of return\n",
    "risk_free = 0.0003"
   ]
  },
  {
   "cell_type": "code",
   "execution_count": 43,
   "metadata": {},
   "outputs": [],
   "source": [
    "# Calculate the portfolio Sharpe ratio\n",
    "Sharpe_ratio = (portfolio_returns_2 - risk_free) / portfolio_volatility_2"
   ]
  },
  {
   "cell_type": "code",
   "execution_count": 44,
   "metadata": {},
   "outputs": [
    {
     "data": {
      "text/plain": [
       "0.43648355030667435"
      ]
     },
     "execution_count": 44,
     "metadata": {},
     "output_type": "execute_result"
    }
   ],
   "source": [
    "# Print Sharpe ratio\n",
    "Sharpe_ratio"
   ]
  },
  {
   "cell_type": "code",
   "execution_count": 45,
   "metadata": {},
   "outputs": [
    {
     "name": "stdout",
     "output_type": "stream",
     "text": [
      "The portfolio weights are 60.0% IBM and 40.0% MSFT.\n",
      "The portfolio expected return is 6.49%, and volatility is 18.099999999999998%.\n",
      "The portfolio Sharpe ratio is 0.3569.\n"
     ]
    }
   ],
   "source": [
    "# Create a vector of weights\n",
    "weights_6040= np.asarray([0.6, 0.4])\n",
    "\n",
    "# Print the portfolio weights\n",
    "p(f'The portfolio weights are {weights_6040[0]*100}% {tickers[0]} and {weights_6040[1]*100}% {tickers[1]}.')\n",
    "\n",
    "# Calculate portfolio returns with vector-matrix multiplication\n",
    "pf_ret_6040 = round(np.dot(weights_6040, mean) * 252,4)\n",
    "\n",
    "# Calculate portfolio volatility with the covariance matrix dataframe\n",
    "pf_vol_6040 = round(np.sqrt(np.dot(weights_6040.T,np.dot(cov_matrix, weights_6040))) * np.sqrt(252),4)\n",
    "\n",
    "# Print the portfolio expected return\n",
    "p(f'The portfolio expected return is {round(pf_ret_6040*100,4)}%, and volatility is {pf_vol_6040*100}%.')\n",
    "\n",
    "\n",
    "# Determine hypothetical value of risk-free rate of return\n",
    "rf = 0.0003\n",
    "\n",
    "# Calculate Sharpe ratio of portfolio\n",
    "sharpe_6040 = (pf_ret_6040 - rf) / pf_vol_6040\n",
    "\n",
    "# Print the portfolio Sharpe ratio\n",
    "p(f'The portfolio Sharpe ratio is {round(sharpe_6040,4)}.')"
   ]
  },
  {
   "cell_type": "code",
   "execution_count": 46,
   "metadata": {},
   "outputs": [
    {
     "name": "stdout",
     "output_type": "stream",
     "text": [
      "The portfolio weights are 50.0% IBM and 50.0% MSFT.\n",
      "The portfolio expected return is 8.05%, and volatility is 18.38%.\n",
      "The portfolio Sharpe ratio is 0.4363.\n"
     ]
    }
   ],
   "source": [
    "# Create a vector of portfolio weights\n",
    "weights_5050 = np.asarray([0.5, 0.5])\n",
    "\n",
    "# Print the portfolio weights\n",
    "p(f'The portfolio weights are {weights_5050[0]*100}% {tickers[0]} and {weights_5050[1]*100}% {tickers[1]}.')\n",
    "\n",
    "# Calculate portfolio returns with vector-matrix multiplication\n",
    "pf_ret_5050 = round(np.dot(weights_5050, mean) * 252,4)\n",
    "\n",
    "# Calculate portfolio volatility with the covariance matrix dataframe\n",
    "pf_vol_5050 = round(np.sqrt(np.dot(weights_5050.T,np.dot(cov_matrix, weights_5050))) * np.sqrt(252),4)\n",
    "\n",
    "# Print the portfolio expected return\n",
    "p(f'The portfolio expected return is {round(pf_ret_5050*100,4)}%, and volatility is {pf_vol_5050*100}%.')\n",
    "\n",
    "# Calculate Sharpe ratio\n",
    "sharpe_5050 = (pf_ret_5050 - rf) / pf_vol_5050\n",
    "\n",
    "# Print the portfolio Sharpe ratio\n",
    "p(f'The portfolio Sharpe ratio is {round(sharpe_5050,4)}.')"
   ]
  },
  {
   "cell_type": "code",
   "execution_count": 47,
   "metadata": {},
   "outputs": [
    {
     "name": "stdout",
     "output_type": "stream",
     "text": [
      "The portfolio weights are 70.0% IBM and 30.0% MSFT.\n",
      "The portfolio expected return is 4.92%, and volatility is 18.08%.\n",
      "The portfolio Sharpe ratio is 0.2705.\n"
     ]
    }
   ],
   "source": [
    "# Create a vector of portfolio weights\n",
    "weights_7030 = np.asarray([0.7, 0.3])\n",
    "\n",
    "# Print the portfolio weights\n",
    "p(f'The portfolio weights are {weights_7030[0]*100}% {tickers[0]} and {weights_7030[1]*100}% {tickers[1]}.')\n",
    "\n",
    "# Calculate portfolio returns with vector-matrix multiplication\n",
    "pf_ret_7030 = round(np.dot(weights_7030, mean) * 252,4)\n",
    "\n",
    "# Calculate portfolio volatility with the covariance matrix dataframe\n",
    "pf_vol_7030 = round(np.sqrt(np.dot(weights_7030.T,np.dot(cov_matrix, weights_7030))) * np.sqrt(252),4)\n",
    "\n",
    "# Print the portfolio expected return\n",
    "p(f'The portfolio expected return is {round(pf_ret_7030*100,4)}%, and volatility is {pf_vol_7030*100}%.')\n",
    "\n",
    "# Calculate Sharpe ratio\n",
    "sharpe_7030 = (pf_ret_7030 - rf) / pf_vol_7030\n",
    "\n",
    "# Print the portfolio Sharpe return\n",
    "p(f'The portfolio Sharpe ratio is {round(sharpe_7030,4)}.')"
   ]
  },
  {
   "cell_type": "code",
   "execution_count": 48,
   "metadata": {},
   "outputs": [
    {
     "name": "stdout",
     "output_type": "stream",
     "text": [
      "The portfolio weights are 30.0% IBM and 70.0% MSFT.\n",
      "The portfolio expected return is 11.19%, and volatility is 19.66%.\n",
      "The portfolio Sharpe ratio is 0.5677.\n"
     ]
    }
   ],
   "source": [
    "# Create a vector of portfolio weights\n",
    "weights_3070 = np.asarray([0.3, 0.7])\n",
    "\n",
    "# Print the portfolio weights\n",
    "p(f'The portfolio weights are {weights_3070[0]*100}% {tickers[0]} and {weights_3070[1]*100}% {tickers[1]}.')\n",
    "\n",
    "# Calculate portfolio returns with vector-matrix multiplication\n",
    "pf_ret_3070 = round(np.dot(weights_3070, mean) * 252,4)\n",
    "\n",
    "# Calculate portfolio volatility with the covariance matrix dataframe\n",
    "pf_vol_3070 = round(np.sqrt(np.dot(weights_3070.T,np.dot(cov_matrix, weights_3070))) * np.sqrt(252),4)\n",
    "\n",
    "# Print the portfolio return and volatiltiy\n",
    "p(f'The portfolio expected return is {round(pf_ret_3070*100,4)}%, and volatility is {pf_vol_3070*100}%.')\n",
    "\n",
    "# Calculate Sharpe ratio\n",
    "sharpe_3070 = (pf_ret_3070 - rf) / pf_vol_3070\n",
    "\n",
    "# Print the portfolio Sharpe ratio\n",
    "p(f'The portfolio Sharpe ratio is {round(sharpe_3070,4)}.')"
   ]
  },
  {
   "cell_type": "code",
   "execution_count": 49,
   "metadata": {},
   "outputs": [
    {
     "name": "stdout",
     "output_type": "stream",
     "text": [
      "The portfolio weights are 40.0% IBM and 60.0% MSFT.\n",
      "The portfolio expected return is 9.62%, and volatility is 18.91%.\n",
      "The portfolio Sharpe ratio is 0.5071.\n"
     ]
    }
   ],
   "source": [
    "# Create a vector of portfolio weights \n",
    "weights_4060 = np.asarray([0.4, 0.6])\n",
    "\n",
    "# Print the portfolio weights\n",
    "p(f'The portfolio weights are {weights_4060[0]*100}% {tickers[0]} and {weights_4060[1]*100}% {tickers[1]}.')\n",
    "\n",
    "# Calculate portfolio returns with vector-matrix multiplication\n",
    "pf_ret_4060 = round(np.dot(weights_4060, mean) * 252,4)\n",
    "\n",
    "# Calculate portfolio volatility with the covariance matrix dataframe\n",
    "pf_vol_4060 = round(np.sqrt(np.dot(weights_4060.T,np.dot(cov_matrix, weights_4060))) * np.sqrt(252),4)\n",
    "\n",
    "# Print the portfolio return and volatility\n",
    "p(f'The portfolio expected return is {round(pf_ret_4060*100,4)}%, and volatility is {pf_vol_4060*100}%.')\n",
    "\n",
    "# Calculate the portfolio Sharpe ratio\n",
    "sharpe_4060 = (pf_ret_4060 - rf) / pf_vol_4060\n",
    "\n",
    "# Print the portfolio Sharpe ratio\n",
    "p(f'The portfolio Sharpe ratio is {round(sharpe_4060,4)}.')"
   ]
  },
  {
   "cell_type": "code",
   "execution_count": 50,
   "metadata": {},
   "outputs": [],
   "source": [
    "# Create a dictionary of asset weights for each portfolio\n",
    "pf_3070 = {'IBM':weights_3070[0],'MSFT':weights_3070[1]}\n",
    "pf_4060 = {'IBM':weights_4060[0],'MSFT':weights_4060[1]}\n",
    "pf_5050 = {'IBM':weights_5050[0],'MSFT':weights_5050[1]}\n",
    "pf_6040 = {'IBM':weights_6040[0],'MSFT':weights_6040[1]}\n",
    "pf_7030 = {'IBM':weights_7030[0],'MSFT':weights_7030[1]}"
   ]
  },
  {
   "cell_type": "code",
   "execution_count": 51,
   "metadata": {},
   "outputs": [
    {
     "data": {
      "text/html": [
       "<div>\n",
       "<style scoped>\n",
       "    .dataframe tbody tr th:only-of-type {\n",
       "        vertical-align: middle;\n",
       "    }\n",
       "\n",
       "    .dataframe tbody tr th {\n",
       "        vertical-align: top;\n",
       "    }\n",
       "\n",
       "    .dataframe thead th {\n",
       "        text-align: right;\n",
       "    }\n",
       "</style>\n",
       "<table border=\"1\" class=\"dataframe\">\n",
       "  <thead>\n",
       "    <tr style=\"text-align: right;\">\n",
       "      <th></th>\n",
       "      <th>Portfolio</th>\n",
       "      <th>Returns</th>\n",
       "      <th>Sharpe Ratio</th>\n",
       "      <th>Volatility</th>\n",
       "    </tr>\n",
       "  </thead>\n",
       "  <tbody>\n",
       "    <tr>\n",
       "      <th>0</th>\n",
       "      <td>30/70</td>\n",
       "      <td>0.1119</td>\n",
       "      <td>0.567650</td>\n",
       "      <td>0.1966</td>\n",
       "    </tr>\n",
       "    <tr>\n",
       "      <th>1</th>\n",
       "      <td>40/60</td>\n",
       "      <td>0.0962</td>\n",
       "      <td>0.507139</td>\n",
       "      <td>0.1891</td>\n",
       "    </tr>\n",
       "    <tr>\n",
       "      <th>2</th>\n",
       "      <td>50/50</td>\n",
       "      <td>0.0805</td>\n",
       "      <td>0.436344</td>\n",
       "      <td>0.1838</td>\n",
       "    </tr>\n",
       "    <tr>\n",
       "      <th>3</th>\n",
       "      <td>60/40</td>\n",
       "      <td>0.0649</td>\n",
       "      <td>0.356906</td>\n",
       "      <td>0.1810</td>\n",
       "    </tr>\n",
       "    <tr>\n",
       "      <th>4</th>\n",
       "      <td>70/30</td>\n",
       "      <td>0.0492</td>\n",
       "      <td>0.270465</td>\n",
       "      <td>0.1808</td>\n",
       "    </tr>\n",
       "  </tbody>\n",
       "</table>\n",
       "</div>"
      ],
      "text/plain": [
       "  Portfolio  Returns  Sharpe Ratio  Volatility\n",
       "0     30/70   0.1119      0.567650      0.1966\n",
       "1     40/60   0.0962      0.507139      0.1891\n",
       "2     50/50   0.0805      0.436344      0.1838\n",
       "3     60/40   0.0649      0.356906      0.1810\n",
       "4     70/30   0.0492      0.270465      0.1808"
      ]
     },
     "execution_count": 51,
     "metadata": {},
     "output_type": "execute_result"
    }
   ],
   "source": [
    "# Create a dictionary containing data of all portfolios\n",
    "portfolio_data = {'Portfolio':['30/70','40/60','50/50','60/40','70/30'],\n",
    "                  'Returns':[pf_ret_3070,pf_ret_4060,pf_ret_5050,pf_ret_6040,pf_ret_7030],\n",
    "                  'Volatility':[pf_vol_3070,pf_vol_4060,pf_vol_5050,pf_vol_6040,pf_vol_7030],\n",
    "                  'Sharpe Ratio':[sharpe_3070,sharpe_4060,sharpe_5050,sharpe_6040,sharpe_7030]}\n",
    "\n",
    "# Convert the dictionary into DataFrame \n",
    "df = pd.DataFrame(portfolio_data)\n",
    "\n",
    "# Print the dataframe\n",
    "df"
   ]
  },
  {
   "cell_type": "code",
   "execution_count": 52,
   "metadata": {},
   "outputs": [
    {
     "data": {
      "text/html": [
       "<div>\n",
       "<style scoped>\n",
       "    .dataframe tbody tr th:only-of-type {\n",
       "        vertical-align: middle;\n",
       "    }\n",
       "\n",
       "    .dataframe tbody tr th {\n",
       "        vertical-align: top;\n",
       "    }\n",
       "\n",
       "    .dataframe thead th {\n",
       "        text-align: right;\n",
       "    }\n",
       "</style>\n",
       "<table border=\"1\" class=\"dataframe\">\n",
       "  <thead>\n",
       "    <tr style=\"text-align: right;\">\n",
       "      <th></th>\n",
       "      <th>Portfolio</th>\n",
       "      <th>Returns</th>\n",
       "      <th>Sharpe Ratio</th>\n",
       "      <th>Volatility</th>\n",
       "    </tr>\n",
       "  </thead>\n",
       "  <tbody>\n",
       "    <tr>\n",
       "      <th>0</th>\n",
       "      <td>30/70</td>\n",
       "      <td>0.1119</td>\n",
       "      <td>0.56765</td>\n",
       "      <td>0.1966</td>\n",
       "    </tr>\n",
       "  </tbody>\n",
       "</table>\n",
       "</div>"
      ],
      "text/plain": [
       "  Portfolio  Returns  Sharpe Ratio  Volatility\n",
       "0     30/70   0.1119       0.56765      0.1966"
      ]
     },
     "execution_count": 52,
     "metadata": {},
     "output_type": "execute_result"
    }
   ],
   "source": [
    "# Locate the maximum Sharpe ratio portfolio\n",
    "max_sharpe_pf = df[df['Sharpe Ratio'] == df['Sharpe Ratio'].max()]\n",
    "\n",
    "# Print the maximum Sharpe ratio portfolio\n",
    "max_sharpe_pf"
   ]
  },
  {
   "cell_type": "code",
   "execution_count": 53,
   "metadata": {},
   "outputs": [
    {
     "data": {
      "text/html": [
       "<div>\n",
       "<style scoped>\n",
       "    .dataframe tbody tr th:only-of-type {\n",
       "        vertical-align: middle;\n",
       "    }\n",
       "\n",
       "    .dataframe tbody tr th {\n",
       "        vertical-align: top;\n",
       "    }\n",
       "\n",
       "    .dataframe thead th {\n",
       "        text-align: right;\n",
       "    }\n",
       "</style>\n",
       "<table border=\"1\" class=\"dataframe\">\n",
       "  <thead>\n",
       "    <tr style=\"text-align: right;\">\n",
       "      <th></th>\n",
       "      <th>Portfolio</th>\n",
       "      <th>Returns</th>\n",
       "      <th>Sharpe Ratio</th>\n",
       "      <th>Volatility</th>\n",
       "    </tr>\n",
       "  </thead>\n",
       "  <tbody>\n",
       "    <tr>\n",
       "      <th>0</th>\n",
       "      <td>30/70</td>\n",
       "      <td>0.1119</td>\n",
       "      <td>0.56765</td>\n",
       "      <td>0.1966</td>\n",
       "    </tr>\n",
       "  </tbody>\n",
       "</table>\n",
       "</div>"
      ],
      "text/plain": [
       "  Portfolio  Returns  Sharpe Ratio  Volatility\n",
       "0     30/70   0.1119       0.56765      0.1966"
      ]
     },
     "execution_count": 53,
     "metadata": {},
     "output_type": "execute_result"
    }
   ],
   "source": [
    "# Locate the maximum returns portfolio\n",
    "max_ret_pf = df[df['Returns'] == df['Returns'].max()]\n",
    "\n",
    "# Print the the maximum returns portfolio\n",
    "max_ret_pf"
   ]
  },
  {
   "cell_type": "code",
   "execution_count": 54,
   "metadata": {},
   "outputs": [
    {
     "data": {
      "text/html": [
       "<div>\n",
       "<style scoped>\n",
       "    .dataframe tbody tr th:only-of-type {\n",
       "        vertical-align: middle;\n",
       "    }\n",
       "\n",
       "    .dataframe tbody tr th {\n",
       "        vertical-align: top;\n",
       "    }\n",
       "\n",
       "    .dataframe thead th {\n",
       "        text-align: right;\n",
       "    }\n",
       "</style>\n",
       "<table border=\"1\" class=\"dataframe\">\n",
       "  <thead>\n",
       "    <tr style=\"text-align: right;\">\n",
       "      <th></th>\n",
       "      <th>Portfolio</th>\n",
       "      <th>Returns</th>\n",
       "      <th>Sharpe Ratio</th>\n",
       "      <th>Volatility</th>\n",
       "    </tr>\n",
       "  </thead>\n",
       "  <tbody>\n",
       "    <tr>\n",
       "      <th>4</th>\n",
       "      <td>70/30</td>\n",
       "      <td>0.0492</td>\n",
       "      <td>0.270465</td>\n",
       "      <td>0.1808</td>\n",
       "    </tr>\n",
       "  </tbody>\n",
       "</table>\n",
       "</div>"
      ],
      "text/plain": [
       "  Portfolio  Returns  Sharpe Ratio  Volatility\n",
       "4     70/30   0.0492      0.270465      0.1808"
      ]
     },
     "execution_count": 54,
     "metadata": {},
     "output_type": "execute_result"
    }
   ],
   "source": [
    "# Locate the minimum volatility portfolio\n",
    "min_vol_pf = df[df['Volatility'] == df['Volatility'].min()]\n",
    "\n",
    "# Print the minimum volatility portfolio\n",
    "min_vol_pf"
   ]
  },
  {
   "cell_type": "markdown",
   "metadata": {},
   "source": [
    "We created a two stock portfolio. We made several versions of a two stock portfolio, which had different weights for each asset. We meausred the returns, volatility, and Sharpe ratio of each differently weighted portfolio. We found the maximum Sharpe ratio portfolio, maximum returns portfolio, and minimum volatility portfolio by manually adjusting the weights of the assets. Next, we will create a multiple stock portfolio,"
   ]
  }
 ],
 "metadata": {
  "kernelspec": {
   "display_name": "Python 3",
   "language": "python",
   "name": "python3"
  },
  "language_info": {
   "codemirror_mode": {
    "name": "ipython",
    "version": 3
   },
   "file_extension": ".py",
   "mimetype": "text/x-python",
   "name": "python",
   "nbconvert_exporter": "python",
   "pygments_lexer": "ipython3",
   "version": "3.6.8"
  },
  "toc": {
   "base_numbering": 1,
   "nav_menu": {},
   "number_sections": true,
   "sideBar": true,
   "skip_h1_title": true,
   "title_cell": "Table of Contents",
   "title_sidebar": "Contents",
   "toc_cell": true,
   "toc_position": {},
   "toc_section_display": true,
   "toc_window_display": false
  }
 },
 "nbformat": 4,
 "nbformat_minor": 2
}
