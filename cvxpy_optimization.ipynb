{
 "cells": [
  {
   "cell_type": "markdown",
   "metadata": {
    "toc": true
   },
   "source": [
    "<h1>Table of Contents<span class=\"tocSkip\"></span></h1>\n",
    "<div class=\"toc\"><ul class=\"toc-item\"><li><span><a href=\"#Maximum-Return-Portfolio\" data-toc-modified-id=\"Maximum-Return-Portfolio-1\"><span class=\"toc-item-num\">1&nbsp;&nbsp;</span>Maximum Return Portfolio</a></span></li><li><span><a href=\"#Minimum-Risk-Portfolio\" data-toc-modified-id=\"Minimum-Risk-Portfolio-2\"><span class=\"toc-item-num\">2&nbsp;&nbsp;</span>Minimum Risk Portfolio</a></span></li><li><span><a href=\"#Maximum-Sharpe-Portfolio\" data-toc-modified-id=\"Maximum-Sharpe-Portfolio-3\"><span class=\"toc-item-num\">3&nbsp;&nbsp;</span>Maximum Sharpe Portfolio</a></span></li></ul></div>"
   ]
  },
  {
   "cell_type": "code",
   "execution_count": 1,
   "metadata": {},
   "outputs": [],
   "source": [
    "import pandas_datareader.data as web\n",
    "import numpy as np, pandas as pd, scipy as sp\n",
    "import scipy.optimize as sco\n",
    "from scipy import stats\n",
    "from datetime import datetime\n",
    "import matplotlib.pyplot as plt\n",
    "import seaborn as sns\n",
    "sns.set_style(\"darkgrid\")\n",
    "%matplotlib inline\n",
    "p = print"
   ]
  },
  {
   "cell_type": "code",
   "execution_count": 3,
   "metadata": {},
   "outputs": [],
   "source": [
    "import cvxpy as cp\n",
    "import scipy as sp\n",
    "from scipy import sparse"
   ]
  },
  {
   "cell_type": "code",
   "execution_count": 4,
   "metadata": {},
   "outputs": [],
   "source": [
    "tickers = ['M','CVS', 'GS', 'NFLX', 'HPE']\n",
    "data = web.DataReader(tickers,'yahoo','01/01/2016','10/18/2019')['Adj Close']\n",
    "returns = data.pct_change().dropna()\n",
    "mean_return = returns.mean()\n",
    "return_stdev = returns.std()\n",
    "cov_matrix = returns.cov()\n",
    "rf = 0.00003"
   ]
  },
  {
   "cell_type": "code",
   "execution_count": 160,
   "metadata": {},
   "outputs": [
    {
     "data": {
      "text/plain": [
       "['CVS', 'GS', 'HPE', 'M', 'NFLX']"
      ]
     },
     "execution_count": 160,
     "metadata": {},
     "output_type": "execute_result"
    }
   ],
   "source": [
    "tickers.sort()\n",
    "tickers"
   ]
  },
  {
   "cell_type": "code",
   "execution_count": 62,
   "metadata": {},
   "outputs": [],
   "source": [
    "# Data for long only portfolio optimization\n",
    "n = len(tickers)\n",
    "mu = np.asarray(returns.mean() * 252)\n",
    "Sigma = np.asarray(returns.cov() * 252)"
   ]
  },
  {
   "cell_type": "code",
   "execution_count": 63,
   "metadata": {},
   "outputs": [
    {
     "data": {
      "text/plain": [
       "(5,)"
      ]
     },
     "execution_count": 63,
     "metadata": {},
     "output_type": "execute_result"
    }
   ],
   "source": [
    "mu.shape"
   ]
  },
  {
   "cell_type": "code",
   "execution_count": 64,
   "metadata": {},
   "outputs": [
    {
     "data": {
      "text/plain": [
       "(5,)"
      ]
     },
     "execution_count": 64,
     "metadata": {},
     "output_type": "execute_result"
    }
   ],
   "source": [
    "(mu.T).shape"
   ]
  },
  {
   "cell_type": "code",
   "execution_count": 65,
   "metadata": {},
   "outputs": [
    {
     "data": {
      "text/plain": [
       "(5, 5)"
      ]
     },
     "execution_count": 65,
     "metadata": {},
     "output_type": "execute_result"
    }
   ],
   "source": [
    "Sigma.shape"
   ]
  },
  {
   "cell_type": "code",
   "execution_count": 66,
   "metadata": {},
   "outputs": [],
   "source": [
    "weights = cp.Variable(len(tickers))"
   ]
  },
  {
   "cell_type": "code",
   "execution_count": 67,
   "metadata": {},
   "outputs": [
    {
     "data": {
      "text/plain": [
       "(5,)"
      ]
     },
     "execution_count": 67,
     "metadata": {},
     "output_type": "execute_result"
    }
   ],
   "source": [
    "weights.shape"
   ]
  },
  {
   "cell_type": "code",
   "execution_count": 68,
   "metadata": {},
   "outputs": [
    {
     "data": {
      "text/plain": [
       "Expression(AFFINE, UNKNOWN, ())"
      ]
     },
     "execution_count": 68,
     "metadata": {},
     "output_type": "execute_result"
    }
   ],
   "source": [
    "ret = (weights.T * mu)\n",
    "ret"
   ]
  },
  {
   "cell_type": "code",
   "execution_count": 69,
   "metadata": {},
   "outputs": [
    {
     "data": {
      "text/plain": [
       "()"
      ]
     },
     "execution_count": 69,
     "metadata": {},
     "output_type": "execute_result"
    }
   ],
   "source": [
    "ret.shape"
   ]
  },
  {
   "cell_type": "code",
   "execution_count": 102,
   "metadata": {},
   "outputs": [
    {
     "data": {
      "text/plain": [
       "Expression(QUASICONVEX, NONNEGATIVE, (1, 1))"
      ]
     },
     "execution_count": 102,
     "metadata": {},
     "output_type": "execute_result"
    }
   ],
   "source": [
    "risk = cp.sqrt(cp.quad_form(weights, Sigma))\n",
    "risk"
   ]
  },
  {
   "cell_type": "code",
   "execution_count": 71,
   "metadata": {},
   "outputs": [
    {
     "data": {
      "text/plain": [
       "(1, 1)"
      ]
     },
     "execution_count": 71,
     "metadata": {},
     "output_type": "execute_result"
    }
   ],
   "source": [
    "risk.shape"
   ]
  },
  {
   "cell_type": "code",
   "execution_count": 72,
   "metadata": {},
   "outputs": [
    {
     "data": {
      "text/plain": [
       "<bound method Expression.is_dcp of Expression(QUASICONVEX, NONNEGATIVE, (1, 1))>"
      ]
     },
     "execution_count": 72,
     "metadata": {},
     "output_type": "execute_result"
    }
   ],
   "source": [
    "risk.is_dcp"
   ]
  },
  {
   "cell_type": "code",
   "execution_count": 73,
   "metadata": {},
   "outputs": [
    {
     "data": {
      "text/plain": [
       "[Equality(Expression(AFFINE, UNKNOWN, ()), Constant(CONSTANT, NONNEGATIVE, ())),\n",
       " Inequality(Constant(CONSTANT, ZERO, ()))]"
      ]
     },
     "execution_count": 73,
     "metadata": {},
     "output_type": "execute_result"
    }
   ],
   "source": [
    "constraints = [cp.sum(weights) == 1, weights >= 0]\n",
    "constraints"
   ]
  },
  {
   "cell_type": "markdown",
   "metadata": {},
   "source": [
    "## Maximum Return Portfolio"
   ]
  },
  {
   "cell_type": "code",
   "execution_count": 145,
   "metadata": {},
   "outputs": [],
   "source": [
    "# objective = cp.Maximize(cp.matrix_frac(ret.T, risk))"
   ]
  },
  {
   "cell_type": "code",
   "execution_count": 146,
   "metadata": {},
   "outputs": [],
   "source": [
    "objective = cp.Maximize(ret)"
   ]
  },
  {
   "cell_type": "code",
   "execution_count": 147,
   "metadata": {},
   "outputs": [
    {
     "data": {
      "text/plain": [
       "<bound method Maximize.is_dcp of Maximize(Expression(AFFINE, UNKNOWN, ()))>"
      ]
     },
     "execution_count": 147,
     "metadata": {},
     "output_type": "execute_result"
    }
   ],
   "source": [
    "objective.is_dcp"
   ]
  },
  {
   "cell_type": "code",
   "execution_count": 148,
   "metadata": {},
   "outputs": [],
   "source": [
    "prob = cp.Problem(objective, constraints)"
   ]
  },
  {
   "cell_type": "code",
   "execution_count": 149,
   "metadata": {},
   "outputs": [
    {
     "data": {
      "text/plain": [
       "0.32022244923843785"
      ]
     },
     "execution_count": 149,
     "metadata": {},
     "output_type": "execute_result"
    }
   ],
   "source": [
    "prob.solve()"
   ]
  },
  {
   "cell_type": "code",
   "execution_count": 151,
   "metadata": {},
   "outputs": [
    {
     "data": {
      "text/plain": [
       "['CVS', 'GS', 'HPE', 'M', 'NFLX']"
      ]
     },
     "execution_count": 151,
     "metadata": {},
     "output_type": "execute_result"
    }
   ],
   "source": [
    "tickers"
   ]
  },
  {
   "cell_type": "code",
   "execution_count": 150,
   "metadata": {},
   "outputs": [
    {
     "data": {
      "text/plain": [
       "array([-1.95136763e-28, -1.95535045e-28, -1.95950276e-28, -1.94989622e-28,\n",
       "        1.00000000e+00])"
      ]
     },
     "execution_count": 150,
     "metadata": {},
     "output_type": "execute_result"
    }
   ],
   "source": [
    "weights.value"
   ]
  },
  {
   "cell_type": "code",
   "execution_count": 157,
   "metadata": {},
   "outputs": [
    {
     "data": {
      "text/plain": [
       "Symbols\n",
       "CVS    -0.000167\n",
       "GS      0.000338\n",
       "HPE     0.000866\n",
       "M      -0.000354\n",
       "NFLX    0.001271\n",
       "dtype: float64"
      ]
     },
     "execution_count": 157,
     "metadata": {},
     "output_type": "execute_result"
    }
   ],
   "source": [
    "returns = data.pct_change().dropna()\n",
    "returns.mean()"
   ]
  },
  {
   "cell_type": "code",
   "execution_count": 153,
   "metadata": {},
   "outputs": [
    {
     "data": {
      "text/html": [
       "<div>\n",
       "<style scoped>\n",
       "    .dataframe tbody tr th:only-of-type {\n",
       "        vertical-align: middle;\n",
       "    }\n",
       "\n",
       "    .dataframe tbody tr th {\n",
       "        vertical-align: top;\n",
       "    }\n",
       "\n",
       "    .dataframe thead th {\n",
       "        text-align: right;\n",
       "    }\n",
       "</style>\n",
       "<table border=\"1\" class=\"dataframe\">\n",
       "  <thead>\n",
       "    <tr style=\"text-align: right;\">\n",
       "      <th>Symbols</th>\n",
       "      <th>CVS</th>\n",
       "      <th>GS</th>\n",
       "      <th>HPE</th>\n",
       "      <th>M</th>\n",
       "      <th>NFLX</th>\n",
       "    </tr>\n",
       "    <tr>\n",
       "      <th>Date</th>\n",
       "      <th></th>\n",
       "      <th></th>\n",
       "      <th></th>\n",
       "      <th></th>\n",
       "      <th></th>\n",
       "    </tr>\n",
       "  </thead>\n",
       "  <tbody>\n",
       "    <tr>\n",
       "      <th>2016-01-04</th>\n",
       "      <td>1.000000</td>\n",
       "      <td>1.000000</td>\n",
       "      <td>1.000000</td>\n",
       "      <td>1.000000</td>\n",
       "      <td>1.000000</td>\n",
       "    </tr>\n",
       "    <tr>\n",
       "      <th>2016-01-05</th>\n",
       "      <td>1.002903</td>\n",
       "      <td>0.982782</td>\n",
       "      <td>0.993391</td>\n",
       "      <td>1.032691</td>\n",
       "      <td>0.979083</td>\n",
       "    </tr>\n",
       "    <tr>\n",
       "      <th>2016-01-06</th>\n",
       "      <td>0.990670</td>\n",
       "      <td>0.958790</td>\n",
       "      <td>0.978189</td>\n",
       "      <td>1.010059</td>\n",
       "      <td>1.070207</td>\n",
       "    </tr>\n",
       "    <tr>\n",
       "      <th>2016-01-07</th>\n",
       "      <td>0.976363</td>\n",
       "      <td>0.929321</td>\n",
       "      <td>0.906147</td>\n",
       "      <td>1.030735</td>\n",
       "      <td>1.041833</td>\n",
       "    </tr>\n",
       "    <tr>\n",
       "      <th>2016-01-08</th>\n",
       "      <td>0.969936</td>\n",
       "      <td>0.925483</td>\n",
       "      <td>0.894911</td>\n",
       "      <td>1.002794</td>\n",
       "      <td>1.013005</td>\n",
       "    </tr>\n",
       "  </tbody>\n",
       "</table>\n",
       "</div>"
      ],
      "text/plain": [
       "Symbols          CVS        GS       HPE         M      NFLX\n",
       "Date                                                        \n",
       "2016-01-04  1.000000  1.000000  1.000000  1.000000  1.000000\n",
       "2016-01-05  1.002903  0.982782  0.993391  1.032691  0.979083\n",
       "2016-01-06  0.990670  0.958790  0.978189  1.010059  1.070207\n",
       "2016-01-07  0.976363  0.929321  0.906147  1.030735  1.041833\n",
       "2016-01-08  0.969936  0.925483  0.894911  1.002794  1.013005"
      ]
     },
     "execution_count": 153,
     "metadata": {},
     "output_type": "execute_result"
    }
   ],
   "source": [
    "normalize_return = data / data.iloc[0]\n",
    "normalize_return.head()"
   ]
  },
  {
   "cell_type": "code",
   "execution_count": 154,
   "metadata": {},
   "outputs": [
    {
     "data": {
      "text/html": [
       "<div>\n",
       "<style scoped>\n",
       "    .dataframe tbody tr th:only-of-type {\n",
       "        vertical-align: middle;\n",
       "    }\n",
       "\n",
       "    .dataframe tbody tr th {\n",
       "        vertical-align: top;\n",
       "    }\n",
       "\n",
       "    .dataframe thead th {\n",
       "        text-align: right;\n",
       "    }\n",
       "</style>\n",
       "<table border=\"1\" class=\"dataframe\">\n",
       "  <thead>\n",
       "    <tr style=\"text-align: right;\">\n",
       "      <th>Symbols</th>\n",
       "      <th>CVS</th>\n",
       "      <th>GS</th>\n",
       "      <th>HPE</th>\n",
       "      <th>M</th>\n",
       "      <th>NFLX</th>\n",
       "    </tr>\n",
       "    <tr>\n",
       "      <th>Date</th>\n",
       "      <th></th>\n",
       "      <th></th>\n",
       "      <th></th>\n",
       "      <th></th>\n",
       "      <th></th>\n",
       "    </tr>\n",
       "  </thead>\n",
       "  <tbody>\n",
       "    <tr>\n",
       "      <th>2016-01-04</th>\n",
       "      <td>-1.951368e-28</td>\n",
       "      <td>-1.955350e-28</td>\n",
       "      <td>-1.959503e-28</td>\n",
       "      <td>-1.949896e-28</td>\n",
       "      <td>1.000000</td>\n",
       "    </tr>\n",
       "    <tr>\n",
       "      <th>2016-01-05</th>\n",
       "      <td>-1.957032e-28</td>\n",
       "      <td>-1.921683e-28</td>\n",
       "      <td>-1.946552e-28</td>\n",
       "      <td>-2.013639e-28</td>\n",
       "      <td>0.979083</td>\n",
       "    </tr>\n",
       "    <tr>\n",
       "      <th>2016-01-06</th>\n",
       "      <td>-1.933160e-28</td>\n",
       "      <td>-1.874770e-28</td>\n",
       "      <td>-1.916764e-28</td>\n",
       "      <td>-1.969510e-28</td>\n",
       "      <td>1.070207</td>\n",
       "    </tr>\n",
       "    <tr>\n",
       "      <th>2016-01-07</th>\n",
       "      <td>-1.905244e-28</td>\n",
       "      <td>-1.817149e-28</td>\n",
       "      <td>-1.775597e-28</td>\n",
       "      <td>-2.009826e-28</td>\n",
       "      <td>1.041833</td>\n",
       "    </tr>\n",
       "    <tr>\n",
       "      <th>2016-01-08</th>\n",
       "      <td>-1.892702e-28</td>\n",
       "      <td>-1.809643e-28</td>\n",
       "      <td>-1.753580e-28</td>\n",
       "      <td>-1.955344e-28</td>\n",
       "      <td>1.013005</td>\n",
       "    </tr>\n",
       "  </tbody>\n",
       "</table>\n",
       "</div>"
      ],
      "text/plain": [
       "Symbols              CVS            GS           HPE             M      NFLX\n",
       "Date                                                                        \n",
       "2016-01-04 -1.951368e-28 -1.955350e-28 -1.959503e-28 -1.949896e-28  1.000000\n",
       "2016-01-05 -1.957032e-28 -1.921683e-28 -1.946552e-28 -2.013639e-28  0.979083\n",
       "2016-01-06 -1.933160e-28 -1.874770e-28 -1.916764e-28 -1.969510e-28  1.070207\n",
       "2016-01-07 -1.905244e-28 -1.817149e-28 -1.775597e-28 -2.009826e-28  1.041833\n",
       "2016-01-08 -1.892702e-28 -1.809643e-28 -1.753580e-28 -1.955344e-28  1.013005"
      ]
     },
     "execution_count": 154,
     "metadata": {},
     "output_type": "execute_result"
    }
   ],
   "source": [
    "allocation = normalize_return * weights.value\n",
    "allocation.head()"
   ]
  },
  {
   "cell_type": "code",
   "execution_count": 158,
   "metadata": {},
   "outputs": [
    {
     "data": {
      "text/html": [
       "<div>\n",
       "<style scoped>\n",
       "    .dataframe tbody tr th:only-of-type {\n",
       "        vertical-align: middle;\n",
       "    }\n",
       "\n",
       "    .dataframe tbody tr th {\n",
       "        vertical-align: top;\n",
       "    }\n",
       "\n",
       "    .dataframe thead th {\n",
       "        text-align: right;\n",
       "    }\n",
       "</style>\n",
       "<table border=\"1\" class=\"dataframe\">\n",
       "  <thead>\n",
       "    <tr style=\"text-align: right;\">\n",
       "      <th>Symbols</th>\n",
       "      <th>CVS</th>\n",
       "      <th>GS</th>\n",
       "      <th>HPE</th>\n",
       "      <th>M</th>\n",
       "      <th>NFLX</th>\n",
       "    </tr>\n",
       "    <tr>\n",
       "      <th>Date</th>\n",
       "      <th></th>\n",
       "      <th></th>\n",
       "      <th></th>\n",
       "      <th></th>\n",
       "      <th></th>\n",
       "    </tr>\n",
       "  </thead>\n",
       "  <tbody>\n",
       "    <tr>\n",
       "      <th>2016-01-04</th>\n",
       "      <td>-1.951368e-23</td>\n",
       "      <td>-1.955350e-23</td>\n",
       "      <td>-1.959503e-23</td>\n",
       "      <td>-1.949896e-23</td>\n",
       "      <td>100000.000000</td>\n",
       "    </tr>\n",
       "    <tr>\n",
       "      <th>2016-01-05</th>\n",
       "      <td>-1.957032e-23</td>\n",
       "      <td>-1.921683e-23</td>\n",
       "      <td>-1.946552e-23</td>\n",
       "      <td>-2.013639e-23</td>\n",
       "      <td>97908.334448</td>\n",
       "    </tr>\n",
       "    <tr>\n",
       "      <th>2016-01-06</th>\n",
       "      <td>-1.933160e-23</td>\n",
       "      <td>-1.874770e-23</td>\n",
       "      <td>-1.916764e-23</td>\n",
       "      <td>-1.969510e-23</td>\n",
       "      <td>107020.735981</td>\n",
       "    </tr>\n",
       "    <tr>\n",
       "      <th>2016-01-07</th>\n",
       "      <td>-1.905244e-23</td>\n",
       "      <td>-1.817149e-23</td>\n",
       "      <td>-1.775597e-23</td>\n",
       "      <td>-2.009826e-23</td>\n",
       "      <td>104183.338043</td>\n",
       "    </tr>\n",
       "    <tr>\n",
       "      <th>2016-01-08</th>\n",
       "      <td>-1.892702e-23</td>\n",
       "      <td>-1.809643e-23</td>\n",
       "      <td>-1.753580e-23</td>\n",
       "      <td>-1.955344e-23</td>\n",
       "      <td>101300.473188</td>\n",
       "    </tr>\n",
       "  </tbody>\n",
       "</table>\n",
       "</div>"
      ],
      "text/plain": [
       "Symbols              CVS            GS           HPE             M  \\\n",
       "Date                                                                 \n",
       "2016-01-04 -1.951368e-23 -1.955350e-23 -1.959503e-23 -1.949896e-23   \n",
       "2016-01-05 -1.957032e-23 -1.921683e-23 -1.946552e-23 -2.013639e-23   \n",
       "2016-01-06 -1.933160e-23 -1.874770e-23 -1.916764e-23 -1.969510e-23   \n",
       "2016-01-07 -1.905244e-23 -1.817149e-23 -1.775597e-23 -2.009826e-23   \n",
       "2016-01-08 -1.892702e-23 -1.809643e-23 -1.753580e-23 -1.955344e-23   \n",
       "\n",
       "Symbols              NFLX  \n",
       "Date                       \n",
       "2016-01-04  100000.000000  \n",
       "2016-01-05   97908.334448  \n",
       "2016-01-06  107020.735981  \n",
       "2016-01-07  104183.338043  \n",
       "2016-01-08  101300.473188  "
      ]
     },
     "execution_count": 158,
     "metadata": {},
     "output_type": "execute_result"
    }
   ],
   "source": [
    "capital = 100000\n",
    "portfolio_value = allocation * capital\n",
    "portfolio_value.head()"
   ]
  },
  {
   "cell_type": "code",
   "execution_count": 159,
   "metadata": {},
   "outputs": [
    {
     "data": {
      "text/plain": [
       "['CVS', 'GS', 'HPE', 'M', 'NFLX']"
      ]
     },
     "execution_count": 159,
     "metadata": {},
     "output_type": "execute_result"
    }
   ],
   "source": [
    "tickers"
   ]
  },
  {
   "cell_type": "code",
   "execution_count": 161,
   "metadata": {},
   "outputs": [
    {
     "data": {
      "text/html": [
       "<div>\n",
       "<style scoped>\n",
       "    .dataframe tbody tr th:only-of-type {\n",
       "        vertical-align: middle;\n",
       "    }\n",
       "\n",
       "    .dataframe tbody tr th {\n",
       "        vertical-align: top;\n",
       "    }\n",
       "\n",
       "    .dataframe thead th {\n",
       "        text-align: right;\n",
       "    }\n",
       "</style>\n",
       "<table border=\"1\" class=\"dataframe\">\n",
       "  <thead>\n",
       "    <tr style=\"text-align: right;\">\n",
       "      <th></th>\n",
       "      <th>CVS Position</th>\n",
       "      <th>GS Position</th>\n",
       "      <th>HPE Position</th>\n",
       "      <th>M Position</th>\n",
       "      <th>NFLX Position</th>\n",
       "    </tr>\n",
       "    <tr>\n",
       "      <th>Date</th>\n",
       "      <th></th>\n",
       "      <th></th>\n",
       "      <th></th>\n",
       "      <th></th>\n",
       "      <th></th>\n",
       "    </tr>\n",
       "  </thead>\n",
       "  <tbody>\n",
       "    <tr>\n",
       "      <th>2016-01-04</th>\n",
       "      <td>-1.951368e-23</td>\n",
       "      <td>-1.955350e-23</td>\n",
       "      <td>-1.959503e-23</td>\n",
       "      <td>-1.949896e-23</td>\n",
       "      <td>100000.000000</td>\n",
       "    </tr>\n",
       "    <tr>\n",
       "      <th>2016-01-05</th>\n",
       "      <td>-1.957032e-23</td>\n",
       "      <td>-1.921683e-23</td>\n",
       "      <td>-1.946552e-23</td>\n",
       "      <td>-2.013639e-23</td>\n",
       "      <td>97908.334448</td>\n",
       "    </tr>\n",
       "    <tr>\n",
       "      <th>2016-01-06</th>\n",
       "      <td>-1.933160e-23</td>\n",
       "      <td>-1.874770e-23</td>\n",
       "      <td>-1.916764e-23</td>\n",
       "      <td>-1.969510e-23</td>\n",
       "      <td>107020.735981</td>\n",
       "    </tr>\n",
       "    <tr>\n",
       "      <th>2016-01-07</th>\n",
       "      <td>-1.905244e-23</td>\n",
       "      <td>-1.817149e-23</td>\n",
       "      <td>-1.775597e-23</td>\n",
       "      <td>-2.009826e-23</td>\n",
       "      <td>104183.338043</td>\n",
       "    </tr>\n",
       "    <tr>\n",
       "      <th>2016-01-08</th>\n",
       "      <td>-1.892702e-23</td>\n",
       "      <td>-1.809643e-23</td>\n",
       "      <td>-1.753580e-23</td>\n",
       "      <td>-1.955344e-23</td>\n",
       "      <td>101300.473188</td>\n",
       "    </tr>\n",
       "  </tbody>\n",
       "</table>\n",
       "</div>"
      ],
      "text/plain": [
       "            CVS Position   GS Position  HPE Position    M Position  \\\n",
       "Date                                                                 \n",
       "2016-01-04 -1.951368e-23 -1.955350e-23 -1.959503e-23 -1.949896e-23   \n",
       "2016-01-05 -1.957032e-23 -1.921683e-23 -1.946552e-23 -2.013639e-23   \n",
       "2016-01-06 -1.933160e-23 -1.874770e-23 -1.916764e-23 -1.969510e-23   \n",
       "2016-01-07 -1.905244e-23 -1.817149e-23 -1.775597e-23 -2.009826e-23   \n",
       "2016-01-08 -1.892702e-23 -1.809643e-23 -1.753580e-23 -1.955344e-23   \n",
       "\n",
       "            NFLX Position  \n",
       "Date                       \n",
       "2016-01-04  100000.000000  \n",
       "2016-01-05   97908.334448  \n",
       "2016-01-06  107020.735981  \n",
       "2016-01-07  104183.338043  \n",
       "2016-01-08  101300.473188  "
      ]
     },
     "execution_count": 161,
     "metadata": {},
     "output_type": "execute_result"
    }
   ],
   "source": [
    "portfolio_value.columns = [ticker + ' Position' for ticker in tickers]\n",
    "portfolio_value.head()"
   ]
  },
  {
   "cell_type": "code",
   "execution_count": 163,
   "metadata": {},
   "outputs": [
    {
     "data": {
      "text/html": [
       "<div>\n",
       "<style scoped>\n",
       "    .dataframe tbody tr th:only-of-type {\n",
       "        vertical-align: middle;\n",
       "    }\n",
       "\n",
       "    .dataframe tbody tr th {\n",
       "        vertical-align: top;\n",
       "    }\n",
       "\n",
       "    .dataframe thead th {\n",
       "        text-align: right;\n",
       "    }\n",
       "</style>\n",
       "<table border=\"1\" class=\"dataframe\">\n",
       "  <thead>\n",
       "    <tr style=\"text-align: right;\">\n",
       "      <th></th>\n",
       "      <th>CVS Position</th>\n",
       "      <th>GS Position</th>\n",
       "      <th>HPE Position</th>\n",
       "      <th>M Position</th>\n",
       "      <th>NFLX Position</th>\n",
       "      <th>Total Position</th>\n",
       "    </tr>\n",
       "    <tr>\n",
       "      <th>Date</th>\n",
       "      <th></th>\n",
       "      <th></th>\n",
       "      <th></th>\n",
       "      <th></th>\n",
       "      <th></th>\n",
       "      <th></th>\n",
       "    </tr>\n",
       "  </thead>\n",
       "  <tbody>\n",
       "    <tr>\n",
       "      <th>2016-01-04</th>\n",
       "      <td>-1.951368e-23</td>\n",
       "      <td>-1.955350e-23</td>\n",
       "      <td>-1.959503e-23</td>\n",
       "      <td>-1.949896e-23</td>\n",
       "      <td>100000.000000</td>\n",
       "      <td>100000.000000</td>\n",
       "    </tr>\n",
       "    <tr>\n",
       "      <th>2016-01-05</th>\n",
       "      <td>-1.957032e-23</td>\n",
       "      <td>-1.921683e-23</td>\n",
       "      <td>-1.946552e-23</td>\n",
       "      <td>-2.013639e-23</td>\n",
       "      <td>97908.334448</td>\n",
       "      <td>97908.334448</td>\n",
       "    </tr>\n",
       "    <tr>\n",
       "      <th>2016-01-06</th>\n",
       "      <td>-1.933160e-23</td>\n",
       "      <td>-1.874770e-23</td>\n",
       "      <td>-1.916764e-23</td>\n",
       "      <td>-1.969510e-23</td>\n",
       "      <td>107020.735981</td>\n",
       "      <td>107020.735981</td>\n",
       "    </tr>\n",
       "    <tr>\n",
       "      <th>2016-01-07</th>\n",
       "      <td>-1.905244e-23</td>\n",
       "      <td>-1.817149e-23</td>\n",
       "      <td>-1.775597e-23</td>\n",
       "      <td>-2.009826e-23</td>\n",
       "      <td>104183.338043</td>\n",
       "      <td>104183.338043</td>\n",
       "    </tr>\n",
       "    <tr>\n",
       "      <th>2016-01-08</th>\n",
       "      <td>-1.892702e-23</td>\n",
       "      <td>-1.809643e-23</td>\n",
       "      <td>-1.753580e-23</td>\n",
       "      <td>-1.955344e-23</td>\n",
       "      <td>101300.473188</td>\n",
       "      <td>101300.473188</td>\n",
       "    </tr>\n",
       "  </tbody>\n",
       "</table>\n",
       "</div>"
      ],
      "text/plain": [
       "            CVS Position   GS Position  HPE Position    M Position  \\\n",
       "Date                                                                 \n",
       "2016-01-04 -1.951368e-23 -1.955350e-23 -1.959503e-23 -1.949896e-23   \n",
       "2016-01-05 -1.957032e-23 -1.921683e-23 -1.946552e-23 -2.013639e-23   \n",
       "2016-01-06 -1.933160e-23 -1.874770e-23 -1.916764e-23 -1.969510e-23   \n",
       "2016-01-07 -1.905244e-23 -1.817149e-23 -1.775597e-23 -2.009826e-23   \n",
       "2016-01-08 -1.892702e-23 -1.809643e-23 -1.753580e-23 -1.955344e-23   \n",
       "\n",
       "            NFLX Position  Total Position  \n",
       "Date                                       \n",
       "2016-01-04  100000.000000   100000.000000  \n",
       "2016-01-05   97908.334448    97908.334448  \n",
       "2016-01-06  107020.735981   107020.735981  \n",
       "2016-01-07  104183.338043   104183.338043  \n",
       "2016-01-08  101300.473188   101300.473188  "
      ]
     },
     "execution_count": 163,
     "metadata": {},
     "output_type": "execute_result"
    }
   ],
   "source": [
    "portfolio_value['Total Position'] = np.sum(portfolio_value, axis=1)\n",
    "portfolio_value.head()"
   ]
  },
  {
   "cell_type": "code",
   "execution_count": 166,
   "metadata": {},
   "outputs": [
    {
     "data": {
      "image/png": "[encoded data removed]",
      "text/plain": [
       "<Figure size 720x576 with 1 Axes>"
      ]
     },
     "metadata": {
      "needs_background": "light"
     },
     "output_type": "display_data"
    }
   ],
   "source": [
    "portfolio_value['Total Position'].plot(figsize=(10,8), title='Total Position');"
   ]
  },
  {
   "cell_type": "code",
   "execution_count": 168,
   "metadata": {},
   "outputs": [
    {
     "data": {
      "image/png": "[encoded data removed]",
      "text/plain": [
       "<Figure size 720x576 with 1 Axes>"
      ]
     },
     "metadata": {
      "needs_background": "light"
     },
     "output_type": "display_data"
    }
   ],
   "source": [
    "portfolio_value.drop(['Total Position'], axis=1).plot(figsize=(10,8), title='Asset Positions');"
   ]
  },
  {
   "cell_type": "code",
   "execution_count": null,
   "metadata": {},
   "outputs": [],
   "source": []
  },
  {
   "cell_type": "markdown",
   "metadata": {},
   "source": [
    "## Minimum Risk Portfolio"
   ]
  },
  {
   "cell_type": "code",
   "execution_count": 103,
   "metadata": {},
   "outputs": [
    {
     "data": {
      "text/plain": [
       "<bound method Expression.is_dcp of Expression(QUASICONVEX, NONNEGATIVE, (1, 1))>"
      ]
     },
     "execution_count": 103,
     "metadata": {},
     "output_type": "execute_result"
    }
   ],
   "source": [
    "risk.is_dcp"
   ]
  },
  {
   "cell_type": "code",
   "execution_count": 76,
   "metadata": {},
   "outputs": [
    {
     "data": {
      "text/plain": [
       "Minimize(Expression(QUASICONVEX, NONNEGATIVE, (1, 1)))"
      ]
     },
     "execution_count": 76,
     "metadata": {},
     "output_type": "execute_result"
    }
   ],
   "source": [
    "objective = cp.Minimize(risk)\n",
    "objective"
   ]
  },
  {
   "cell_type": "code",
   "execution_count": 77,
   "metadata": {},
   "outputs": [
    {
     "data": {
      "text/plain": [
       "False"
      ]
     },
     "execution_count": 77,
     "metadata": {},
     "output_type": "execute_result"
    }
   ],
   "source": [
    "objective.is_dcp()"
   ]
  },
  {
   "cell_type": "code",
   "execution_count": 78,
   "metadata": {},
   "outputs": [],
   "source": [
    "prob = cp.Problem(objective, constraints)"
   ]
  },
  {
   "cell_type": "code",
   "execution_count": 79,
   "metadata": {},
   "outputs": [
    {
     "data": {
      "text/plain": [
       "Problem(Minimize(Expression(QUASICONVEX, NONNEGATIVE, (1, 1))), [Equality(Expression(AFFINE, UNKNOWN, ()), Constant(CONSTANT, NONNEGATIVE, ())), Inequality(Constant(CONSTANT, ZERO, ()))])"
      ]
     },
     "execution_count": 79,
     "metadata": {},
     "output_type": "execute_result"
    }
   ],
   "source": [
    "prob"
   ]
  },
  {
   "cell_type": "code",
   "execution_count": 84,
   "metadata": {},
   "outputs": [
    {
     "data": {
      "text/plain": [
       "0.18819570541381836"
      ]
     },
     "execution_count": 84,
     "metadata": {},
     "output_type": "execute_result"
    }
   ],
   "source": [
    "# Volatility of minimum risk portfolio\n",
    "prob.solve( qcp=True)"
   ]
  },
  {
   "cell_type": "code",
   "execution_count": 83,
   "metadata": {},
   "outputs": [
    {
     "data": {
      "text/plain": [
       "array([0.38937143, 0.30224439, 0.14621311, 0.08510487, 0.0770662 ])"
      ]
     },
     "execution_count": 83,
     "metadata": {},
     "output_type": "execute_result"
    }
   ],
   "source": [
    "# Weights of minimum risk portfolio\n",
    "weights.value"
   ]
  },
  {
   "cell_type": "code",
   "execution_count": 169,
   "metadata": {},
   "outputs": [
    {
     "data": {
      "text/plain": [
       "['CVS', 'GS', 'HPE', 'M', 'NFLX']"
      ]
     },
     "execution_count": 169,
     "metadata": {},
     "output_type": "execute_result"
    }
   ],
   "source": [
    "tickers"
   ]
  },
  {
   "cell_type": "code",
   "execution_count": null,
   "metadata": {},
   "outputs": [],
   "source": []
  },
  {
   "cell_type": "markdown",
   "metadata": {},
   "source": [
    "## Maximum Sharpe Portfolio"
   ]
  },
  {
   "cell_type": "code",
   "execution_count": 107,
   "metadata": {},
   "outputs": [],
   "source": [
    "sharpe = cp.log(ret) - cp.log(risk)"
   ]
  },
  {
   "cell_type": "code",
   "execution_count": 140,
   "metadata": {},
   "outputs": [],
   "source": [
    "sharpe = (cp.log(ret) - cp.log(risk))"
   ]
  },
  {
   "cell_type": "code",
   "execution_count": 141,
   "metadata": {},
   "outputs": [
    {
     "data": {
      "text/plain": [
       "Expression(UNKNOWN, UNKNOWN, (1, 1))"
      ]
     },
     "execution_count": 141,
     "metadata": {},
     "output_type": "execute_result"
    }
   ],
   "source": [
    "sharpe"
   ]
  },
  {
   "cell_type": "code",
   "execution_count": 142,
   "metadata": {},
   "outputs": [
    {
     "data": {
      "text/plain": [
       "<bound method Expression.is_dcp of Expression(UNKNOWN, UNKNOWN, (1, 1))>"
      ]
     },
     "execution_count": 142,
     "metadata": {},
     "output_type": "execute_result"
    }
   ],
   "source": [
    "sharpe.is_dcp"
   ]
  },
  {
   "cell_type": "code",
   "execution_count": 129,
   "metadata": {},
   "outputs": [],
   "source": [
    "objective = cp.Maximize(sharpe)"
   ]
  },
  {
   "cell_type": "code",
   "execution_count": 132,
   "metadata": {},
   "outputs": [
    {
     "data": {
      "text/plain": [
       "<bound method Maximize.is_dgp of Maximize(Expression(AFFINE, UNKNOWN, ()))>"
      ]
     },
     "execution_count": 132,
     "metadata": {},
     "output_type": "execute_result"
    }
   ],
   "source": [
    "objective.is_dgp"
   ]
  },
  {
   "cell_type": "code",
   "execution_count": 133,
   "metadata": {},
   "outputs": [],
   "source": [
    "prob = cp.Problem(objective, constraints)"
   ]
  },
  {
   "cell_type": "code",
   "execution_count": 134,
   "metadata": {},
   "outputs": [
    {
     "data": {
      "text/plain": [
       "0.32022244923843785"
      ]
     },
     "execution_count": 134,
     "metadata": {},
     "output_type": "execute_result"
    }
   ],
   "source": [
    "prob.solve()"
   ]
  },
  {
   "cell_type": "code",
   "execution_count": 135,
   "metadata": {},
   "outputs": [
    {
     "data": {
      "text/plain": [
       "['CVS', 'GS', 'HPE', 'M', 'NFLX']"
      ]
     },
     "execution_count": 135,
     "metadata": {},
     "output_type": "execute_result"
    }
   ],
   "source": [
    "tickers"
   ]
  },
  {
   "cell_type": "code",
   "execution_count": 136,
   "metadata": {},
   "outputs": [
    {
     "data": {
      "text/plain": [
       "['CVS', 'GS', 'HPE', 'M', 'NFLX']"
      ]
     },
     "execution_count": 136,
     "metadata": {},
     "output_type": "execute_result"
    }
   ],
   "source": [
    "tickers.sort()\n",
    "tickers"
   ]
  },
  {
   "cell_type": "code",
   "execution_count": 137,
   "metadata": {},
   "outputs": [
    {
     "data": {
      "text/plain": [
       "array([-1.95136763e-28, -1.95535045e-28, -1.95950276e-28, -1.94989622e-28,\n",
       "        1.00000000e+00])"
      ]
     },
     "execution_count": 137,
     "metadata": {},
     "output_type": "execute_result"
    }
   ],
   "source": [
    "weights.value"
   ]
  },
  {
   "cell_type": "code",
   "execution_count": null,
   "metadata": {},
   "outputs": [],
   "source": [
    "tic"
   ]
  }
 ],
 "metadata": {
  "kernelspec": {
   "display_name": "Python 3",
   "language": "python",
   "name": "python3"
  },
  "language_info": {
   "codemirror_mode": {
    "name": "ipython",
    "version": 3
   },
   "file_extension": ".py",
   "mimetype": "text/x-python",
   "name": "python",
   "nbconvert_exporter": "python",
   "pygments_lexer": "ipython3",
   "version": "3.6.8"
  },
  "toc": {
   "base_numbering": 1,
   "nav_menu": {},
   "number_sections": true,
   "sideBar": true,
   "skip_h1_title": true,
   "title_cell": "Table of Contents",
   "title_sidebar": "Contents",
   "toc_cell": true,
   "toc_position": {},
   "toc_section_display": true,
   "toc_window_display": false
  }
 },
 "nbformat": 4,
 "nbformat_minor": 2
}
