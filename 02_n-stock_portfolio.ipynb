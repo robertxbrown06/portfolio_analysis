{
 "cells": [
  {
   "cell_type": "markdown",
   "metadata": {
    "toc": true
   },
   "source": [
    "<h1>Table of Contents<span class=\"tocSkip\"></span></h1>\n",
    "<div class=\"toc\"><ul class=\"toc-item\"></ul></div>"
   ]
  },
  {
   "cell_type": "markdown",
   "metadata": {},
   "source": [
    "# Forming a multi-stock portfolio"
   ]
  },
  {
   "cell_type": "code",
   "execution_count": 1,
   "metadata": {},
   "outputs": [],
   "source": [
    "import pandas_datareader.data as web\n",
    "import numpy as np\n",
    "import pandas as pd\n",
    "from datetime import datetime\n",
    "import matplotlib.pyplot as plt\n",
    "import seaborn as sns\n",
    "sns.set_style(\"darkgrid\")\n",
    "%matplotlib inline\n",
    "p = print"
   ]
  },
  {
   "cell_type": "code",
   "execution_count": 2,
   "metadata": {},
   "outputs": [],
   "source": [
    "# Create a list of stocks\n",
    "tickers = ['AAPL','IBM', 'MSFT']"
   ]
  },
  {
   "cell_type": "code",
   "execution_count": 3,
   "metadata": {},
   "outputs": [],
   "source": [
    "# # Create a dataframe of stock prices\n",
    "# df = web.DataReader(tickers,'yahoo','01/01/2010','10/18/2019')['Adj Close']"
   ]
  },
  {
   "cell_type": "code",
   "execution_count": 4,
   "metadata": {},
   "outputs": [],
   "source": [
    "# # Save the data to a file\n",
    "# df.to_csv('AAPL_MSFT_IBM.csv')"
   ]
  },
  {
   "cell_type": "code",
   "execution_count": 5,
   "metadata": {},
   "outputs": [],
   "source": [
    "# load the stock data\n",
    "df = pd.read_csv('AAPL_MSFT_IBM.csv', index_col='Date', parse_dates=True)"
   ]
  },
  {
   "cell_type": "code",
   "execution_count": 6,
   "metadata": {},
   "outputs": [
    {
     "name": "stdout",
     "output_type": "stream",
     "text": [
      "<class 'pandas.core.frame.DataFrame'>\n",
      "DatetimeIndex: 2466 entries, 2010-01-04 to 2019-10-18\n",
      "Data columns (total 3 columns):\n",
      "AAPL    2466 non-null float64\n",
      "IBM     2466 non-null float64\n",
      "MSFT    2466 non-null float64\n",
      "dtypes: float64(3)\n",
      "memory usage: 77.1 KB\n"
     ]
    }
   ],
   "source": [
    "# Print the full summary\n",
    "df.info()"
   ]
  },
  {
   "cell_type": "code",
   "execution_count": 7,
   "metadata": {},
   "outputs": [
    {
     "data": {
      "text/html": [
       "<div>\n",
       "<style scoped>\n",
       "    .dataframe tbody tr th:only-of-type {\n",
       "        vertical-align: middle;\n",
       "    }\n",
       "\n",
       "    .dataframe tbody tr th {\n",
       "        vertical-align: top;\n",
       "    }\n",
       "\n",
       "    .dataframe thead th {\n",
       "        text-align: right;\n",
       "    }\n",
       "</style>\n",
       "<table border=\"1\" class=\"dataframe\">\n",
       "  <thead>\n",
       "    <tr style=\"text-align: right;\">\n",
       "      <th></th>\n",
       "      <th>AAPL</th>\n",
       "      <th>IBM</th>\n",
       "      <th>MSFT</th>\n",
       "    </tr>\n",
       "    <tr>\n",
       "      <th>Date</th>\n",
       "      <th></th>\n",
       "      <th></th>\n",
       "      <th></th>\n",
       "    </tr>\n",
       "  </thead>\n",
       "  <tbody>\n",
       "    <tr>\n",
       "      <th>2010-01-04</th>\n",
       "      <td>26.601469</td>\n",
       "      <td>96.997330</td>\n",
       "      <td>24.360727</td>\n",
       "    </tr>\n",
       "    <tr>\n",
       "      <th>2010-01-05</th>\n",
       "      <td>26.647457</td>\n",
       "      <td>95.825584</td>\n",
       "      <td>24.368599</td>\n",
       "    </tr>\n",
       "    <tr>\n",
       "      <th>2010-01-06</th>\n",
       "      <td>26.223597</td>\n",
       "      <td>95.203102</td>\n",
       "      <td>24.219046</td>\n",
       "    </tr>\n",
       "    <tr>\n",
       "      <th>2010-01-07</th>\n",
       "      <td>26.175119</td>\n",
       "      <td>94.873573</td>\n",
       "      <td>23.967175</td>\n",
       "    </tr>\n",
       "    <tr>\n",
       "      <th>2010-01-08</th>\n",
       "      <td>26.349140</td>\n",
       "      <td>95.825584</td>\n",
       "      <td>24.132469</td>\n",
       "    </tr>\n",
       "  </tbody>\n",
       "</table>\n",
       "</div>"
      ],
      "text/plain": [
       "                 AAPL        IBM       MSFT\n",
       "Date                                       \n",
       "2010-01-04  26.601469  96.997330  24.360727\n",
       "2010-01-05  26.647457  95.825584  24.368599\n",
       "2010-01-06  26.223597  95.203102  24.219046\n",
       "2010-01-07  26.175119  94.873573  23.967175\n",
       "2010-01-08  26.349140  95.825584  24.132469"
      ]
     },
     "execution_count": 7,
     "metadata": {},
     "output_type": "execute_result"
    }
   ],
   "source": [
    "# Print the first few rows\n",
    "df.head()"
   ]
  },
  {
   "cell_type": "code",
   "execution_count": 8,
   "metadata": {},
   "outputs": [
    {
     "data": {
      "text/html": [
       "<div>\n",
       "<style scoped>\n",
       "    .dataframe tbody tr th:only-of-type {\n",
       "        vertical-align: middle;\n",
       "    }\n",
       "\n",
       "    .dataframe tbody tr th {\n",
       "        vertical-align: top;\n",
       "    }\n",
       "\n",
       "    .dataframe thead th {\n",
       "        text-align: right;\n",
       "    }\n",
       "</style>\n",
       "<table border=\"1\" class=\"dataframe\">\n",
       "  <thead>\n",
       "    <tr style=\"text-align: right;\">\n",
       "      <th></th>\n",
       "      <th>AAPL</th>\n",
       "      <th>IBM</th>\n",
       "      <th>MSFT</th>\n",
       "    </tr>\n",
       "    <tr>\n",
       "      <th>Date</th>\n",
       "      <th></th>\n",
       "      <th></th>\n",
       "      <th></th>\n",
       "    </tr>\n",
       "  </thead>\n",
       "  <tbody>\n",
       "    <tr>\n",
       "      <th>2019-10-14</th>\n",
       "      <td>235.163971</td>\n",
       "      <td>140.381943</td>\n",
       "      <td>139.076767</td>\n",
       "    </tr>\n",
       "    <tr>\n",
       "      <th>2019-10-15</th>\n",
       "      <td>234.615631</td>\n",
       "      <td>141.330734</td>\n",
       "      <td>141.089920</td>\n",
       "    </tr>\n",
       "    <tr>\n",
       "      <th>2019-10-16</th>\n",
       "      <td>233.668457</td>\n",
       "      <td>140.451126</td>\n",
       "      <td>139.933838</td>\n",
       "    </tr>\n",
       "    <tr>\n",
       "      <th>2019-10-17</th>\n",
       "      <td>234.575745</td>\n",
       "      <td>132.692764</td>\n",
       "      <td>139.216278</td>\n",
       "    </tr>\n",
       "    <tr>\n",
       "      <th>2019-10-18</th>\n",
       "      <td>235.702362</td>\n",
       "      <td>132.524750</td>\n",
       "      <td>136.944016</td>\n",
       "    </tr>\n",
       "  </tbody>\n",
       "</table>\n",
       "</div>"
      ],
      "text/plain": [
       "                  AAPL         IBM        MSFT\n",
       "Date                                          \n",
       "2019-10-14  235.163971  140.381943  139.076767\n",
       "2019-10-15  234.615631  141.330734  141.089920\n",
       "2019-10-16  233.668457  140.451126  139.933838\n",
       "2019-10-17  234.575745  132.692764  139.216278\n",
       "2019-10-18  235.702362  132.524750  136.944016"
      ]
     },
     "execution_count": 8,
     "metadata": {},
     "output_type": "execute_result"
    }
   ],
   "source": [
    "# Print the last few rows\n",
    "df.tail()"
   ]
  },
  {
   "cell_type": "code",
   "execution_count": 9,
   "metadata": {},
   "outputs": [],
   "source": [
    "# Calculate the daily returns\n",
    "returns = df.pct_change().dropna()"
   ]
  },
  {
   "cell_type": "code",
   "execution_count": 10,
   "metadata": {},
   "outputs": [
    {
     "data": {
      "text/html": [
       "<div>\n",
       "<style scoped>\n",
       "    .dataframe tbody tr th:only-of-type {\n",
       "        vertical-align: middle;\n",
       "    }\n",
       "\n",
       "    .dataframe tbody tr th {\n",
       "        vertical-align: top;\n",
       "    }\n",
       "\n",
       "    .dataframe thead th {\n",
       "        text-align: right;\n",
       "    }\n",
       "</style>\n",
       "<table border=\"1\" class=\"dataframe\">\n",
       "  <thead>\n",
       "    <tr style=\"text-align: right;\">\n",
       "      <th></th>\n",
       "      <th>AAPL</th>\n",
       "      <th>IBM</th>\n",
       "      <th>MSFT</th>\n",
       "    </tr>\n",
       "    <tr>\n",
       "      <th>Date</th>\n",
       "      <th></th>\n",
       "      <th></th>\n",
       "      <th></th>\n",
       "    </tr>\n",
       "  </thead>\n",
       "  <tbody>\n",
       "    <tr>\n",
       "      <th>2010-01-05</th>\n",
       "      <td>0.001729</td>\n",
       "      <td>-0.012080</td>\n",
       "      <td>0.000323</td>\n",
       "    </tr>\n",
       "    <tr>\n",
       "      <th>2010-01-06</th>\n",
       "      <td>-0.015906</td>\n",
       "      <td>-0.006496</td>\n",
       "      <td>-0.006137</td>\n",
       "    </tr>\n",
       "    <tr>\n",
       "      <th>2010-01-07</th>\n",
       "      <td>-0.001849</td>\n",
       "      <td>-0.003461</td>\n",
       "      <td>-0.010400</td>\n",
       "    </tr>\n",
       "    <tr>\n",
       "      <th>2010-01-08</th>\n",
       "      <td>0.006648</td>\n",
       "      <td>0.010035</td>\n",
       "      <td>0.006897</td>\n",
       "    </tr>\n",
       "    <tr>\n",
       "      <th>2010-01-11</th>\n",
       "      <td>-0.008821</td>\n",
       "      <td>-0.010470</td>\n",
       "      <td>-0.012720</td>\n",
       "    </tr>\n",
       "  </tbody>\n",
       "</table>\n",
       "</div>"
      ],
      "text/plain": [
       "                AAPL       IBM      MSFT\n",
       "Date                                    \n",
       "2010-01-05  0.001729 -0.012080  0.000323\n",
       "2010-01-06 -0.015906 -0.006496 -0.006137\n",
       "2010-01-07 -0.001849 -0.003461 -0.010400\n",
       "2010-01-08  0.006648  0.010035  0.006897\n",
       "2010-01-11 -0.008821 -0.010470 -0.012720"
      ]
     },
     "execution_count": 10,
     "metadata": {},
     "output_type": "execute_result"
    }
   ],
   "source": [
    "# Print the first few rows\n",
    "returns.head()"
   ]
  },
  {
   "cell_type": "code",
   "execution_count": 11,
   "metadata": {},
   "outputs": [
    {
     "data": {
      "text/html": [
       "<div>\n",
       "<style scoped>\n",
       "    .dataframe tbody tr th:only-of-type {\n",
       "        vertical-align: middle;\n",
       "    }\n",
       "\n",
       "    .dataframe tbody tr th {\n",
       "        vertical-align: top;\n",
       "    }\n",
       "\n",
       "    .dataframe thead th {\n",
       "        text-align: right;\n",
       "    }\n",
       "</style>\n",
       "<table border=\"1\" class=\"dataframe\">\n",
       "  <thead>\n",
       "    <tr style=\"text-align: right;\">\n",
       "      <th></th>\n",
       "      <th>AAPL</th>\n",
       "      <th>IBM</th>\n",
       "      <th>MSFT</th>\n",
       "    </tr>\n",
       "    <tr>\n",
       "      <th>Date</th>\n",
       "      <th></th>\n",
       "      <th></th>\n",
       "      <th></th>\n",
       "    </tr>\n",
       "  </thead>\n",
       "  <tbody>\n",
       "    <tr>\n",
       "      <th>2019-10-14</th>\n",
       "      <td>-0.001439</td>\n",
       "      <td>-0.005043</td>\n",
       "      <td>-0.000931</td>\n",
       "    </tr>\n",
       "    <tr>\n",
       "      <th>2019-10-15</th>\n",
       "      <td>-0.002332</td>\n",
       "      <td>0.006759</td>\n",
       "      <td>0.014475</td>\n",
       "    </tr>\n",
       "    <tr>\n",
       "      <th>2019-10-16</th>\n",
       "      <td>-0.004037</td>\n",
       "      <td>-0.006224</td>\n",
       "      <td>-0.008194</td>\n",
       "    </tr>\n",
       "    <tr>\n",
       "      <th>2019-10-17</th>\n",
       "      <td>0.003883</td>\n",
       "      <td>-0.055239</td>\n",
       "      <td>-0.005128</td>\n",
       "    </tr>\n",
       "    <tr>\n",
       "      <th>2019-10-18</th>\n",
       "      <td>0.004803</td>\n",
       "      <td>-0.001266</td>\n",
       "      <td>-0.016322</td>\n",
       "    </tr>\n",
       "  </tbody>\n",
       "</table>\n",
       "</div>"
      ],
      "text/plain": [
       "                AAPL       IBM      MSFT\n",
       "Date                                    \n",
       "2019-10-14 -0.001439 -0.005043 -0.000931\n",
       "2019-10-15 -0.002332  0.006759  0.014475\n",
       "2019-10-16 -0.004037 -0.006224 -0.008194\n",
       "2019-10-17  0.003883 -0.055239 -0.005128\n",
       "2019-10-18  0.004803 -0.001266 -0.016322"
      ]
     },
     "execution_count": 11,
     "metadata": {},
     "output_type": "execute_result"
    }
   ],
   "source": [
    "# Print the last rows\n",
    "returns.tail()"
   ]
  },
  {
   "cell_type": "code",
   "execution_count": 12,
   "metadata": {},
   "outputs": [],
   "source": [
    "# Create a vector of asset weights\n",
    "weights = np.asarray([0.5, 0.3, 0.2])"
   ]
  },
  {
   "cell_type": "code",
   "execution_count": 13,
   "metadata": {},
   "outputs": [],
   "source": [
    "# Hypothetical risk-free rate of retutn\n",
    "rf = 0.0003"
   ]
  },
  {
   "cell_type": "code",
   "execution_count": 14,
   "metadata": {},
   "outputs": [],
   "source": [
    "# Create a function to analyse portfolio performance\n",
    "def portofolio_performance(returns, weights):\n",
    "    # Calculate the mean, standard deviatiatio and covariance of returns\n",
    "    mean, std, cov_matrix = returns.mean(), returns.std(), returns.cov()\n",
    "    \n",
    "    # Calculate portfolio return\n",
    "    pf_ret = weights.T.dot(mean * 252)\n",
    "    \n",
    "    # Calculate portfolio volatiltiy\n",
    "    pf_vol = np.sqrt(weights.T.dot(cov_matrix * 252).dot(weights))\n",
    "    \n",
    "    # Calculate portfolio Sharpe ratio\n",
    "    pf_sharpe = (pf_ret - rf) / pf_vol\n",
    "    \n",
    "    # Make a list of portfolio return, volatility, Sharpe ratio, and and asset names\n",
    "    columns = ['Ret','Vol','Sharpe'] + [ticker for ticker in tickers]\n",
    "    \n",
    "    # Make a list of portfolio return, volatility, Sharpe ratio, and asset weight values\n",
    "    data = [pf_ret,pf_vol,pf_sharpe] + [weight for weight in weights]\n",
    "    \n",
    "    # Create a table of data with labeled columns \n",
    "    results = pd.Series(data=data, index=columns)\n",
    "    \n",
    "    # Return the portfolio performance\n",
    "    return results"
   ]
  },
  {
   "cell_type": "code",
   "execution_count": 15,
   "metadata": {},
   "outputs": [],
   "source": [
    "# Calculate portfolio performace\n",
    "pf = portofolio_performance(returns, weights)"
   ]
  },
  {
   "cell_type": "code",
   "execution_count": 16,
   "metadata": {},
   "outputs": [
    {
     "data": {
      "text/plain": [
       "Ret       0.184298\n",
       "Vol       0.190583\n",
       "Sharpe    0.965448\n",
       "AAPL      0.500000\n",
       "IBM       0.300000\n",
       "MSFT      0.200000\n",
       "dtype: float64"
      ]
     },
     "execution_count": 16,
     "metadata": {},
     "output_type": "execute_result"
    }
   ],
   "source": [
    "# Print the portfolio performance\n",
    "pf"
   ]
  },
  {
   "cell_type": "markdown",
   "metadata": {},
   "source": [
    "We want to investigate the portfolio poerformance using different asset weights. Maually changing each weight would be tedious. Instead, we will randomly select the asset weights of each portfolio, then compare the portfolios."
   ]
  },
  {
   "cell_type": "code",
   "execution_count": 17,
   "metadata": {},
   "outputs": [],
   "source": [
    "# Set the random number generator\n",
    "np.random.seed(123)\n",
    "\n",
    "# Determine the number of portfolios\n",
    "n_portfolio = 5\n",
    "\n",
    "# Create an empty list of portoflio weights\n",
    "pf_weights = []\n",
    "\n",
    "# Create portoflios with randomly weighted assets\n",
    "for i in range(n_portfolio):\n",
    "        \n",
    "        # Randomly generate a weight for each asset\n",
    "        weights = np.random.random(len(tickers))\n",
    "        \n",
    "        # Normalize the weights to set the sum to 1\n",
    "        weights /= sum(weights)\n",
    "        \n",
    "        # Attach each weights vecotr to the list of portfolio weights\n",
    "        pf_weights.append(weights)"
   ]
  },
  {
   "cell_type": "code",
   "execution_count": 18,
   "metadata": {},
   "outputs": [
    {
     "data": {
      "text/plain": [
       "[array([0.57585137, 0.23658438, 0.18756425]),\n",
       " array([0.32547255, 0.42474357, 0.24978388]),\n",
       " array([0.45690771, 0.31904099, 0.2240513 ]),\n",
       " array([0.26777669, 0.23435595, 0.49786737]),\n",
       " array([0.48931718, 0.06658292, 0.4440999 ])]"
      ]
     },
     "execution_count": 18,
     "metadata": {},
     "output_type": "execute_result"
    }
   ],
   "source": [
    "# Print the list of weights vectors\n",
    "pf_weights"
   ]
  },
  {
   "cell_type": "code",
   "execution_count": 19,
   "metadata": {},
   "outputs": [],
   "source": [
    "# Calculate the performance of the portfolios\n",
    "pf1 = portofolio_performance(returns, pf_weights[0])\n",
    "pf2 = portofolio_performance(returns, pf_weights[1])\n",
    "pf3 = portofolio_performance(returns, pf_weights[2])\n",
    "pf4 = portofolio_performance(returns, pf_weights[3])\n",
    "pf5 = portofolio_performance(returns, pf_weights[4])"
   ]
  },
  {
   "cell_type": "code",
   "execution_count": 20,
   "metadata": {},
   "outputs": [
    {
     "data": {
      "text/plain": [
       "Ret       0.197989\n",
       "Vol       0.198543\n",
       "Sharpe    0.995697\n",
       "AAPL      0.575851\n",
       "IBM       0.236584\n",
       "MSFT      0.187564\n",
       "dtype: float64"
      ]
     },
     "execution_count": 20,
     "metadata": {},
     "output_type": "execute_result"
    }
   ],
   "source": [
    "# Print the portfolio performance\n",
    "pf1"
   ]
  },
  {
   "cell_type": "code",
   "execution_count": 21,
   "metadata": {},
   "outputs": [],
   "source": [
    "# Create a portfolio data dictionary\n",
    "data = {0:pf[:].values,\n",
    "        1:pf1[:].values,\n",
    "        2:pf2[:].values,\n",
    "        3:pf3[:].values,\n",
    "        4:pf4[:].values,\n",
    "        5:pf5[:].values}"
   ]
  },
  {
   "cell_type": "code",
   "execution_count": 22,
   "metadata": {},
   "outputs": [],
   "source": [
    "# Name the columns\n",
    "columns = pf1.index"
   ]
  },
  {
   "cell_type": "code",
   "execution_count": 23,
   "metadata": {},
   "outputs": [],
   "source": [
    "# Create a transposed dataframe\n",
    "df = pd.DataFrame(data, columns).T"
   ]
  },
  {
   "cell_type": "code",
   "execution_count": 24,
   "metadata": {},
   "outputs": [
    {
     "data": {
      "text/html": [
       "<div>\n",
       "<style scoped>\n",
       "    .dataframe tbody tr th:only-of-type {\n",
       "        vertical-align: middle;\n",
       "    }\n",
       "\n",
       "    .dataframe tbody tr th {\n",
       "        vertical-align: top;\n",
       "    }\n",
       "\n",
       "    .dataframe thead th {\n",
       "        text-align: right;\n",
       "    }\n",
       "</style>\n",
       "<table border=\"1\" class=\"dataframe\">\n",
       "  <thead>\n",
       "    <tr style=\"text-align: right;\">\n",
       "      <th></th>\n",
       "      <th>Ret</th>\n",
       "      <th>Vol</th>\n",
       "      <th>Sharpe</th>\n",
       "      <th>AAPL</th>\n",
       "      <th>IBM</th>\n",
       "      <th>MSFT</th>\n",
       "    </tr>\n",
       "  </thead>\n",
       "  <tbody>\n",
       "    <tr>\n",
       "      <th>0</th>\n",
       "      <td>0.184298</td>\n",
       "      <td>0.190583</td>\n",
       "      <td>0.965448</td>\n",
       "      <td>0.500000</td>\n",
       "      <td>0.300000</td>\n",
       "      <td>0.200000</td>\n",
       "    </tr>\n",
       "    <tr>\n",
       "      <th>1</th>\n",
       "      <td>0.197989</td>\n",
       "      <td>0.198543</td>\n",
       "      <td>0.995697</td>\n",
       "      <td>0.575851</td>\n",
       "      <td>0.236584</td>\n",
       "      <td>0.187564</td>\n",
       "    </tr>\n",
       "    <tr>\n",
       "      <th>2</th>\n",
       "      <td>0.156000</td>\n",
       "      <td>0.178637</td>\n",
       "      <td>0.871601</td>\n",
       "      <td>0.325473</td>\n",
       "      <td>0.424744</td>\n",
       "      <td>0.249784</td>\n",
       "    </tr>\n",
       "    <tr>\n",
       "      <th>3</th>\n",
       "      <td>0.179091</td>\n",
       "      <td>0.187138</td>\n",
       "      <td>0.955396</td>\n",
       "      <td>0.456908</td>\n",
       "      <td>0.319041</td>\n",
       "      <td>0.224051</td>\n",
       "    </tr>\n",
       "    <tr>\n",
       "      <th>4</th>\n",
       "      <td>0.181704</td>\n",
       "      <td>0.186503</td>\n",
       "      <td>0.972660</td>\n",
       "      <td>0.267777</td>\n",
       "      <td>0.234356</td>\n",
       "      <td>0.497867</td>\n",
       "    </tr>\n",
       "    <tr>\n",
       "      <th>5</th>\n",
       "      <td>0.219051</td>\n",
       "      <td>0.202294</td>\n",
       "      <td>1.081352</td>\n",
       "      <td>0.489317</td>\n",
       "      <td>0.066583</td>\n",
       "      <td>0.444100</td>\n",
       "    </tr>\n",
       "  </tbody>\n",
       "</table>\n",
       "</div>"
      ],
      "text/plain": [
       "        Ret       Vol    Sharpe      AAPL       IBM      MSFT\n",
       "0  0.184298  0.190583  0.965448  0.500000  0.300000  0.200000\n",
       "1  0.197989  0.198543  0.995697  0.575851  0.236584  0.187564\n",
       "2  0.156000  0.178637  0.871601  0.325473  0.424744  0.249784\n",
       "3  0.179091  0.187138  0.955396  0.456908  0.319041  0.224051\n",
       "4  0.181704  0.186503  0.972660  0.267777  0.234356  0.497867\n",
       "5  0.219051  0.202294  1.081352  0.489317  0.066583  0.444100"
      ]
     },
     "execution_count": 24,
     "metadata": {},
     "output_type": "execute_result"
    }
   ],
   "source": [
    "# Print the dataframe\n",
    "df"
   ]
  },
  {
   "cell_type": "code",
   "execution_count": 25,
   "metadata": {},
   "outputs": [],
   "source": [
    "# Locate the maximum Sharpe ratio portfolio\n",
    "max_sharpe_pf = df[df['Sharpe'] == df['Sharpe'].max()]"
   ]
  },
  {
   "cell_type": "code",
   "execution_count": 26,
   "metadata": {},
   "outputs": [
    {
     "data": {
      "text/html": [
       "<div>\n",
       "<style scoped>\n",
       "    .dataframe tbody tr th:only-of-type {\n",
       "        vertical-align: middle;\n",
       "    }\n",
       "\n",
       "    .dataframe tbody tr th {\n",
       "        vertical-align: top;\n",
       "    }\n",
       "\n",
       "    .dataframe thead th {\n",
       "        text-align: right;\n",
       "    }\n",
       "</style>\n",
       "<table border=\"1\" class=\"dataframe\">\n",
       "  <thead>\n",
       "    <tr style=\"text-align: right;\">\n",
       "      <th></th>\n",
       "      <th>Ret</th>\n",
       "      <th>Vol</th>\n",
       "      <th>Sharpe</th>\n",
       "      <th>AAPL</th>\n",
       "      <th>IBM</th>\n",
       "      <th>MSFT</th>\n",
       "    </tr>\n",
       "  </thead>\n",
       "  <tbody>\n",
       "    <tr>\n",
       "      <th>5</th>\n",
       "      <td>0.219051</td>\n",
       "      <td>0.202294</td>\n",
       "      <td>1.081352</td>\n",
       "      <td>0.489317</td>\n",
       "      <td>0.066583</td>\n",
       "      <td>0.4441</td>\n",
       "    </tr>\n",
       "  </tbody>\n",
       "</table>\n",
       "</div>"
      ],
      "text/plain": [
       "        Ret       Vol    Sharpe      AAPL       IBM    MSFT\n",
       "5  0.219051  0.202294  1.081352  0.489317  0.066583  0.4441"
      ]
     },
     "execution_count": 26,
     "metadata": {},
     "output_type": "execute_result"
    }
   ],
   "source": [
    "# Print the maximum Sharpe portfolio\n",
    "max_sharpe_pf"
   ]
  },
  {
   "cell_type": "code",
   "execution_count": 27,
   "metadata": {},
   "outputs": [],
   "source": [
    "# Locate the maximum return portfolio\n",
    "max_ret_pf = df[df['Ret'] == df['Ret'].max()]"
   ]
  },
  {
   "cell_type": "code",
   "execution_count": 28,
   "metadata": {},
   "outputs": [
    {
     "data": {
      "text/html": [
       "<div>\n",
       "<style scoped>\n",
       "    .dataframe tbody tr th:only-of-type {\n",
       "        vertical-align: middle;\n",
       "    }\n",
       "\n",
       "    .dataframe tbody tr th {\n",
       "        vertical-align: top;\n",
       "    }\n",
       "\n",
       "    .dataframe thead th {\n",
       "        text-align: right;\n",
       "    }\n",
       "</style>\n",
       "<table border=\"1\" class=\"dataframe\">\n",
       "  <thead>\n",
       "    <tr style=\"text-align: right;\">\n",
       "      <th></th>\n",
       "      <th>Ret</th>\n",
       "      <th>Vol</th>\n",
       "      <th>Sharpe</th>\n",
       "      <th>AAPL</th>\n",
       "      <th>IBM</th>\n",
       "      <th>MSFT</th>\n",
       "    </tr>\n",
       "  </thead>\n",
       "  <tbody>\n",
       "    <tr>\n",
       "      <th>5</th>\n",
       "      <td>0.219051</td>\n",
       "      <td>0.202294</td>\n",
       "      <td>1.081352</td>\n",
       "      <td>0.489317</td>\n",
       "      <td>0.066583</td>\n",
       "      <td>0.4441</td>\n",
       "    </tr>\n",
       "  </tbody>\n",
       "</table>\n",
       "</div>"
      ],
      "text/plain": [
       "        Ret       Vol    Sharpe      AAPL       IBM    MSFT\n",
       "5  0.219051  0.202294  1.081352  0.489317  0.066583  0.4441"
      ]
     },
     "execution_count": 28,
     "metadata": {},
     "output_type": "execute_result"
    }
   ],
   "source": [
    "# Print the maximum return portfolio\n",
    "max_ret_pf"
   ]
  },
  {
   "cell_type": "code",
   "execution_count": 29,
   "metadata": {},
   "outputs": [],
   "source": [
    "# Locate the minimum volatility portfolio\n",
    "min_vol_pf = df[df['Vol'] == df['Vol'].min()]"
   ]
  },
  {
   "cell_type": "code",
   "execution_count": 30,
   "metadata": {},
   "outputs": [
    {
     "data": {
      "text/html": [
       "<div>\n",
       "<style scoped>\n",
       "    .dataframe tbody tr th:only-of-type {\n",
       "        vertical-align: middle;\n",
       "    }\n",
       "\n",
       "    .dataframe tbody tr th {\n",
       "        vertical-align: top;\n",
       "    }\n",
       "\n",
       "    .dataframe thead th {\n",
       "        text-align: right;\n",
       "    }\n",
       "</style>\n",
       "<table border=\"1\" class=\"dataframe\">\n",
       "  <thead>\n",
       "    <tr style=\"text-align: right;\">\n",
       "      <th></th>\n",
       "      <th>Ret</th>\n",
       "      <th>Vol</th>\n",
       "      <th>Sharpe</th>\n",
       "      <th>AAPL</th>\n",
       "      <th>IBM</th>\n",
       "      <th>MSFT</th>\n",
       "    </tr>\n",
       "  </thead>\n",
       "  <tbody>\n",
       "    <tr>\n",
       "      <th>2</th>\n",
       "      <td>0.156</td>\n",
       "      <td>0.178637</td>\n",
       "      <td>0.871601</td>\n",
       "      <td>0.325473</td>\n",
       "      <td>0.424744</td>\n",
       "      <td>0.249784</td>\n",
       "    </tr>\n",
       "  </tbody>\n",
       "</table>\n",
       "</div>"
      ],
      "text/plain": [
       "     Ret       Vol    Sharpe      AAPL       IBM      MSFT\n",
       "2  0.156  0.178637  0.871601  0.325473  0.424744  0.249784"
      ]
     },
     "execution_count": 30,
     "metadata": {},
     "output_type": "execute_result"
    }
   ],
   "source": [
    "# Print the minimum volatiltiy portfolio\n",
    "min_vol_pf"
   ]
  },
  {
   "cell_type": "code",
   "execution_count": 31,
   "metadata": {},
   "outputs": [],
   "source": [
    "# Make a list of stocks\n",
    "tickers = ['AAPL','IBM', 'MSFT', 'WMT']"
   ]
  },
  {
   "cell_type": "code",
   "execution_count": 32,
   "metadata": {},
   "outputs": [],
   "source": [
    "# # Load stock prices\n",
    "# df = web.DataReader(tickers,'yahoo','01/01/2010','10/18/2019')['Adj Close']"
   ]
  },
  {
   "cell_type": "code",
   "execution_count": 33,
   "metadata": {},
   "outputs": [],
   "source": [
    "# # Save the data to a file\n",
    "# df.to_csv('AAPL_MSFT_IBM_WMT.csv')"
   ]
  },
  {
   "cell_type": "code",
   "execution_count": 34,
   "metadata": {},
   "outputs": [],
   "source": [
    "#  Load the data\n",
    "df = pd.read_csv('AAPL_MSFT_IBM_WMT.csv', index_col='Date', parse_dates=True)"
   ]
  },
  {
   "cell_type": "code",
   "execution_count": 35,
   "metadata": {},
   "outputs": [
    {
     "name": "stdout",
     "output_type": "stream",
     "text": [
      "<class 'pandas.core.frame.DataFrame'>\n",
      "DatetimeIndex: 2466 entries, 2010-01-04 to 2019-10-18\n",
      "Data columns (total 4 columns):\n",
      "AAPL    2466 non-null float64\n",
      "IBM     2466 non-null float64\n",
      "MSFT    2466 non-null float64\n",
      "WMT     2466 non-null float64\n",
      "dtypes: float64(4)\n",
      "memory usage: 96.3 KB\n"
     ]
    }
   ],
   "source": [
    "# Print full summary\n",
    "df.info()"
   ]
  },
  {
   "cell_type": "code",
   "execution_count": 36,
   "metadata": {},
   "outputs": [
    {
     "data": {
      "text/html": [
       "<div>\n",
       "<style scoped>\n",
       "    .dataframe tbody tr th:only-of-type {\n",
       "        vertical-align: middle;\n",
       "    }\n",
       "\n",
       "    .dataframe tbody tr th {\n",
       "        vertical-align: top;\n",
       "    }\n",
       "\n",
       "    .dataframe thead th {\n",
       "        text-align: right;\n",
       "    }\n",
       "</style>\n",
       "<table border=\"1\" class=\"dataframe\">\n",
       "  <thead>\n",
       "    <tr style=\"text-align: right;\">\n",
       "      <th></th>\n",
       "      <th>AAPL</th>\n",
       "      <th>IBM</th>\n",
       "      <th>MSFT</th>\n",
       "      <th>WMT</th>\n",
       "    </tr>\n",
       "    <tr>\n",
       "      <th>Date</th>\n",
       "      <th></th>\n",
       "      <th></th>\n",
       "      <th></th>\n",
       "      <th></th>\n",
       "    </tr>\n",
       "  </thead>\n",
       "  <tbody>\n",
       "    <tr>\n",
       "      <th>2010-01-04</th>\n",
       "      <td>26.601469</td>\n",
       "      <td>96.997330</td>\n",
       "      <td>24.360727</td>\n",
       "      <td>42.309753</td>\n",
       "    </tr>\n",
       "    <tr>\n",
       "      <th>2010-01-05</th>\n",
       "      <td>26.647457</td>\n",
       "      <td>95.825584</td>\n",
       "      <td>24.368599</td>\n",
       "      <td>41.888462</td>\n",
       "    </tr>\n",
       "    <tr>\n",
       "      <th>2010-01-06</th>\n",
       "      <td>26.223597</td>\n",
       "      <td>95.203102</td>\n",
       "      <td>24.219046</td>\n",
       "      <td>41.794838</td>\n",
       "    </tr>\n",
       "    <tr>\n",
       "      <th>2010-01-07</th>\n",
       "      <td>26.175119</td>\n",
       "      <td>94.873573</td>\n",
       "      <td>23.967175</td>\n",
       "      <td>41.818237</td>\n",
       "    </tr>\n",
       "    <tr>\n",
       "      <th>2010-01-08</th>\n",
       "      <td>26.349140</td>\n",
       "      <td>95.825584</td>\n",
       "      <td>24.132469</td>\n",
       "      <td>41.607594</td>\n",
       "    </tr>\n",
       "  </tbody>\n",
       "</table>\n",
       "</div>"
      ],
      "text/plain": [
       "                 AAPL        IBM       MSFT        WMT\n",
       "Date                                                  \n",
       "2010-01-04  26.601469  96.997330  24.360727  42.309753\n",
       "2010-01-05  26.647457  95.825584  24.368599  41.888462\n",
       "2010-01-06  26.223597  95.203102  24.219046  41.794838\n",
       "2010-01-07  26.175119  94.873573  23.967175  41.818237\n",
       "2010-01-08  26.349140  95.825584  24.132469  41.607594"
      ]
     },
     "execution_count": 36,
     "metadata": {},
     "output_type": "execute_result"
    }
   ],
   "source": [
    "# Print the first few rows\n",
    "df.head()"
   ]
  },
  {
   "cell_type": "code",
   "execution_count": 37,
   "metadata": {},
   "outputs": [
    {
     "data": {
      "text/html": [
       "<div>\n",
       "<style scoped>\n",
       "    .dataframe tbody tr th:only-of-type {\n",
       "        vertical-align: middle;\n",
       "    }\n",
       "\n",
       "    .dataframe tbody tr th {\n",
       "        vertical-align: top;\n",
       "    }\n",
       "\n",
       "    .dataframe thead th {\n",
       "        text-align: right;\n",
       "    }\n",
       "</style>\n",
       "<table border=\"1\" class=\"dataframe\">\n",
       "  <thead>\n",
       "    <tr style=\"text-align: right;\">\n",
       "      <th></th>\n",
       "      <th>AAPL</th>\n",
       "      <th>IBM</th>\n",
       "      <th>MSFT</th>\n",
       "      <th>WMT</th>\n",
       "    </tr>\n",
       "    <tr>\n",
       "      <th>Date</th>\n",
       "      <th></th>\n",
       "      <th></th>\n",
       "      <th></th>\n",
       "      <th></th>\n",
       "    </tr>\n",
       "  </thead>\n",
       "  <tbody>\n",
       "    <tr>\n",
       "      <th>2019-10-14</th>\n",
       "      <td>235.163971</td>\n",
       "      <td>140.381943</td>\n",
       "      <td>139.076767</td>\n",
       "      <td>118.637856</td>\n",
       "    </tr>\n",
       "    <tr>\n",
       "      <th>2019-10-15</th>\n",
       "      <td>234.615631</td>\n",
       "      <td>141.330734</td>\n",
       "      <td>141.089920</td>\n",
       "      <td>118.996246</td>\n",
       "    </tr>\n",
       "    <tr>\n",
       "      <th>2019-10-16</th>\n",
       "      <td>233.668457</td>\n",
       "      <td>140.451126</td>\n",
       "      <td>139.933838</td>\n",
       "      <td>118.886742</td>\n",
       "    </tr>\n",
       "    <tr>\n",
       "      <th>2019-10-17</th>\n",
       "      <td>234.575745</td>\n",
       "      <td>132.692764</td>\n",
       "      <td>139.216278</td>\n",
       "      <td>119.304863</td>\n",
       "    </tr>\n",
       "    <tr>\n",
       "      <th>2019-10-18</th>\n",
       "      <td>235.702362</td>\n",
       "      <td>132.524750</td>\n",
       "      <td>136.944016</td>\n",
       "      <td>118.607994</td>\n",
       "    </tr>\n",
       "  </tbody>\n",
       "</table>\n",
       "</div>"
      ],
      "text/plain": [
       "                  AAPL         IBM        MSFT         WMT\n",
       "Date                                                      \n",
       "2019-10-14  235.163971  140.381943  139.076767  118.637856\n",
       "2019-10-15  234.615631  141.330734  141.089920  118.996246\n",
       "2019-10-16  233.668457  140.451126  139.933838  118.886742\n",
       "2019-10-17  234.575745  132.692764  139.216278  119.304863\n",
       "2019-10-18  235.702362  132.524750  136.944016  118.607994"
      ]
     },
     "execution_count": 37,
     "metadata": {},
     "output_type": "execute_result"
    }
   ],
   "source": [
    "# Print the last few rows\n",
    "df.tail()"
   ]
  },
  {
   "cell_type": "code",
   "execution_count": 38,
   "metadata": {},
   "outputs": [],
   "source": [
    "# Calculate the daily returns\n",
    "returns = df.pct_change().dropna()"
   ]
  },
  {
   "cell_type": "code",
   "execution_count": 39,
   "metadata": {},
   "outputs": [
    {
     "data": {
      "text/html": [
       "<div>\n",
       "<style scoped>\n",
       "    .dataframe tbody tr th:only-of-type {\n",
       "        vertical-align: middle;\n",
       "    }\n",
       "\n",
       "    .dataframe tbody tr th {\n",
       "        vertical-align: top;\n",
       "    }\n",
       "\n",
       "    .dataframe thead th {\n",
       "        text-align: right;\n",
       "    }\n",
       "</style>\n",
       "<table border=\"1\" class=\"dataframe\">\n",
       "  <thead>\n",
       "    <tr style=\"text-align: right;\">\n",
       "      <th></th>\n",
       "      <th>AAPL</th>\n",
       "      <th>IBM</th>\n",
       "      <th>MSFT</th>\n",
       "      <th>WMT</th>\n",
       "    </tr>\n",
       "    <tr>\n",
       "      <th>Date</th>\n",
       "      <th></th>\n",
       "      <th></th>\n",
       "      <th></th>\n",
       "      <th></th>\n",
       "    </tr>\n",
       "  </thead>\n",
       "  <tbody>\n",
       "    <tr>\n",
       "      <th>2010-01-05</th>\n",
       "      <td>0.001729</td>\n",
       "      <td>-0.012080</td>\n",
       "      <td>0.000323</td>\n",
       "      <td>-0.009957</td>\n",
       "    </tr>\n",
       "    <tr>\n",
       "      <th>2010-01-06</th>\n",
       "      <td>-0.015906</td>\n",
       "      <td>-0.006496</td>\n",
       "      <td>-0.006137</td>\n",
       "      <td>-0.002235</td>\n",
       "    </tr>\n",
       "    <tr>\n",
       "      <th>2010-01-07</th>\n",
       "      <td>-0.001849</td>\n",
       "      <td>-0.003461</td>\n",
       "      <td>-0.010400</td>\n",
       "      <td>0.000560</td>\n",
       "    </tr>\n",
       "    <tr>\n",
       "      <th>2010-01-08</th>\n",
       "      <td>0.006648</td>\n",
       "      <td>0.010035</td>\n",
       "      <td>0.006897</td>\n",
       "      <td>-0.005037</td>\n",
       "    </tr>\n",
       "    <tr>\n",
       "      <th>2010-01-11</th>\n",
       "      <td>-0.008821</td>\n",
       "      <td>-0.010470</td>\n",
       "      <td>-0.012720</td>\n",
       "      <td>0.016501</td>\n",
       "    </tr>\n",
       "  </tbody>\n",
       "</table>\n",
       "</div>"
      ],
      "text/plain": [
       "                AAPL       IBM      MSFT       WMT\n",
       "Date                                              \n",
       "2010-01-05  0.001729 -0.012080  0.000323 -0.009957\n",
       "2010-01-06 -0.015906 -0.006496 -0.006137 -0.002235\n",
       "2010-01-07 -0.001849 -0.003461 -0.010400  0.000560\n",
       "2010-01-08  0.006648  0.010035  0.006897 -0.005037\n",
       "2010-01-11 -0.008821 -0.010470 -0.012720  0.016501"
      ]
     },
     "execution_count": 39,
     "metadata": {},
     "output_type": "execute_result"
    }
   ],
   "source": [
    "# Print the first few rows\n",
    "returns.head()"
   ]
  },
  {
   "cell_type": "code",
   "execution_count": 40,
   "metadata": {},
   "outputs": [
    {
     "data": {
      "text/html": [
       "<div>\n",
       "<style scoped>\n",
       "    .dataframe tbody tr th:only-of-type {\n",
       "        vertical-align: middle;\n",
       "    }\n",
       "\n",
       "    .dataframe tbody tr th {\n",
       "        vertical-align: top;\n",
       "    }\n",
       "\n",
       "    .dataframe thead th {\n",
       "        text-align: right;\n",
       "    }\n",
       "</style>\n",
       "<table border=\"1\" class=\"dataframe\">\n",
       "  <thead>\n",
       "    <tr style=\"text-align: right;\">\n",
       "      <th></th>\n",
       "      <th>AAPL</th>\n",
       "      <th>IBM</th>\n",
       "      <th>MSFT</th>\n",
       "      <th>WMT</th>\n",
       "    </tr>\n",
       "    <tr>\n",
       "      <th>Date</th>\n",
       "      <th></th>\n",
       "      <th></th>\n",
       "      <th></th>\n",
       "      <th></th>\n",
       "    </tr>\n",
       "  </thead>\n",
       "  <tbody>\n",
       "    <tr>\n",
       "      <th>2019-10-14</th>\n",
       "      <td>-0.001439</td>\n",
       "      <td>-0.005043</td>\n",
       "      <td>-0.000931</td>\n",
       "      <td>-0.008899</td>\n",
       "    </tr>\n",
       "    <tr>\n",
       "      <th>2019-10-15</th>\n",
       "      <td>-0.002332</td>\n",
       "      <td>0.006759</td>\n",
       "      <td>0.014475</td>\n",
       "      <td>0.003021</td>\n",
       "    </tr>\n",
       "    <tr>\n",
       "      <th>2019-10-16</th>\n",
       "      <td>-0.004037</td>\n",
       "      <td>-0.006224</td>\n",
       "      <td>-0.008194</td>\n",
       "      <td>-0.000920</td>\n",
       "    </tr>\n",
       "    <tr>\n",
       "      <th>2019-10-17</th>\n",
       "      <td>0.003883</td>\n",
       "      <td>-0.055239</td>\n",
       "      <td>-0.005128</td>\n",
       "      <td>0.003517</td>\n",
       "    </tr>\n",
       "    <tr>\n",
       "      <th>2019-10-18</th>\n",
       "      <td>0.004803</td>\n",
       "      <td>-0.001266</td>\n",
       "      <td>-0.016322</td>\n",
       "      <td>-0.005841</td>\n",
       "    </tr>\n",
       "  </tbody>\n",
       "</table>\n",
       "</div>"
      ],
      "text/plain": [
       "                AAPL       IBM      MSFT       WMT\n",
       "Date                                              \n",
       "2019-10-14 -0.001439 -0.005043 -0.000931 -0.008899\n",
       "2019-10-15 -0.002332  0.006759  0.014475  0.003021\n",
       "2019-10-16 -0.004037 -0.006224 -0.008194 -0.000920\n",
       "2019-10-17  0.003883 -0.055239 -0.005128  0.003517\n",
       "2019-10-18  0.004803 -0.001266 -0.016322 -0.005841"
      ]
     },
     "execution_count": 40,
     "metadata": {},
     "output_type": "execute_result"
    }
   ],
   "source": [
    "# Print the last few rows\n",
    "returns.tail()"
   ]
  },
  {
   "cell_type": "code",
   "execution_count": 41,
   "metadata": {},
   "outputs": [],
   "source": [
    "# The number of periods\n",
    "n_periods = 1\n",
    "\n",
    "# Calculate the mean of n-period returns\n",
    "mean = returns.mean() * n_periods\n",
    "\n",
    "# Calculate the standard deviation of n-period returns\n",
    "stdev = returns.std() * np.sqrt(n_periods)"
   ]
  },
  {
   "cell_type": "code",
   "execution_count": 42,
   "metadata": {},
   "outputs": [
    {
     "name": "stdout",
     "output_type": "stream",
     "text": [
      "AAPL stock 1-day performance:\n",
      "The mean daily return is 0.001019.\n",
      "The standatd deviation of daily returns (volatitliy) is 1.63%.\n",
      "\n",
      "IBM stock 1-day performance:\n",
      "The mean daily return is 0.000204.\n",
      "The standatd deviation of daily returns (volatitliy) is 1.24%.\n",
      "\n",
      "MSFT stock 1-day performance:\n",
      "The mean daily return is 0.000804.\n",
      "The standatd deviation of daily returns (volatitliy) is 1.44%.\n",
      "\n",
      "WMT stock 1-day performance:\n",
      "The mean daily return is 0.000478.\n",
      "The standatd deviation of daily returns (volatitliy) is 1.09%.\n",
      "\n"
     ]
    }
   ],
   "source": [
    "# Print the the mean and standard deviation of returns\n",
    "for ticker, ret, vol in zip(tickers, mean, stdev):\n",
    "    p(f'{ticker} stock {n_periods}-day performance:')\n",
    "    p(f'The mean daily return is {round(ret,6)}.')\n",
    "    p(f'The standatd deviation of daily returns (volatitliy) is {round(vol,4)*100}%.\\n')"
   ]
  },
  {
   "cell_type": "code",
   "execution_count": 43,
   "metadata": {},
   "outputs": [],
   "source": [
    "# The number of periods\n",
    "n_periods = 40\n",
    "\n",
    "# Calculate the mean of n-period returns\n",
    "mean = returns.mean() * n_periods\n",
    "\n",
    "# Calculate the standard deviation of n-period returns\n",
    "stdev = returns.std() * np.sqrt(n_periods)"
   ]
  },
  {
   "cell_type": "code",
   "execution_count": 44,
   "metadata": {},
   "outputs": [
    {
     "name": "stdout",
     "output_type": "stream",
     "text": [
      "AAPL stock 40-day performance:\n",
      "The mean daily return is 0.040743.\n",
      "The standatd deviation of daily returns (volatitliy) is 10.31%.\n",
      "\n",
      "IBM stock 40-day performance:\n",
      "The mean daily return is 0.008154.\n",
      "The standatd deviation of daily returns (volatitliy) is 7.85%.\n",
      "\n",
      "MSFT stock 40-day performance:\n",
      "The mean daily return is 0.032179.\n",
      "The standatd deviation of daily returns (volatitliy) is 9.120000000000001%.\n",
      "\n",
      "WMT stock 40-day performance:\n",
      "The mean daily return is 0.019122.\n",
      "The standatd deviation of daily returns (volatitliy) is 6.92%.\n",
      "\n"
     ]
    }
   ],
   "source": [
    "# Print the the mean and standard deviation of returns\n",
    "for ticker, ret, vol in zip(tickers, mean, stdev):\n",
    "    p(f'{ticker} stock {n_periods}-day performance:')\n",
    "    p(f'The mean daily return is {round(ret,6)}.')\n",
    "    p(f'The standatd deviation of daily returns (volatitliy) is {round(vol,4)*100}%.\\n')"
   ]
  },
  {
   "cell_type": "code",
   "execution_count": 45,
   "metadata": {},
   "outputs": [
    {
     "name": "stdout",
     "output_type": "stream",
     "text": [
      "The variance of daily returns for AAPL is 0.0002659402280278109.\n",
      "The variance of daily returns for IBM is 0.00015391483338031566.\n",
      "The variance of daily returns for MSFT is 0.00020778378812307306.\n",
      "The variance of daily returns for WMT is 0.00011965542699554657.\n"
     ]
    }
   ],
   "source": [
    "# Print variance of returns\n",
    "for ticker, var in zip(tickers, returns.var()):\n",
    "    p(f'The variance of daily returns for {ticker} is {var}.')"
   ]
  },
  {
   "cell_type": "code",
   "execution_count": 46,
   "metadata": {},
   "outputs": [
    {
     "name": "stdout",
     "output_type": "stream",
     "text": [
      "The covariance of daily returns for AAPL is 0.0002659402280278106.\n",
      "The covariance of daily returns for IBM is 0.0001539148333803158.\n",
      "The covariance of daily returns for MSFT is 0.00020778378812307295.\n",
      "The covariance of daily returns for WMT is 0.00011965542699554633.\n"
     ]
    }
   ],
   "source": [
    "# Print covariance of returns and itself\n",
    "for ticker, cov in zip(tickers, np.cov(returns[tickers])):\n",
    "    p(f'The covariance of daily returns for {ticker} is {np.cov(returns[ticker])}.')"
   ]
  },
  {
   "cell_type": "code",
   "execution_count": 47,
   "metadata": {},
   "outputs": [
    {
     "data": {
      "text/html": [
       "<div>\n",
       "<style scoped>\n",
       "    .dataframe tbody tr th:only-of-type {\n",
       "        vertical-align: middle;\n",
       "    }\n",
       "\n",
       "    .dataframe tbody tr th {\n",
       "        vertical-align: top;\n",
       "    }\n",
       "\n",
       "    .dataframe thead th {\n",
       "        text-align: right;\n",
       "    }\n",
       "</style>\n",
       "<table border=\"1\" class=\"dataframe\">\n",
       "  <thead>\n",
       "    <tr style=\"text-align: right;\">\n",
       "      <th></th>\n",
       "      <th>AAPL</th>\n",
       "      <th>IBM</th>\n",
       "      <th>MSFT</th>\n",
       "      <th>WMT</th>\n",
       "    </tr>\n",
       "  </thead>\n",
       "  <tbody>\n",
       "    <tr>\n",
       "      <th>AAPL</th>\n",
       "      <td>0.000266</td>\n",
       "      <td>0.000078</td>\n",
       "      <td>0.000108</td>\n",
       "      <td>0.000040</td>\n",
       "    </tr>\n",
       "    <tr>\n",
       "      <th>IBM</th>\n",
       "      <td>0.000078</td>\n",
       "      <td>0.000154</td>\n",
       "      <td>0.000088</td>\n",
       "      <td>0.000041</td>\n",
       "    </tr>\n",
       "    <tr>\n",
       "      <th>MSFT</th>\n",
       "      <td>0.000108</td>\n",
       "      <td>0.000088</td>\n",
       "      <td>0.000208</td>\n",
       "      <td>0.000049</td>\n",
       "    </tr>\n",
       "    <tr>\n",
       "      <th>WMT</th>\n",
       "      <td>0.000040</td>\n",
       "      <td>0.000041</td>\n",
       "      <td>0.000049</td>\n",
       "      <td>0.000120</td>\n",
       "    </tr>\n",
       "  </tbody>\n",
       "</table>\n",
       "</div>"
      ],
      "text/plain": [
       "          AAPL       IBM      MSFT       WMT\n",
       "AAPL  0.000266  0.000078  0.000108  0.000040\n",
       "IBM   0.000078  0.000154  0.000088  0.000041\n",
       "MSFT  0.000108  0.000088  0.000208  0.000049\n",
       "WMT   0.000040  0.000041  0.000049  0.000120"
      ]
     },
     "execution_count": 47,
     "metadata": {},
     "output_type": "execute_result"
    }
   ],
   "source": [
    "# Calculate the variance-covariance matrix\n",
    "cov_matrix = returns.cov()\n",
    "\n",
    "# Print the variance-covariance matrix\n",
    "cov_matrix"
   ]
  },
  {
   "cell_type": "code",
   "execution_count": 48,
   "metadata": {},
   "outputs": [
    {
     "data": {
      "text/html": [
       "<div>\n",
       "<style scoped>\n",
       "    .dataframe tbody tr th:only-of-type {\n",
       "        vertical-align: middle;\n",
       "    }\n",
       "\n",
       "    .dataframe tbody tr th {\n",
       "        vertical-align: top;\n",
       "    }\n",
       "\n",
       "    .dataframe thead th {\n",
       "        text-align: right;\n",
       "    }\n",
       "</style>\n",
       "<table border=\"1\" class=\"dataframe\">\n",
       "  <thead>\n",
       "    <tr style=\"text-align: right;\">\n",
       "      <th></th>\n",
       "      <th>AAPL</th>\n",
       "      <th>IBM</th>\n",
       "      <th>MSFT</th>\n",
       "      <th>WMT</th>\n",
       "    </tr>\n",
       "  </thead>\n",
       "  <tbody>\n",
       "    <tr>\n",
       "      <th>AAPL</th>\n",
       "      <td>1.000000</td>\n",
       "      <td>0.385759</td>\n",
       "      <td>0.457803</td>\n",
       "      <td>0.225877</td>\n",
       "    </tr>\n",
       "    <tr>\n",
       "      <th>IBM</th>\n",
       "      <td>0.385759</td>\n",
       "      <td>1.000000</td>\n",
       "      <td>0.491558</td>\n",
       "      <td>0.299074</td>\n",
       "    </tr>\n",
       "    <tr>\n",
       "      <th>MSFT</th>\n",
       "      <td>0.457803</td>\n",
       "      <td>0.491558</td>\n",
       "      <td>1.000000</td>\n",
       "      <td>0.307862</td>\n",
       "    </tr>\n",
       "    <tr>\n",
       "      <th>WMT</th>\n",
       "      <td>0.225877</td>\n",
       "      <td>0.299074</td>\n",
       "      <td>0.307862</td>\n",
       "      <td>1.000000</td>\n",
       "    </tr>\n",
       "  </tbody>\n",
       "</table>\n",
       "</div>"
      ],
      "text/plain": [
       "          AAPL       IBM      MSFT       WMT\n",
       "AAPL  1.000000  0.385759  0.457803  0.225877\n",
       "IBM   0.385759  1.000000  0.491558  0.299074\n",
       "MSFT  0.457803  0.491558  1.000000  0.307862\n",
       "WMT   0.225877  0.299074  0.307862  1.000000"
      ]
     },
     "execution_count": 48,
     "metadata": {},
     "output_type": "execute_result"
    }
   ],
   "source": [
    "# Calculate the correaltion matrix\n",
    "corr_matrix = returns.corr()\n",
    "\n",
    "# Print the correaltion matrix\n",
    "corr_matrix"
   ]
  },
  {
   "cell_type": "code",
   "execution_count": 49,
   "metadata": {},
   "outputs": [],
   "source": [
    "# portfolio weights\n",
    "weights = np.asarray([0.5, 0.3, 0.1, 0.1])"
   ]
  },
  {
   "cell_type": "code",
   "execution_count": 50,
   "metadata": {},
   "outputs": [],
   "source": [
    "# Calculate portfolio performance\n",
    "pf_perf = portofolio_performance(returns, weights)"
   ]
  },
  {
   "cell_type": "code",
   "execution_count": 51,
   "metadata": {},
   "outputs": [
    {
     "data": {
      "text/plain": [
       "Ret       0.176072\n",
       "Vol       0.181343\n",
       "Sharpe    0.969279\n",
       "AAPL      0.500000\n",
       "IBM       0.300000\n",
       "MSFT      0.100000\n",
       "WMT       0.100000\n",
       "dtype: float64"
      ]
     },
     "execution_count": 51,
     "metadata": {},
     "output_type": "execute_result"
    }
   ],
   "source": [
    "# Print portfolio performance\n",
    "pf_perf"
   ]
  },
  {
   "cell_type": "markdown",
   "metadata": {},
   "source": [
    "We created a portfolio with manually selected asset weights. Next, we will create five new portfolios. Each new portfolio will be constructed using randomly selected asset weights. Then, we will compare the all of the portfolios."
   ]
  },
  {
   "cell_type": "code",
   "execution_count": 52,
   "metadata": {},
   "outputs": [],
   "source": [
    "# Set the random number generator\n",
    "np.random.seed(54321)\n",
    "\n",
    "# Determine the number of portfolios\n",
    "n_portfolio = 8\n",
    "\n",
    "# Create an empty list of portoflio weights\n",
    "pf_weights = []\n",
    "\n",
    "# Create portoflios with randomly weighted assets\n",
    "for i in range(n_portfolio):\n",
    "        \n",
    "        # Randomly generate a weight for each asset\n",
    "        weights = np.random.random(len(tickers))\n",
    "        \n",
    "        # Normalize the weights to set the sum to 1\n",
    "        weights /= sum(weights)\n",
    "        \n",
    "        # Attach each weights vecotr to the list of portfolio weights\n",
    "        pf_weights.append(weights)"
   ]
  },
  {
   "cell_type": "code",
   "execution_count": 53,
   "metadata": {},
   "outputs": [
    {
     "data": {
      "text/plain": [
       "[array([0.33065754, 0.22626498, 0.28719197, 0.15588551]),\n",
       " array([0.29840386, 0.22720921, 0.04706245, 0.42732448]),\n",
       " array([0.43680535, 0.04514181, 0.48100594, 0.0370469 ]),\n",
       " array([0.23852248, 0.29376561, 0.18852578, 0.27918614]),\n",
       " array([0.30591352, 0.34134841, 0.04753332, 0.30520474]),\n",
       " array([0.43034204, 0.03870507, 0.10889037, 0.42206251]),\n",
       " array([0.38211494, 0.06221279, 0.40034242, 0.15532986]),\n",
       " array([0.31476347, 0.04552468, 0.38411885, 0.255593  ])]"
      ]
     },
     "execution_count": 53,
     "metadata": {},
     "output_type": "execute_result"
    }
   ],
   "source": [
    "# Print list of weights vectors\n",
    "pf_weights"
   ]
  },
  {
   "cell_type": "code",
   "execution_count": 54,
   "metadata": {},
   "outputs": [],
   "source": [
    "# Calcualte portfolio performance of randomly weighted assets\n",
    "pf1 = portofolio_performance(returns,pf_weights[0])\n",
    "pf2 = portofolio_performance(returns,pf_weights[1])\n",
    "pf3 = portofolio_performance(returns,pf_weights[2])\n",
    "pf4 = portofolio_performance(returns,pf_weights[3])\n",
    "pf5 = portofolio_performance(returns,pf_weights[4])\n",
    "pf6 = portofolio_performance(returns,pf_weights[5])\n",
    "pf7 = portofolio_performance(returns,pf_weights[6])\n",
    "pf8 = portofolio_performance(returns,pf_weights[7])"
   ]
  },
  {
   "cell_type": "code",
   "execution_count": 55,
   "metadata": {},
   "outputs": [],
   "source": [
    "# Create a data dictionary\n",
    "data = {0:pf_perf[:].values,\n",
    "        1:pf1[:].values,\n",
    "        2:pf2[:].values,\n",
    "        3:pf3[:].values,\n",
    "        4:pf4[:].values,\n",
    "        5:pf5[:].values,\n",
    "        6:pf6[:].values,\n",
    "        7:pf7[:].values,\n",
    "        8:pf8[:].values}"
   ]
  },
  {
   "cell_type": "code",
   "execution_count": 56,
   "metadata": {},
   "outputs": [],
   "source": [
    "# Name the columns\n",
    "columns = pf1.index"
   ]
  },
  {
   "cell_type": "code",
   "execution_count": 57,
   "metadata": {},
   "outputs": [],
   "source": [
    "# Create a transposed dataframe\n",
    "df = pd.DataFrame(data, columns).T"
   ]
  },
  {
   "cell_type": "code",
   "execution_count": 58,
   "metadata": {},
   "outputs": [
    {
     "data": {
      "text/html": [
       "<div>\n",
       "<style scoped>\n",
       "    .dataframe tbody tr th:only-of-type {\n",
       "        vertical-align: middle;\n",
       "    }\n",
       "\n",
       "    .dataframe tbody tr th {\n",
       "        vertical-align: top;\n",
       "    }\n",
       "\n",
       "    .dataframe thead th {\n",
       "        text-align: right;\n",
       "    }\n",
       "</style>\n",
       "<table border=\"1\" class=\"dataframe\">\n",
       "  <thead>\n",
       "    <tr style=\"text-align: right;\">\n",
       "      <th></th>\n",
       "      <th>Ret</th>\n",
       "      <th>Vol</th>\n",
       "      <th>Sharpe</th>\n",
       "      <th>AAPL</th>\n",
       "      <th>IBM</th>\n",
       "      <th>MSFT</th>\n",
       "      <th>WMT</th>\n",
       "    </tr>\n",
       "  </thead>\n",
       "  <tbody>\n",
       "    <tr>\n",
       "      <th>0</th>\n",
       "      <td>0.176072</td>\n",
       "      <td>0.181343</td>\n",
       "      <td>0.969279</td>\n",
       "      <td>0.500000</td>\n",
       "      <td>0.300000</td>\n",
       "      <td>0.100000</td>\n",
       "      <td>0.100000</td>\n",
       "    </tr>\n",
       "    <tr>\n",
       "      <th>1</th>\n",
       "      <td>0.173498</td>\n",
       "      <td>0.167930</td>\n",
       "      <td>1.031371</td>\n",
       "      <td>0.330658</td>\n",
       "      <td>0.226265</td>\n",
       "      <td>0.287192</td>\n",
       "      <td>0.155886</td>\n",
       "    </tr>\n",
       "    <tr>\n",
       "      <th>2</th>\n",
       "      <td>0.149286</td>\n",
       "      <td>0.150206</td>\n",
       "      <td>0.991876</td>\n",
       "      <td>0.298404</td>\n",
       "      <td>0.227209</td>\n",
       "      <td>0.047062</td>\n",
       "      <td>0.427324</td>\n",
       "    </tr>\n",
       "    <tr>\n",
       "      <th>3</th>\n",
       "      <td>0.216415</td>\n",
       "      <td>0.197368</td>\n",
       "      <td>1.094987</td>\n",
       "      <td>0.436805</td>\n",
       "      <td>0.045142</td>\n",
       "      <td>0.481006</td>\n",
       "      <td>0.037047</td>\n",
       "    </tr>\n",
       "    <tr>\n",
       "      <th>4</th>\n",
       "      <td>0.148168</td>\n",
       "      <td>0.152768</td>\n",
       "      <td>0.967925</td>\n",
       "      <td>0.238522</td>\n",
       "      <td>0.293766</td>\n",
       "      <td>0.188526</td>\n",
       "      <td>0.279186</td>\n",
       "    </tr>\n",
       "    <tr>\n",
       "      <th>5</th>\n",
       "      <td>0.142461</td>\n",
       "      <td>0.153997</td>\n",
       "      <td>0.923141</td>\n",
       "      <td>0.305914</td>\n",
       "      <td>0.341348</td>\n",
       "      <td>0.047533</td>\n",
       "      <td>0.305205</td>\n",
       "    </tr>\n",
       "    <tr>\n",
       "      <th>6</th>\n",
       "      <td>0.185369</td>\n",
       "      <td>0.164293</td>\n",
       "      <td>1.126460</td>\n",
       "      <td>0.430342</td>\n",
       "      <td>0.038705</td>\n",
       "      <td>0.108890</td>\n",
       "      <td>0.422063</td>\n",
       "    </tr>\n",
       "    <tr>\n",
       "      <th>7</th>\n",
       "      <td>0.201151</td>\n",
       "      <td>0.179765</td>\n",
       "      <td>1.117299</td>\n",
       "      <td>0.382115</td>\n",
       "      <td>0.062213</td>\n",
       "      <td>0.400342</td>\n",
       "      <td>0.155330</td>\n",
       "    </tr>\n",
       "    <tr>\n",
       "      <th>8</th>\n",
       "      <td>0.191795</td>\n",
       "      <td>0.169073</td>\n",
       "      <td>1.132615</td>\n",
       "      <td>0.314763</td>\n",
       "      <td>0.045525</td>\n",
       "      <td>0.384119</td>\n",
       "      <td>0.255593</td>\n",
       "    </tr>\n",
       "  </tbody>\n",
       "</table>\n",
       "</div>"
      ],
      "text/plain": [
       "        Ret       Vol    Sharpe      AAPL       IBM      MSFT       WMT\n",
       "0  0.176072  0.181343  0.969279  0.500000  0.300000  0.100000  0.100000\n",
       "1  0.173498  0.167930  1.031371  0.330658  0.226265  0.287192  0.155886\n",
       "2  0.149286  0.150206  0.991876  0.298404  0.227209  0.047062  0.427324\n",
       "3  0.216415  0.197368  1.094987  0.436805  0.045142  0.481006  0.037047\n",
       "4  0.148168  0.152768  0.967925  0.238522  0.293766  0.188526  0.279186\n",
       "5  0.142461  0.153997  0.923141  0.305914  0.341348  0.047533  0.305205\n",
       "6  0.185369  0.164293  1.126460  0.430342  0.038705  0.108890  0.422063\n",
       "7  0.201151  0.179765  1.117299  0.382115  0.062213  0.400342  0.155330\n",
       "8  0.191795  0.169073  1.132615  0.314763  0.045525  0.384119  0.255593"
      ]
     },
     "execution_count": 58,
     "metadata": {},
     "output_type": "execute_result"
    }
   ],
   "source": [
    "# Print the performance of the portfolios\n",
    "df"
   ]
  },
  {
   "cell_type": "code",
   "execution_count": 59,
   "metadata": {},
   "outputs": [
    {
     "data": {
      "text/html": [
       "<div>\n",
       "<style scoped>\n",
       "    .dataframe tbody tr th:only-of-type {\n",
       "        vertical-align: middle;\n",
       "    }\n",
       "\n",
       "    .dataframe tbody tr th {\n",
       "        vertical-align: top;\n",
       "    }\n",
       "\n",
       "    .dataframe thead th {\n",
       "        text-align: right;\n",
       "    }\n",
       "</style>\n",
       "<table border=\"1\" class=\"dataframe\">\n",
       "  <thead>\n",
       "    <tr style=\"text-align: right;\">\n",
       "      <th></th>\n",
       "      <th>Ret</th>\n",
       "      <th>Vol</th>\n",
       "      <th>Sharpe</th>\n",
       "      <th>AAPL</th>\n",
       "      <th>IBM</th>\n",
       "      <th>MSFT</th>\n",
       "      <th>WMT</th>\n",
       "    </tr>\n",
       "  </thead>\n",
       "  <tbody>\n",
       "    <tr>\n",
       "      <th>8</th>\n",
       "      <td>0.191795</td>\n",
       "      <td>0.169073</td>\n",
       "      <td>1.132615</td>\n",
       "      <td>0.314763</td>\n",
       "      <td>0.045525</td>\n",
       "      <td>0.384119</td>\n",
       "      <td>0.255593</td>\n",
       "    </tr>\n",
       "  </tbody>\n",
       "</table>\n",
       "</div>"
      ],
      "text/plain": [
       "        Ret       Vol    Sharpe      AAPL       IBM      MSFT       WMT\n",
       "8  0.191795  0.169073  1.132615  0.314763  0.045525  0.384119  0.255593"
      ]
     },
     "execution_count": 59,
     "metadata": {},
     "output_type": "execute_result"
    }
   ],
   "source": [
    "# Calculate the maximum Sharpe Ratio portfolio\n",
    "max_sharpe_pf = df[df['Sharpe'] == df['Sharpe'].max()]\n",
    "\n",
    "# Print the maximum Sharpe ratio\n",
    "max_sharpe_pf"
   ]
  },
  {
   "cell_type": "code",
   "execution_count": 60,
   "metadata": {},
   "outputs": [
    {
     "data": {
      "text/html": [
       "<div>\n",
       "<style scoped>\n",
       "    .dataframe tbody tr th:only-of-type {\n",
       "        vertical-align: middle;\n",
       "    }\n",
       "\n",
       "    .dataframe tbody tr th {\n",
       "        vertical-align: top;\n",
       "    }\n",
       "\n",
       "    .dataframe thead th {\n",
       "        text-align: right;\n",
       "    }\n",
       "</style>\n",
       "<table border=\"1\" class=\"dataframe\">\n",
       "  <thead>\n",
       "    <tr style=\"text-align: right;\">\n",
       "      <th></th>\n",
       "      <th>Ret</th>\n",
       "      <th>Vol</th>\n",
       "      <th>Sharpe</th>\n",
       "      <th>AAPL</th>\n",
       "      <th>IBM</th>\n",
       "      <th>MSFT</th>\n",
       "      <th>WMT</th>\n",
       "    </tr>\n",
       "  </thead>\n",
       "  <tbody>\n",
       "    <tr>\n",
       "      <th>3</th>\n",
       "      <td>0.216415</td>\n",
       "      <td>0.197368</td>\n",
       "      <td>1.094987</td>\n",
       "      <td>0.436805</td>\n",
       "      <td>0.045142</td>\n",
       "      <td>0.481006</td>\n",
       "      <td>0.037047</td>\n",
       "    </tr>\n",
       "  </tbody>\n",
       "</table>\n",
       "</div>"
      ],
      "text/plain": [
       "        Ret       Vol    Sharpe      AAPL       IBM      MSFT       WMT\n",
       "3  0.216415  0.197368  1.094987  0.436805  0.045142  0.481006  0.037047"
      ]
     },
     "execution_count": 60,
     "metadata": {},
     "output_type": "execute_result"
    }
   ],
   "source": [
    "# Calculate the maximum returns portfolio\n",
    "max_ret_pf = df[df['Ret'] == df['Ret'].max()]\n",
    "\n",
    "# Print the maximum returns portfolio\n",
    "max_ret_pf"
   ]
  },
  {
   "cell_type": "code",
   "execution_count": 61,
   "metadata": {},
   "outputs": [
    {
     "data": {
      "text/html": [
       "<div>\n",
       "<style scoped>\n",
       "    .dataframe tbody tr th:only-of-type {\n",
       "        vertical-align: middle;\n",
       "    }\n",
       "\n",
       "    .dataframe tbody tr th {\n",
       "        vertical-align: top;\n",
       "    }\n",
       "\n",
       "    .dataframe thead th {\n",
       "        text-align: right;\n",
       "    }\n",
       "</style>\n",
       "<table border=\"1\" class=\"dataframe\">\n",
       "  <thead>\n",
       "    <tr style=\"text-align: right;\">\n",
       "      <th></th>\n",
       "      <th>Ret</th>\n",
       "      <th>Vol</th>\n",
       "      <th>Sharpe</th>\n",
       "      <th>AAPL</th>\n",
       "      <th>IBM</th>\n",
       "      <th>MSFT</th>\n",
       "      <th>WMT</th>\n",
       "    </tr>\n",
       "  </thead>\n",
       "  <tbody>\n",
       "    <tr>\n",
       "      <th>2</th>\n",
       "      <td>0.149286</td>\n",
       "      <td>0.150206</td>\n",
       "      <td>0.991876</td>\n",
       "      <td>0.298404</td>\n",
       "      <td>0.227209</td>\n",
       "      <td>0.047062</td>\n",
       "      <td>0.427324</td>\n",
       "    </tr>\n",
       "  </tbody>\n",
       "</table>\n",
       "</div>"
      ],
      "text/plain": [
       "        Ret       Vol    Sharpe      AAPL       IBM      MSFT       WMT\n",
       "2  0.149286  0.150206  0.991876  0.298404  0.227209  0.047062  0.427324"
      ]
     },
     "execution_count": 61,
     "metadata": {},
     "output_type": "execute_result"
    }
   ],
   "source": [
    "# Calculate the minimum volatility portfolio\n",
    "min_vol_pf = df[df['Vol'] == df['Vol'].min()]\n",
    "\n",
    "# Print the minimum volatility portfolio\n",
    "min_vol_pf"
   ]
  },
  {
   "cell_type": "markdown",
   "metadata": {},
   "source": [
    "We have created and investigated many portfolios. Each portfolio is made of n-assets stocks, each of different weights. One portfolio was created by manually selecting the weight of each asset. A few portfolios were created by randomly selecting the weights of each asset. Of the portfolios, we found the highest Sharpe Ratio, highest returns, and lowest volatility portfolios. We will create many more portfolios of randomly generated asset weights, and find the best portfolios."
   ]
  },
  {
   "cell_type": "code",
   "execution_count": null,
   "metadata": {},
   "outputs": [],
   "source": []
  }
 ],
 "metadata": {
  "kernelspec": {
   "display_name": "Python 3",
   "language": "python",
   "name": "python3"
  },
  "language_info": {
   "codemirror_mode": {
    "name": "ipython",
    "version": 3
   },
   "file_extension": ".py",
   "mimetype": "text/x-python",
   "name": "python",
   "nbconvert_exporter": "python",
   "pygments_lexer": "ipython3",
   "version": "3.6.8"
  },
  "toc": {
   "base_numbering": 1,
   "nav_menu": {},
   "number_sections": true,
   "sideBar": true,
   "skip_h1_title": true,
   "title_cell": "Table of Contents",
   "title_sidebar": "Contents",
   "toc_cell": true,
   "toc_position": {},
   "toc_section_display": true,
   "toc_window_display": false
  }
 },
 "nbformat": 4,
 "nbformat_minor": 2
}
