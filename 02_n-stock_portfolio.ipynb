{
 "cells": [
  {
   "cell_type": "markdown",
   "metadata": {
    "toc": true
   },
   "source": [
    "<h1>Table of Contents<span class=\"tocSkip\"></span></h1>\n",
    "<div class=\"toc\"><ul class=\"toc-item\"></ul></div>"
   ]
  },
  {
   "cell_type": "markdown",
   "metadata": {},
   "source": [
    "# Forming a multi-stock portfolio"
   ]
  },
  {
   "cell_type": "code",
   "execution_count": null,
   "metadata": {},
   "outputs": [],
   "source": [
    "import pandas_datareader.data as web\n",
    "import numpy as np\n",
    "import pandas as pd\n",
    "from datetime import datetime\n",
    "import matplotlib.pyplot as plt\n",
    "import seaborn as sns\n",
    "sns.set_style(\"darkgrid\")\n",
    "%matplotlib inline\n",
    "p = print"
   ]
  },
  {
   "cell_type": "code",
   "execution_count": null,
   "metadata": {},
   "outputs": [],
   "source": [
    "tickers = ['AAPL','IBM', 'MSFT']\n",
    "df = web.DataReader(tickers,'yahoo','01/01/2010','10/18/2019')['Adj Close']\n",
    "df.head()"
   ]
  },
  {
   "cell_type": "code",
   "execution_count": null,
   "metadata": {},
   "outputs": [],
   "source": [
    "df.tail()"
   ]
  },
  {
   "cell_type": "code",
   "execution_count": null,
   "metadata": {},
   "outputs": [],
   "source": [
    "# daily returns series\n",
    "returns = df.pct_change().dropna()\n",
    "returns.head()"
   ]
  },
  {
   "cell_type": "code",
   "execution_count": null,
   "metadata": {},
   "outputs": [],
   "source": [
    "returns.tail()"
   ]
  },
  {
   "cell_type": "code",
   "execution_count": null,
   "metadata": {},
   "outputs": [],
   "source": [
    "# Manually selected asset weights\n",
    "weights = np.asarray([0.5,0.3,0.2])\n",
    "\n",
    "def portofolio_performance(returns, weights):\n",
    "    mean, std, cov_matrix = returns.mean(), returns.std(), returns.cov()\n",
    "    pf_weights = weights\n",
    "    pf_ret = pf_weights.T.dot(mean) * 252\n",
    "    pf_vol = np.sqrt(pf_weights.T.dot(cov_matrix).dot(pf_weights)) * np.sqrt(252)\n",
    "    pf_sharpe = pf_ret / pf_vol\n",
    "    \n",
    "    columns = ['Ret','Vol','Sharpe'] + [ticker for ticker in tickers]\n",
    "    data = [pf_ret,pf_vol,pf_sharpe] + [weight for weight in weights]\n",
    "    \n",
    "#     myDict = {k:v for (k,v) in zip(columns, data)} \n",
    "    series = pd.Series(data=data,index=columns)\n",
    "    return series"
   ]
  },
  {
   "cell_type": "code",
   "execution_count": null,
   "metadata": {},
   "outputs": [],
   "source": [
    "pf = portofolio_performance(returns, weights)\n",
    "pf"
   ]
  },
  {
   "cell_type": "markdown",
   "metadata": {},
   "source": [
    "We want to investigate the portfolio poerformance using different asset weights. Maually changing each weight would be tedious. Instead, we will randomly select the asset weights of each portfolio, then compare the portfolios."
   ]
  },
  {
   "cell_type": "code",
   "execution_count": null,
   "metadata": {},
   "outputs": [],
   "source": [
    "np.random.seed(123)\n",
    "n_portfolio = 5\n",
    "pf_weights = []\n",
    "for i in range(n_portfolio):\n",
    "        weights = np.random.random(len(tickers))\n",
    "        weights /= sum(weights)\n",
    "        pf_weights.append(weights)\n",
    "        \n",
    "pf_weights"
   ]
  },
  {
   "cell_type": "code",
   "execution_count": null,
   "metadata": {},
   "outputs": [],
   "source": [
    "pf1 = portofolio_performance(returns,pf_weights[0])\n",
    "pf2 = portofolio_performance(returns,pf_weights[1])\n",
    "pf3 = portofolio_performance(returns,pf_weights[2])\n",
    "pf4 = portofolio_performance(returns,pf_weights[3])\n",
    "pf5 = portofolio_performance(returns,pf_weights[4])"
   ]
  },
  {
   "cell_type": "code",
   "execution_count": null,
   "metadata": {},
   "outputs": [],
   "source": [
    "data = {0:pf[:].values,\n",
    "        1:pf1[:].values,\n",
    "        2:pf2[:].values,\n",
    "        3:pf3[:].values,\n",
    "        4:pf4[:].values,\n",
    "        5:pf5[:].values}\n",
    "columns = pf1.index\n",
    "df = pd.DataFrame(data, columns).T\n",
    "df"
   ]
  },
  {
   "cell_type": "code",
   "execution_count": null,
   "metadata": {},
   "outputs": [],
   "source": [
    "# The highest Sharpe Ratio portfolio\n",
    "max_sharpe_pf = df[df['Sharpe'] == df['Sharpe'].max()]\n",
    "max_sharpe_pf"
   ]
  },
  {
   "cell_type": "code",
   "execution_count": null,
   "metadata": {},
   "outputs": [],
   "source": [
    "# The highest returns portfolio\n",
    "max_ret_pf = df[df['Ret'] == df['Ret'].max()]\n",
    "max_ret_pf"
   ]
  },
  {
   "cell_type": "code",
   "execution_count": null,
   "metadata": {},
   "outputs": [],
   "source": [
    "# The lowest volatility portfolio\n",
    "min_vol_pf = df[df['Vol'] == df['Vol'].min()]\n",
    "min_vol_pf"
   ]
  },
  {
   "cell_type": "code",
   "execution_count": null,
   "metadata": {},
   "outputs": [],
   "source": [
    "tickers = ['AAPL','IBM', 'MSFT', 'WMT']\n",
    "df = web.DataReader(tickers,'yahoo','01/01/2010','10/18/2019')['Adj Close']\n",
    "df.head()"
   ]
  },
  {
   "cell_type": "code",
   "execution_count": null,
   "metadata": {},
   "outputs": [],
   "source": [
    "df.tail()"
   ]
  },
  {
   "cell_type": "code",
   "execution_count": null,
   "metadata": {},
   "outputs": [],
   "source": [
    "# daily returns series\n",
    "returns = df.pct_change().dropna()\n",
    "returns.head()"
   ]
  },
  {
   "cell_type": "code",
   "execution_count": null,
   "metadata": {},
   "outputs": [],
   "source": [
    "returns.tail()"
   ]
  },
  {
   "cell_type": "code",
   "execution_count": null,
   "metadata": {},
   "outputs": [],
   "source": [
    "nDays = 1\n",
    "mean = returns.mean() * nDays\n",
    "stdev = returns.std() * np.sqrt(nDays)\n",
    "for ticker, ret, vol in zip(tickers,mean,stdev):\n",
    "    p(f'{ticker} stock {nDays}-day performance:')\n",
    "    p(f'The mean daily return is {round(ret,6)}.')\n",
    "    p(f'The standatd deviation of daily returns (volatitliy) is {round(vol,4)*100}%.\\n')"
   ]
  },
  {
   "cell_type": "code",
   "execution_count": null,
   "metadata": {},
   "outputs": [],
   "source": [
    "nDays = 10\n",
    "mean_10d = returns.mean() * nDays\n",
    "stdev_10d = returns.std() * np.sqrt(nDays)\n",
    "for ticker, ret, vol in zip(tickers,mean_10d,stdev_10d):\n",
    "    p(f'{ticker} stock {nDays}-day performance:')\n",
    "    p(f'The mean daily return is {round(ret,6)}.')\n",
    "    p(f'The standatd deviation of daily returns (volatitliy) is {round(vol,4)*100}%.\\n')\n",
    "# for ticker, ret, vol in zip(tickers,mean,stdev):\n",
    "#     p(f'The {nDays} mean return of {ticker} is {round(ret*nDays,5)*100}%, and {nDays} volatility is {round(vol*np.sqrt(nDays),3)*100}% \\n')"
   ]
  },
  {
   "cell_type": "code",
   "execution_count": null,
   "metadata": {},
   "outputs": [],
   "source": [
    "for ticker, var in zip(tickers, returns.var()):\n",
    "    p(f'The variance of daily returns for {ticker} is {var}.')"
   ]
  },
  {
   "cell_type": "code",
   "execution_count": null,
   "metadata": {},
   "outputs": [],
   "source": [
    "# the covariance of a variable with itself is equal to the variance of that variable\n",
    "for ticker, cov in zip(tickers,np.cov(returns[tickers])):\n",
    "    p(f'The covariance of daily returns for {ticker} is {np.cov(returns[ticker])}.')"
   ]
  },
  {
   "cell_type": "code",
   "execution_count": null,
   "metadata": {},
   "outputs": [],
   "source": [
    "cov_matrix = returns.cov()\n",
    "cov_matrix"
   ]
  },
  {
   "cell_type": "code",
   "execution_count": null,
   "metadata": {},
   "outputs": [],
   "source": [
    "corr_matrix = returns.corr()\n",
    "corr_matrix"
   ]
  },
  {
   "cell_type": "code",
   "execution_count": null,
   "metadata": {},
   "outputs": [],
   "source": [
    "# portfolio weights\n",
    "weights = np.asarray([0.5, 0.3, 0.1, 0.1])\n",
    "\n",
    "def portofolio_performance(returns, weights):\n",
    "    mean, std, cov_matrix = returns.mean(), returns.std(), returns.cov()\n",
    "    pf_weights = weights\n",
    "    pf_ret = pf_weights.T.dot(mean) * 252\n",
    "    pf_vol = np.sqrt(pf_weights.T.dot(cov_matrix).dot(pf_weights)) * np.sqrt(252)\n",
    "    rf = 0.0003 # risk-free rate of return\n",
    "    pf_sharpe = (pf_ret - rf) / pf_vol\n",
    "    \n",
    "    columns = ['Ret','Vol','Sharpe'] + [ticker for ticker in tickers]\n",
    "    data = [pf_ret,pf_vol,pf_sharpe] + [weight for weight in weights]\n",
    "    series = pd.Series(data=data,index=columns)\n",
    "\n",
    "    return series"
   ]
  },
  {
   "cell_type": "code",
   "execution_count": null,
   "metadata": {},
   "outputs": [],
   "source": [
    "pf_perf = portofolio_performance(returns,weights)\n",
    "pf_perf"
   ]
  },
  {
   "cell_type": "markdown",
   "metadata": {},
   "source": [
    "We created a portfolio with manually selected asset weights. Next, we will create five new portfolios. Each new portfolio will be constructed using randomly selected asset weights. Then, we will compare the all of the portfolios."
   ]
  },
  {
   "cell_type": "code",
   "execution_count": null,
   "metadata": {},
   "outputs": [],
   "source": [
    "np.random.seed(54321)\n",
    "n_portfolio = 8\n",
    "pf_weights = []\n",
    "for i in range(n_portfolio):\n",
    "        weights = np.random.random(len(tickers))\n",
    "        weights /= sum(weights)\n",
    "        pf_weights.append(weights)\n",
    "        \n",
    "pf_weights"
   ]
  },
  {
   "cell_type": "code",
   "execution_count": null,
   "metadata": {},
   "outputs": [],
   "source": [
    "pf1 = portofolio_performance(returns,pf_weights[0])\n",
    "pf2 = portofolio_performance(returns,pf_weights[1])\n",
    "pf3 = portofolio_performance(returns,pf_weights[2])\n",
    "pf4 = portofolio_performance(returns,pf_weights[3])\n",
    "pf5 = portofolio_performance(returns,pf_weights[4])\n",
    "pf6 = portofolio_performance(returns,pf_weights[5])\n",
    "pf7 = portofolio_performance(returns,pf_weights[6])\n",
    "pf8 = portofolio_performance(returns,pf_weights[7])"
   ]
  },
  {
   "cell_type": "code",
   "execution_count": null,
   "metadata": {},
   "outputs": [],
   "source": [
    "pf1"
   ]
  },
  {
   "cell_type": "code",
   "execution_count": null,
   "metadata": {},
   "outputs": [],
   "source": [
    "data = {0:pf_perf[:].values,\n",
    "        1:pf1[:].values,\n",
    "        2:pf2[:].values,\n",
    "        3:pf3[:].values,\n",
    "        4:pf4[:].values,\n",
    "        5:pf5[:].values,\n",
    "        6:pf6[:].values,\n",
    "        7:pf7[:].values,\n",
    "        8:pf8[:].values}\n",
    "columns = pf1.index\n",
    "df = pd.DataFrame(data, columns).T\n",
    "df"
   ]
  },
  {
   "cell_type": "code",
   "execution_count": null,
   "metadata": {},
   "outputs": [],
   "source": [
    "# The highest Sharpe Ratio portfolio\n",
    "max_sharpe_pf = df[df['Sharpe'] == df['Sharpe'].max()]\n",
    "max_sharpe_pf"
   ]
  },
  {
   "cell_type": "code",
   "execution_count": null,
   "metadata": {},
   "outputs": [],
   "source": [
    "# The highest returns portfolio\n",
    "max_ret_pf = df[df['Ret'] == df['Ret'].max()]\n",
    "max_ret_pf"
   ]
  },
  {
   "cell_type": "code",
   "execution_count": null,
   "metadata": {},
   "outputs": [],
   "source": [
    "# The lowest volatility portfolio\n",
    "min_vol_pf = df[df['Vol'] == df['Vol'].min()]\n",
    "min_vol_pf"
   ]
  },
  {
   "cell_type": "markdown",
   "metadata": {},
   "source": [
    "We have created and investigated many portfolios. Each portfolio is made of n-assets stocks, each of different weights. One portfolio was created by manually selecting the weight of each asset. A few portfolios were created by randomly selecting the weights of each asset. Of the portfolios, we found the highest Sharpe Ratio, highest returns, and lowest volatility portfolios. We will create many more portfolios of randomly generated asset weights, and find the best portfolios."
   ]
  },
  {
   "cell_type": "code",
   "execution_count": null,
   "metadata": {},
   "outputs": [],
   "source": []
  }
 ],
 "metadata": {
  "kernelspec": {
   "display_name": "Python 3",
   "language": "python",
   "name": "python3"
  },
  "language_info": {
   "codemirror_mode": {
    "name": "ipython",
    "version": 3
   },
   "file_extension": ".py",
   "mimetype": "text/x-python",
   "name": "python",
   "nbconvert_exporter": "python",
   "pygments_lexer": "ipython3",
   "version": "3.6.8"
  },
  "toc": {
   "base_numbering": 1,
   "nav_menu": {},
   "number_sections": true,
   "sideBar": true,
   "skip_h1_title": true,
   "title_cell": "Table of Contents",
   "title_sidebar": "Contents",
   "toc_cell": true,
   "toc_position": {},
   "toc_section_display": true,
   "toc_window_display": false
  }
 },
 "nbformat": 4,
 "nbformat_minor": 2
}
