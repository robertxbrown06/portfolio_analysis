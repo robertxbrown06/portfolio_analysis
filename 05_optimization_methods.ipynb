{
 "cells": [
  {
   "cell_type": "markdown",
   "metadata": {
    "toc": true
   },
   "source": [
    "<h1>Table of Contents<span class=\"tocSkip\"></span></h1>\n",
    "<div class=\"toc\"><ul class=\"toc-item\"><li><span><a href=\"#Monte-Carlo-Simulation\" data-toc-modified-id=\"Monte-Carlo-Simulation-1\"><span class=\"toc-item-num\">1&nbsp;&nbsp;</span>Monte Carlo Simulation</a></span></li><li><span><a href=\"#Scipy-Optimize---Minimize\" data-toc-modified-id=\"Scipy-Optimize---Minimize-2\"><span class=\"toc-item-num\">2&nbsp;&nbsp;</span>Scipy Optimize - Minimize</a></span></li></ul></div>"
   ]
  },
  {
   "cell_type": "markdown",
   "metadata": {},
   "source": [
    "# Comparing methods of optimization"
   ]
  },
  {
   "cell_type": "code",
   "execution_count": 1,
   "metadata": {},
   "outputs": [],
   "source": [
    "import pandas_datareader.data as web\n",
    "import numpy as np, pandas as pd, scipy as sp\n",
    "import scipy.optimize as sco\n",
    "from scipy import stats\n",
    "from datetime import datetime\n",
    "import matplotlib.pyplot as plt\n",
    "import seaborn as sns\n",
    "sns.set_style(\"darkgrid\")\n",
    "%matplotlib inline\n",
    "p = print"
   ]
  },
  {
   "cell_type": "code",
   "execution_count": 2,
   "metadata": {},
   "outputs": [],
   "source": [
    "# Load the data\n",
    "df = pd.read_csv('AAPL_MSFT_IBM_WMT.csv', index_col='Date', parse_dates=True)"
   ]
  },
  {
   "cell_type": "code",
   "execution_count": 3,
   "metadata": {},
   "outputs": [],
   "source": [
    "# Make a list of stock symbols\n",
    "tickers = df.columns"
   ]
  },
  {
   "cell_type": "code",
   "execution_count": 4,
   "metadata": {},
   "outputs": [
    {
     "data": {
      "text/plain": [
       "Index(['AAPL', 'IBM', 'MSFT', 'WMT'], dtype='object')"
      ]
     },
     "execution_count": 4,
     "metadata": {},
     "output_type": "execute_result"
    }
   ],
   "source": [
    "# Print the stock symbols\n",
    "tickers"
   ]
  },
  {
   "cell_type": "code",
   "execution_count": 5,
   "metadata": {},
   "outputs": [],
   "source": [
    "# Calculate the daily returns\n",
    "returns = df.pct_change().dropna()"
   ]
  },
  {
   "cell_type": "code",
   "execution_count": 6,
   "metadata": {},
   "outputs": [],
   "source": [
    "# Calculate the mean and standard deviation of returns\n",
    "mean_return = returns.mean()\n",
    "return_stdev = returns.std()"
   ]
  },
  {
   "cell_type": "code",
   "execution_count": 7,
   "metadata": {},
   "outputs": [],
   "source": [
    "# Calculate the covariance of returns\n",
    "cov_matrix = returns.cov()"
   ]
  },
  {
   "cell_type": "code",
   "execution_count": 8,
   "metadata": {},
   "outputs": [],
   "source": [
    "# Hypothetical risk-free rate of retrun\n",
    "rf = 0.00003"
   ]
  },
  {
   "cell_type": "markdown",
   "metadata": {},
   "source": [
    "## Monte Carlo Simulation"
   ]
  },
  {
   "cell_type": "code",
   "execution_count": 9,
   "metadata": {},
   "outputs": [],
   "source": [
    "def simulate_random_portfolios(num_portfolios, returns, rf):\n",
    "    # Initialize simulatio results to all zeros\n",
    "    results_matrix = np.zeros((len(tickers)+3, num_portfolios))\n",
    "    \n",
    "    for i in range(num_portfolios):\n",
    "        # Generate random weights\n",
    "        weights = np.random.random(len(tickers))\n",
    "        # Normalize the weights and set the sum to 1\n",
    "        weights /= np.sum(weights)\n",
    "        \n",
    "        # Calculate the portfolio return, standard deviation, and Sharpe ratio\n",
    "        portfolio_return = np.sum(weights * returns.mean()) * 252\n",
    "        portfolio_stdev = np.sqrt(weights.T.dot(returns.cov()*252).dot(weights))\n",
    "        portfolio_sharpe_ratio = (portfolio_return - rf) / portfolio_stdev\n",
    "        \n",
    "        # Store the results in the arrays\n",
    "        results_matrix[0,i] = portfolio_return\n",
    "        results_matrix[1,i] = portfolio_stdev\n",
    "        results_matrix[2,i] = portfolio_sharpe_ratio\n",
    "        \n",
    "        # Save the weights in the array\n",
    "        for j in range(len(weights)):\n",
    "            results_matrix[j+3,i] = weights[j]\n",
    "    \n",
    "    # Save the simulations in a dataframe\n",
    "    results_df = pd.DataFrame(results_matrix.T,columns=['ret','stdev','sharpe'] + [ticker for ticker in tickers])\n",
    "     \n",
    "    return results_df"
   ]
  },
  {
   "cell_type": "code",
   "execution_count": 10,
   "metadata": {},
   "outputs": [],
   "source": [
    "results = simulate_random_portfolios(num_portfolios=100000, returns=returns,rf = 0.00003)"
   ]
  },
  {
   "cell_type": "code",
   "execution_count": 11,
   "metadata": {},
   "outputs": [
    {
     "data": {
      "text/html": [
       "<div>\n",
       "<style scoped>\n",
       "    .dataframe tbody tr th:only-of-type {\n",
       "        vertical-align: middle;\n",
       "    }\n",
       "\n",
       "    .dataframe tbody tr th {\n",
       "        vertical-align: top;\n",
       "    }\n",
       "\n",
       "    .dataframe thead th {\n",
       "        text-align: right;\n",
       "    }\n",
       "</style>\n",
       "<table border=\"1\" class=\"dataframe\">\n",
       "  <thead>\n",
       "    <tr style=\"text-align: right;\">\n",
       "      <th></th>\n",
       "      <th>ret</th>\n",
       "      <th>stdev</th>\n",
       "      <th>sharpe</th>\n",
       "      <th>AAPL</th>\n",
       "      <th>IBM</th>\n",
       "      <th>MSFT</th>\n",
       "      <th>WMT</th>\n",
       "    </tr>\n",
       "  </thead>\n",
       "  <tbody>\n",
       "    <tr>\n",
       "      <th>0</th>\n",
       "      <td>0.108333</td>\n",
       "      <td>0.144928</td>\n",
       "      <td>0.747288</td>\n",
       "      <td>0.039125</td>\n",
       "      <td>0.382157</td>\n",
       "      <td>0.108706</td>\n",
       "      <td>0.470012</td>\n",
       "    </tr>\n",
       "    <tr>\n",
       "      <th>1</th>\n",
       "      <td>0.165769</td>\n",
       "      <td>0.165305</td>\n",
       "      <td>1.002626</td>\n",
       "      <td>0.309328</td>\n",
       "      <td>0.268325</td>\n",
       "      <td>0.263885</td>\n",
       "      <td>0.158462</td>\n",
       "    </tr>\n",
       "    <tr>\n",
       "      <th>2</th>\n",
       "      <td>0.185738</td>\n",
       "      <td>0.168850</td>\n",
       "      <td>1.099838</td>\n",
       "      <td>0.461451</td>\n",
       "      <td>0.112016</td>\n",
       "      <td>0.123440</td>\n",
       "      <td>0.303092</td>\n",
       "    </tr>\n",
       "    <tr>\n",
       "      <th>3</th>\n",
       "      <td>0.126709</td>\n",
       "      <td>0.168651</td>\n",
       "      <td>0.751133</td>\n",
       "      <td>0.013002</td>\n",
       "      <td>0.437615</td>\n",
       "      <td>0.421935</td>\n",
       "      <td>0.127447</td>\n",
       "    </tr>\n",
       "    <tr>\n",
       "      <th>4</th>\n",
       "      <td>0.172092</td>\n",
       "      <td>0.163159</td>\n",
       "      <td>1.054567</td>\n",
       "      <td>0.114530</td>\n",
       "      <td>0.055101</td>\n",
       "      <td>0.484206</td>\n",
       "      <td>0.346162</td>\n",
       "    </tr>\n",
       "  </tbody>\n",
       "</table>\n",
       "</div>"
      ],
      "text/plain": [
       "        ret     stdev    sharpe      AAPL       IBM      MSFT       WMT\n",
       "0  0.108333  0.144928  0.747288  0.039125  0.382157  0.108706  0.470012\n",
       "1  0.165769  0.165305  1.002626  0.309328  0.268325  0.263885  0.158462\n",
       "2  0.185738  0.168850  1.099838  0.461451  0.112016  0.123440  0.303092\n",
       "3  0.126709  0.168651  0.751133  0.013002  0.437615  0.421935  0.127447\n",
       "4  0.172092  0.163159  1.054567  0.114530  0.055101  0.484206  0.346162"
      ]
     },
     "execution_count": 11,
     "metadata": {},
     "output_type": "execute_result"
    }
   ],
   "source": [
    "results.head()"
   ]
  },
  {
   "cell_type": "code",
   "execution_count": 12,
   "metadata": {},
   "outputs": [
    {
     "name": "stdout",
     "output_type": "stream",
     "text": [
      "ret       0.196744\n",
      "stdev     0.168566\n",
      "sharpe    1.166985\n",
      "AAPL      0.391849\n",
      "IBM       0.000019\n",
      "MSFT      0.278419\n",
      "WMT       0.329713\n",
      "Name: 74480, dtype: float64\n"
     ]
    }
   ],
   "source": [
    "max_sharpe_port = results.iloc[results['sharpe'].idxmax()]\n",
    "p(max_sharpe_port)"
   ]
  },
  {
   "cell_type": "code",
   "execution_count": 13,
   "metadata": {},
   "outputs": [
    {
     "data": {
      "text/plain": [
       "AAPL    0.391849\n",
       "IBM     0.000019\n",
       "MSFT    0.278419\n",
       "WMT     0.329713\n",
       "Name: 74480, dtype: float64"
      ]
     },
     "execution_count": 13,
     "metadata": {},
     "output_type": "execute_result"
    }
   ],
   "source": [
    "weights_max_sharpe_port = max_sharpe_port[3:]\n",
    "weights_max_sharpe_port"
   ]
  },
  {
   "cell_type": "code",
   "execution_count": 14,
   "metadata": {},
   "outputs": [
    {
     "data": {
      "text/plain": [
       "ret       0.122449\n",
       "stdev     0.143459\n",
       "sharpe    0.853332\n",
       "AAPL      0.095986\n",
       "IBM       0.283111\n",
       "MSFT      0.102949\n",
       "WMT       0.517954\n",
       "Name: 69578, dtype: float64"
      ]
     },
     "execution_count": 14,
     "metadata": {},
     "output_type": "execute_result"
    }
   ],
   "source": [
    "min_vol_port = results.iloc[results['stdev'].idxmin()]\n",
    "min_vol_port"
   ]
  },
  {
   "cell_type": "code",
   "execution_count": 15,
   "metadata": {},
   "outputs": [
    {
     "data": {
      "text/plain": [
       "AAPL    0.095986\n",
       "IBM     0.283111\n",
       "MSFT    0.102949\n",
       "WMT     0.517954\n",
       "Name: 69578, dtype: float64"
      ]
     },
     "execution_count": 15,
     "metadata": {},
     "output_type": "execute_result"
    }
   ],
   "source": [
    "weights_min_vol_port = min_vol_port[3:]\n",
    "weights_min_vol_port"
   ]
  },
  {
   "cell_type": "markdown",
   "metadata": {},
   "source": [
    "## Scipy Optimize - Minimize"
   ]
  },
  {
   "cell_type": "code",
   "execution_count": 16,
   "metadata": {},
   "outputs": [],
   "source": [
    "# Calculate Max Sharpe Ration pf with Scipy Optimize function\n",
    "def calc_neg_sharpe(weights, mean_return, cov_matrix, rf):\n",
    "    portfolio_return = np.sum(weights * returns.mean()) * 252\n",
    "    portfolio_stdev = np.sqrt(weights.T.dot(returns.cov() * 252).dot(weights))\n",
    "    sharpe_ratio = (portfolio_return - rf) / portfolio_stdev\n",
    "    return -1 * sharpe_ratio"
   ]
  },
  {
   "cell_type": "code",
   "execution_count": 17,
   "metadata": {},
   "outputs": [],
   "source": [
    "def max_sharpe_ratio(mean_return, cov_matrix, rf=0.00003):\n",
    "    num_assets = len(mean_return)\n",
    "    args = (mean_return, cov_matrix, rf)\n",
    "    constraints = ({'type':'eq', 'fun':lambda x: np.sum(x) - 1})\n",
    "    bound = (0.0, 1.0)\n",
    "    bounds = tuple(bound for asset in range(num_assets))\n",
    "    result = sco.minimize(calc_neg_sharpe, num_assets * [1./num_assets],\n",
    "                           args=args, method='SLSQP', bounds=bounds, constraints=constraints)\n",
    "    return result"
   ]
  },
  {
   "cell_type": "code",
   "execution_count": 18,
   "metadata": {},
   "outputs": [],
   "source": [
    "# max_sharpe_ratio(mean_return, cov_matrix, rf)"
   ]
  },
  {
   "cell_type": "code",
   "execution_count": 19,
   "metadata": {},
   "outputs": [],
   "source": [
    "max_sharpe_pf = max_sharpe_ratio(mean_return, cov_matrix, rf)"
   ]
  },
  {
   "cell_type": "code",
   "execution_count": 20,
   "metadata": {},
   "outputs": [],
   "source": [
    "weights_max_sharpe_pf = pd.DataFrame([x for x in max_sharpe_pf['x']], index=tickers).T"
   ]
  },
  {
   "cell_type": "code",
   "execution_count": 21,
   "metadata": {},
   "outputs": [
    {
     "data": {
      "text/html": [
       "<div>\n",
       "<style scoped>\n",
       "    .dataframe tbody tr th:only-of-type {\n",
       "        vertical-align: middle;\n",
       "    }\n",
       "\n",
       "    .dataframe tbody tr th {\n",
       "        vertical-align: top;\n",
       "    }\n",
       "\n",
       "    .dataframe thead th {\n",
       "        text-align: right;\n",
       "    }\n",
       "</style>\n",
       "<table border=\"1\" class=\"dataframe\">\n",
       "  <thead>\n",
       "    <tr style=\"text-align: right;\">\n",
       "      <th></th>\n",
       "      <th>AAPL</th>\n",
       "      <th>IBM</th>\n",
       "      <th>MSFT</th>\n",
       "      <th>WMT</th>\n",
       "    </tr>\n",
       "  </thead>\n",
       "  <tbody>\n",
       "    <tr>\n",
       "      <th>0</th>\n",
       "      <td>0.389181</td>\n",
       "      <td>0.0</td>\n",
       "      <td>0.279299</td>\n",
       "      <td>0.331519</td>\n",
       "    </tr>\n",
       "  </tbody>\n",
       "</table>\n",
       "</div>"
      ],
      "text/plain": [
       "       AAPL  IBM      MSFT       WMT\n",
       "0  0.389181  0.0  0.279299  0.331519"
      ]
     },
     "execution_count": 21,
     "metadata": {},
     "output_type": "execute_result"
    }
   ],
   "source": [
    "weights_max_sharpe_pf"
   ]
  },
  {
   "cell_type": "code",
   "execution_count": 22,
   "metadata": {},
   "outputs": [],
   "source": [
    "# Calculate Min Volatility pf with Scipy Optimize function\n",
    "def calc_pf_stdev(weights, mean_return, cov_matrix):\n",
    "    portfolio_stdev = np.sqrt(weights.T.dot(returns.cov() * 252).dot(weights))\n",
    "    return portfolio_stdev"
   ]
  },
  {
   "cell_type": "code",
   "execution_count": 23,
   "metadata": {},
   "outputs": [],
   "source": [
    "def min_vol(mean_return, cov_matrix):\n",
    "    num_assets = len(mean_return)\n",
    "    args = (mean_return, cov_matrix)\n",
    "    constraints = ({'type':'eq', 'fun':lambda x: np.sum(x) - 1})\n",
    "    bound = (0.0, 1.0)\n",
    "    bounds = tuple(bound for asset in range(num_assets))\n",
    "    result = sco.minimize(calc_pf_stdev, num_assets*[1./num_assets],\n",
    "                         args=args, method='SLSQP', bounds=bounds, constraints=constraints)\n",
    "    return result"
   ]
  },
  {
   "cell_type": "code",
   "execution_count": 24,
   "metadata": {},
   "outputs": [],
   "source": [
    "# min_vol(mean_return, cov_matrix)"
   ]
  },
  {
   "cell_type": "code",
   "execution_count": 25,
   "metadata": {},
   "outputs": [],
   "source": [
    "min_vol_pf = min_vol(mean_return, cov_matrix)"
   ]
  },
  {
   "cell_type": "code",
   "execution_count": 26,
   "metadata": {},
   "outputs": [],
   "source": [
    "weights_min_vol_pf = pd.DataFrame(data=[x for x in min_vol_pf['x']], index=tickers).T"
   ]
  },
  {
   "cell_type": "code",
   "execution_count": 27,
   "metadata": {},
   "outputs": [
    {
     "data": {
      "text/html": [
       "<div>\n",
       "<style scoped>\n",
       "    .dataframe tbody tr th:only-of-type {\n",
       "        vertical-align: middle;\n",
       "    }\n",
       "\n",
       "    .dataframe tbody tr th {\n",
       "        vertical-align: top;\n",
       "    }\n",
       "\n",
       "    .dataframe thead th {\n",
       "        text-align: right;\n",
       "    }\n",
       "</style>\n",
       "<table border=\"1\" class=\"dataframe\">\n",
       "  <thead>\n",
       "    <tr style=\"text-align: right;\">\n",
       "      <th></th>\n",
       "      <th>AAPL</th>\n",
       "      <th>IBM</th>\n",
       "      <th>MSFT</th>\n",
       "      <th>WMT</th>\n",
       "    </tr>\n",
       "  </thead>\n",
       "  <tbody>\n",
       "    <tr>\n",
       "      <th>0</th>\n",
       "      <td>0.106555</td>\n",
       "      <td>0.286021</td>\n",
       "      <td>0.09797</td>\n",
       "      <td>0.509455</td>\n",
       "    </tr>\n",
       "  </tbody>\n",
       "</table>\n",
       "</div>"
      ],
      "text/plain": [
       "       AAPL       IBM     MSFT       WMT\n",
       "0  0.106555  0.286021  0.09797  0.509455"
      ]
     },
     "execution_count": 27,
     "metadata": {},
     "output_type": "execute_result"
    }
   ],
   "source": [
    "weights_min_vol_pf"
   ]
  },
  {
   "cell_type": "code",
   "execution_count": null,
   "metadata": {},
   "outputs": [],
   "source": []
  }
 ],
 "metadata": {
  "kernelspec": {
   "display_name": "Python 3",
   "language": "python",
   "name": "python3"
  },
  "language_info": {
   "codemirror_mode": {
    "name": "ipython",
    "version": 3
   },
   "file_extension": ".py",
   "mimetype": "text/x-python",
   "name": "python",
   "nbconvert_exporter": "python",
   "pygments_lexer": "ipython3",
   "version": "3.6.8"
  },
  "toc": {
   "base_numbering": 1,
   "nav_menu": {},
   "number_sections": true,
   "sideBar": true,
   "skip_h1_title": true,
   "title_cell": "Table of Contents",
   "title_sidebar": "Contents",
   "toc_cell": true,
   "toc_position": {},
   "toc_section_display": true,
   "toc_window_display": false
  }
 },
 "nbformat": 4,
 "nbformat_minor": 2
}
