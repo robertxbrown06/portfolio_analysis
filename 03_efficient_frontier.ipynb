{
 "cells": [
  {
   "cell_type": "markdown",
   "metadata": {
    "toc": true
   },
   "source": [
    "<h1>Table of Contents<span class=\"tocSkip\"></span></h1>\n",
    "<div class=\"toc\"><ul class=\"toc-item\"></ul></div>"
   ]
  },
  {
   "cell_type": "markdown",
   "metadata": {},
   "source": [
    "# Constructing an efficient frontier"
   ]
  },
  {
   "cell_type": "code",
   "execution_count": 1,
   "metadata": {},
   "outputs": [],
   "source": [
    "import pandas_datareader.data as web\n",
    "import numpy as np, pandas as pd, scipy as sp\n",
    "from datetime import datetime\n",
    "import matplotlib.pyplot as plt\n",
    "import seaborn as sns\n",
    "sns.set_style(\"darkgrid\")\n",
    "%matplotlib inline\n",
    "p = print"
   ]
  },
  {
   "cell_type": "code",
   "execution_count": 2,
   "metadata": {},
   "outputs": [],
   "source": [
    "# Load stock data\n",
    "df = pd.read_csv('IBM_MSFT.csv', index_col='Date', parse_dates=True)"
   ]
  },
  {
   "cell_type": "code",
   "execution_count": 3,
   "metadata": {},
   "outputs": [
    {
     "name": "stdout",
     "output_type": "stream",
     "text": [
      "<class 'pandas.core.frame.DataFrame'>\n",
      "DatetimeIndex: 2264 entries, 2010-01-04 to 2018-12-31\n",
      "Data columns (total 2 columns):\n",
      "IBM     2264 non-null float64\n",
      "MSFT    2264 non-null float64\n",
      "dtypes: float64(2)\n",
      "memory usage: 53.1 KB\n"
     ]
    }
   ],
   "source": [
    "# Print summary of data\n",
    "df.info()"
   ]
  },
  {
   "cell_type": "code",
   "execution_count": 4,
   "metadata": {},
   "outputs": [],
   "source": [
    "# List the stock tickers\n",
    "tickers = df.columns"
   ]
  },
  {
   "cell_type": "code",
   "execution_count": 5,
   "metadata": {},
   "outputs": [],
   "source": [
    "# Calculate daily returns\n",
    "returns = df.pct_change().dropna()"
   ]
  },
  {
   "cell_type": "code",
   "execution_count": 6,
   "metadata": {},
   "outputs": [],
   "source": [
    "# Calculate mean of returns\n",
    "mean_return = returns.mean()"
   ]
  },
  {
   "cell_type": "code",
   "execution_count": 7,
   "metadata": {},
   "outputs": [],
   "source": [
    "# Calculate standard deviation of returns\n",
    "return_stdev = returns.std()"
   ]
  },
  {
   "cell_type": "code",
   "execution_count": 8,
   "metadata": {},
   "outputs": [],
   "source": [
    "# Calculate covariance matrix\n",
    "cov_matrix = returns.cov()"
   ]
  },
  {
   "cell_type": "code",
   "execution_count": 9,
   "metadata": {},
   "outputs": [],
   "source": [
    "# Hypothetical risk-free rate of return\n",
    "rf = 0.00003"
   ]
  },
  {
   "cell_type": "code",
   "execution_count": 10,
   "metadata": {},
   "outputs": [],
   "source": [
    "# Set the number of simulations\n",
    "num_portfolios = 25000\n",
    "\n",
    "# Initialize simulatio results to all zeros\n",
    "results = np.zeros((3, num_portfolios))\n",
    "\n",
    "for i in range(num_portfolios):\n",
    "    # Generate random weights\n",
    "    weights = np.random.random(len(tickers))\n",
    "    # Normalize the weights and set the sum to 1\n",
    "    weights /= np.sum(weights)\n",
    "    \n",
    "    # Calculate the portfolio return\n",
    "    portfolio_return = weights.T.dot(mean_return * 252)\n",
    "    # Calculate the portfolio volatility\n",
    "    portfolio_stdev = np.sqrt(weights.T.dot(cov_matrix * 252).dot(weights))\n",
    "    \n",
    "    # Store the results in a defined array\n",
    "    results[0,i] = portfolio_return\n",
    "    results[1,i] = portfolio_stdev\n",
    "    # Cacluate the Sharpe ratio and store the result in the array\n",
    "    results[2,i] = (results[0,i] - rf) / results[1,i]"
   ]
  },
  {
   "cell_type": "code",
   "execution_count": 11,
   "metadata": {},
   "outputs": [],
   "source": [
    "# Save the simulations in a dataframe\n",
    "results_df = pd.DataFrame(results.T, columns=['Ret','Vol','Sharpe'])"
   ]
  },
  {
   "cell_type": "code",
   "execution_count": 12,
   "metadata": {},
   "outputs": [
    {
     "data": {
      "image/png": "[encoded data removed]",
      "text/plain": [
       "<Figure size 432x288 with 2 Axes>"
      ]
     },
     "metadata": {
      "needs_background": "light"
     },
     "output_type": "display_data"
    }
   ],
   "source": [
    "# Plot the efficient frontier of the two-stock portfolio simulations\n",
    "plt.scatter(results_df.Vol, results_df.Ret, c=results_df.Sharpe, cmap='RdYlGn')\n",
    "plt.xlabel('Volatility')\n",
    "plt.ylabel('Return')\n",
    "plt.title('Efficient Frontier')\n",
    "plt.colorbar();"
   ]
  },
  {
   "cell_type": "code",
   "execution_count": 13,
   "metadata": {},
   "outputs": [],
   "source": [
    "# Load the stock data\n",
    "df = pd.read_csv('efficient_frontier_data.csv', index_col='Date', parse_dates=True)"
   ]
  },
  {
   "cell_type": "code",
   "execution_count": 14,
   "metadata": {},
   "outputs": [
    {
     "name": "stdout",
     "output_type": "stream",
     "text": [
      "<class 'pandas.core.frame.DataFrame'>\n",
      "DatetimeIndex: 2466 entries, 2010-01-04 to 2019-10-18\n",
      "Data columns (total 4 columns):\n",
      "AAPL    2466 non-null float64\n",
      "IBM     2466 non-null float64\n",
      "MSFT    2466 non-null float64\n",
      "WMT     2466 non-null float64\n",
      "dtypes: float64(4)\n",
      "memory usage: 96.3 KB\n"
     ]
    }
   ],
   "source": [
    "# Print the summary of data\n",
    "df.info()"
   ]
  },
  {
   "cell_type": "code",
   "execution_count": 15,
   "metadata": {},
   "outputs": [],
   "source": [
    "# Make a list of stocks\n",
    "tickers = df.columns"
   ]
  },
  {
   "cell_type": "code",
   "execution_count": 16,
   "metadata": {},
   "outputs": [],
   "source": [
    "# Calcualte the daily returns\n",
    "returns = df.pct_change().dropna()"
   ]
  },
  {
   "cell_type": "code",
   "execution_count": 17,
   "metadata": {},
   "outputs": [],
   "source": [
    "# Calculate mean and standard deviation of returns\n",
    "mean_return = returns.mean()\n",
    "return_stdev = returns.std()"
   ]
  },
  {
   "cell_type": "code",
   "execution_count": 18,
   "metadata": {},
   "outputs": [],
   "source": [
    "# Calcuate covariane of returns\n",
    "cov_matrix = returns.cov()"
   ]
  },
  {
   "cell_type": "code",
   "execution_count": 19,
   "metadata": {},
   "outputs": [],
   "source": [
    "# Hypothetical risk-free rate of return\n",
    "rf = 0.00003"
   ]
  },
  {
   "cell_type": "code",
   "execution_count": 20,
   "metadata": {},
   "outputs": [],
   "source": [
    "# Set the number of simulations\n",
    "num_portfolios = 25000\n",
    "\n",
    "# Initialize simulatio results to all zeros\n",
    "results = np.zeros((3, num_portfolios))\n",
    "\n",
    "for i in range(num_portfolios):\n",
    "    # Generate random weights\n",
    "    weights = np.random.random(len(tickers))\n",
    "    # Normalize the weights and set the sum to 1\n",
    "    weights /= np.sum(weights)\n",
    "    \n",
    "    # Calculate the portfolio return\n",
    "    portfolio_return = weights.T.dot(mean_return * 252)\n",
    "    # Calculate the portfolio volatility\n",
    "    portfolio_stdev = np.sqrt(weights.T.dot(cov_matrix * 252).dot(weights))\n",
    "    \n",
    "    # Store the results in a defined array\n",
    "    results[0,i] = portfolio_return\n",
    "    results[1,i] = portfolio_stdev\n",
    "    # Cacluate the Sharpe ratio and store the result in the array\n",
    "    results[2,i] = (results[0,i] - rf) / results[1,i]"
   ]
  },
  {
   "cell_type": "code",
   "execution_count": 21,
   "metadata": {},
   "outputs": [],
   "source": [
    "# Save the simulations in a dataframe\n",
    "results_df = pd.DataFrame(results.T, columns=['Ret','Vol','Sharpe'])"
   ]
  },
  {
   "cell_type": "code",
   "execution_count": 22,
   "metadata": {},
   "outputs": [
    {
     "data": {
      "image/png": "[encoded data removed]",
      "text/plain": [
       "<Figure size 432x288 with 2 Axes>"
      ]
     },
     "metadata": {
      "needs_background": "light"
     },
     "output_type": "display_data"
    }
   ],
   "source": [
    "# Plot the efficient frontier of multi-stock portfolio simulations\n",
    "plt.scatter(results_df.Vol, results_df.Ret, c=results_df.Sharpe, cmap='RdYlGn')\n",
    "plt.xlabel('Volatility')\n",
    "plt.ylabel('Return')\n",
    "plt.title('Efficient Frontier')\n",
    "plt.colorbar();"
   ]
  },
  {
   "cell_type": "code",
   "execution_count": null,
   "metadata": {},
   "outputs": [],
   "source": []
  }
 ],
 "metadata": {
  "kernelspec": {
   "display_name": "Python 3",
   "language": "python",
   "name": "python3"
  },
  "language_info": {
   "codemirror_mode": {
    "name": "ipython",
    "version": 3
   },
   "file_extension": ".py",
   "mimetype": "text/x-python",
   "name": "python",
   "nbconvert_exporter": "python",
   "pygments_lexer": "ipython3",
   "version": "3.6.8"
  },
  "toc": {
   "base_numbering": 1,
   "nav_menu": {},
   "number_sections": true,
   "sideBar": true,
   "skip_h1_title": true,
   "title_cell": "Table of Contents",
   "title_sidebar": "Contents",
   "toc_cell": true,
   "toc_position": {},
   "toc_section_display": true,
   "toc_window_display": false
  }
 },
 "nbformat": 4,
 "nbformat_minor": 2
}
